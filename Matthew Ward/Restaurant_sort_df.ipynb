{
 "cells": [
  {
   "cell_type": "code",
   "execution_count": 1,
   "id": "d0e1a5dc",
   "metadata": {},
   "outputs": [],
   "source": [
    "# Dependencies\n",
    "import numpy as np\n",
    "import pandas as pd\n",
    "import matplotlib.pyplot as plt\n",
    "import requests\n",
    "import json\n",
    "from census import Census\n",
    "from pprint import pprint\n",
    "from scipy.stats import linregress\n",
    "import gmaps\n",
    "\n",
    "\n",
    "# Google API Key\n",
    "from config import gkey\n",
    "\n",
    "# Access maps with unique API key\n",
    "gmaps.configure(api_key=gkey)"
   ]
  },
  {
   "cell_type": "markdown",
   "id": "882c38bf",
   "metadata": {},
   "source": [
    "# Denver"
   ]
  },
  {
   "cell_type": "code",
   "execution_count": 2,
   "id": "f984b318",
   "metadata": {},
   "outputs": [
    {
     "name": "stdout",
     "output_type": "stream",
     "text": [
      "Restaurant has no price level. Skipping...\n",
      "Restaurant has no price level. Skipping...\n",
      "Restaurant has no price level. Skipping...\n",
      "Restaurant has no price level. Skipping...\n",
      "Restaurant has no price level. Skipping...\n",
      "Restaurant has no price level. Skipping...\n"
     ]
    }
   ],
   "source": [
    "target_coordinates = \"39.7621, -104.8759\"\n",
    "target_search = \"restaurant\"\n",
    "# Units in meters\n",
    "target_radius = 5000\n",
    "target_type = \"restaurant\"\n",
    "\n",
    "# set up a parameters dictionary\n",
    "params = {\n",
    "    \"location\": target_coordinates,\n",
    "    \"keyword\": target_search,\n",
    "    \"radius\": target_radius,\n",
    "    \"type\": target_type,\n",
    "    \"key\": gkey\n",
    "}\n",
    "\n",
    "# base url\n",
    "base_url = \"https://maps.googleapis.com/maps/api/place/nearbysearch/json\"\n",
    "\n",
    "\n",
    "# run a request using our params dictionary\n",
    "response = requests.get(base_url, params=params)\n",
    "\n",
    "# convert response to json\n",
    "places_data = response.json()\n",
    "\n",
    "name = []\n",
    "rating = []\n",
    "user_ratings_total = []\n",
    "latitude = []\n",
    "longitude = []\n",
    "business_status = [] \n",
    "price_level = []\n",
    "vicinity = []\n",
    "\n",
    "for r in range(len(places_data[\"results\"])):\n",
    "    #try/except block\n",
    "    try:\n",
    "        business_status.append(places_data[\"results\"][r][\"business_status\"])\n",
    "        latitude.append(places_data[\"results\"][r][\"geometry\"][\"location\"][\"lat\"])\n",
    "        longitude.append(places_data[\"results\"][r][\"geometry\"][\"location\"][\"lng\"])\n",
    "        name.append(places_data[\"results\"][r][\"name\"])\n",
    "        rating.append(places_data[\"results\"][r][\"rating\"])\n",
    "        user_ratings_total.append(places_data[\"results\"][r][\"user_ratings_total\"])\n",
    "        vicinity.append(places_data[\"results\"][r][\"vicinity\"])\n",
    "        price_level.append(places_data[\"results\"][r][\"price_level\"])\n",
    "    except Exception:\n",
    "    #if there is a 0 the restaurant has no price level ascoiated with it.\n",
    "        print(\"Restaurant has no price level. Skipping...\")\n",
    "   \n",
    "        price_level.append(0)\n",
    "\n",
    "   \n",
    "review_dict = {\n",
    "    \"Restaurant\":name,\n",
    "    \"Rating\":rating,\n",
    "    \"price_level\":price_level,\n",
    "    \"user_ratings_total\":user_ratings_total,\n",
    "    \"latitude\":latitude,\n",
    "    \"longitude\":longitude,\n",
    "    \"vicinity\":vicinity,\n",
    "    \"Business Status\":business_status\n",
    "    \n",
    "    \n",
    "} \n",
    "# establish dataframe\n",
    "denver_dataframe = pd.DataFrame(review_dict)\n",
    "denver_dataframe['City']='Denver'\n",
    "# denver_dataframe"
   ]
  },
  {
   "cell_type": "markdown",
   "id": "d11118a3",
   "metadata": {},
   "source": [
    "# Chicago"
   ]
  },
  {
   "cell_type": "code",
   "execution_count": 3,
   "id": "e53cd769",
   "metadata": {},
   "outputs": [
    {
     "name": "stdout",
     "output_type": "stream",
     "text": [
      "Restaurant has no price level. Skipping...\n"
     ]
    }
   ],
   "source": [
    "target_coordinates = \"41.8373, -87.6862\"\n",
    "target_search = \"restaurant\"\n",
    "# Units in meters\n",
    "target_radius = 5000\n",
    "target_type = \"restaurant\"\n",
    "\n",
    "# set up a parameters dictionary\n",
    "params = {\n",
    "    \"location\": target_coordinates,\n",
    "    \"keyword\": target_search,\n",
    "    \"radius\": target_radius,\n",
    "    \"type\": target_type,\n",
    "    \"key\": gkey\n",
    "}\n",
    "\n",
    "# base url\n",
    "base_url = \"https://maps.googleapis.com/maps/api/place/nearbysearch/json\"\n",
    "\n",
    "# run a request using our params dictionary\n",
    "response = requests.get(base_url, params=params)\n",
    "\n",
    "# convert response to json\n",
    "places_data = response.json()\n",
    "\n",
    "name = []\n",
    "rating = []\n",
    "user_ratings_total = []\n",
    "latitude = []\n",
    "longitude = []\n",
    "business_status = [] \n",
    "price_level = []\n",
    "vicinity = []\n",
    "\n",
    "for r in range(len(places_data[\"results\"])):\n",
    "    #try/except block\n",
    "    try:\n",
    "        business_status.append(places_data[\"results\"][r][\"business_status\"])\n",
    "        latitude.append(places_data[\"results\"][r][\"geometry\"][\"location\"][\"lat\"])\n",
    "        longitude.append(places_data[\"results\"][r][\"geometry\"][\"location\"][\"lng\"])\n",
    "        name.append(places_data[\"results\"][r][\"name\"])\n",
    "        rating.append(places_data[\"results\"][r][\"rating\"])\n",
    "        user_ratings_total.append(places_data[\"results\"][r][\"user_ratings_total\"])\n",
    "        vicinity.append(places_data[\"results\"][r][\"vicinity\"])\n",
    "        price_level.append(places_data[\"results\"][r][\"price_level\"])\n",
    "    except Exception:\n",
    "    #if there is a 0 the restaurant has no price level ascoiated with it.\n",
    "        print(\"Restaurant has no price level. Skipping...\")\n",
    "   \n",
    "        price_level.append(0)\n",
    "\n",
    "   \n",
    "review_dict = {\n",
    "    \"Restaurant\":name,\n",
    "    \"Rating\":rating,\n",
    "    \"price_level\":price_level,\n",
    "    \"user_ratings_total\":user_ratings_total,\n",
    "    \"latitude\":latitude,\n",
    "    \"longitude\":longitude,\n",
    "    \"vicinity\":vicinity,\n",
    "    \"Business Status\":business_status\n",
    "    \n",
    "    \n",
    "} \n",
    "# establish dataframe\n",
    "chicago_dataframe = pd.DataFrame(review_dict)\n",
    "chicago_dataframe['City']='Chicago'\n",
    "# chicago_dataframe"
   ]
  },
  {
   "cell_type": "markdown",
   "id": "d1a90e2f",
   "metadata": {},
   "source": [
    "# New Orleans"
   ]
  },
  {
   "cell_type": "code",
   "execution_count": 4,
   "id": "e5ed42d5",
   "metadata": {},
   "outputs": [
    {
     "name": "stdout",
     "output_type": "stream",
     "text": [
      "Restaurant has no price level. Skipping...\n",
      "Restaurant has no price level. Skipping...\n",
      "Restaurant has no price level. Skipping...\n",
      "Restaurant has no price level. Skipping...\n",
      "Restaurant has no price level. Skipping...\n",
      "Restaurant has no price level. Skipping...\n",
      "Restaurant has no price level. Skipping...\n",
      "Restaurant has no price level. Skipping...\n",
      "Restaurant has no price level. Skipping...\n"
     ]
    }
   ],
   "source": [
    "target_coordinates = \"30.0687, -89.9288\"\n",
    "target_search = \"restaurant\"\n",
    "# Units in meters\n",
    "target_radius = 5000\n",
    "target_type = \"restaurant\"\n",
    "\n",
    "# set up a parameters dictionary\n",
    "params = {\n",
    "    \"location\": target_coordinates,\n",
    "    \"keyword\": target_search,\n",
    "    \"radius\": target_radius,\n",
    "    \"type\": target_type,\n",
    "    \"key\": gkey\n",
    "}\n",
    "\n",
    "# base url\n",
    "base_url = \"https://maps.googleapis.com/maps/api/place/nearbysearch/json\"\n",
    "\n",
    "# run a request using our params dictionary\n",
    "response = requests.get(base_url, params=params)\n",
    "\n",
    "# convert response to json\n",
    "places_data = response.json()\n",
    "\n",
    "name = []\n",
    "rating = []\n",
    "user_ratings_total = []\n",
    "latitude = []\n",
    "longitude = []\n",
    "business_status = [] \n",
    "price_level = []\n",
    "vicinity = []\n",
    "\n",
    "for r in range(len(places_data[\"results\"])):\n",
    "    #try/except block\n",
    "    try:\n",
    "        business_status.append(places_data[\"results\"][r][\"business_status\"])\n",
    "        latitude.append(places_data[\"results\"][r][\"geometry\"][\"location\"][\"lat\"])\n",
    "        longitude.append(places_data[\"results\"][r][\"geometry\"][\"location\"][\"lng\"])\n",
    "        name.append(places_data[\"results\"][r][\"name\"])\n",
    "        rating.append(places_data[\"results\"][r][\"rating\"])\n",
    "        user_ratings_total.append(places_data[\"results\"][r][\"user_ratings_total\"])\n",
    "        vicinity.append(places_data[\"results\"][r][\"vicinity\"])\n",
    "        price_level.append(places_data[\"results\"][r][\"price_level\"])\n",
    "    except Exception:\n",
    "    #if there is a 0 the restaurant has no price level ascoiated with it.\n",
    "        print(\"Restaurant has no price level. Skipping...\")\n",
    "   \n",
    "        price_level.append(0)\n",
    "\n",
    "   \n",
    "review_dict = {\n",
    "    \"Restaurant\":name,\n",
    "    \"Rating\":rating,\n",
    "    \"price_level\":price_level,\n",
    "    \"user_ratings_total\":user_ratings_total,\n",
    "    \"latitude\":latitude,\n",
    "    \"longitude\":longitude,\n",
    "    \"vicinity\":vicinity,\n",
    "    \"Business Status\":business_status    \n",
    "} \n",
    "# establish dataframe\n",
    "new_orleans_dataframe = pd.DataFrame(review_dict)\n",
    "new_orleans_dataframe['City']='New Orleans'\n",
    "# new_orleans_dataframe"
   ]
  },
  {
   "cell_type": "markdown",
   "id": "29cb37fd",
   "metadata": {},
   "source": [
    "# Jacksonville"
   ]
  },
  {
   "cell_type": "code",
   "execution_count": 5,
   "id": "775214d0",
   "metadata": {},
   "outputs": [
    {
     "name": "stdout",
     "output_type": "stream",
     "text": [
      "Restaurant has no price level. Skipping...\n",
      "Restaurant has no price level. Skipping...\n",
      "Restaurant has no price level. Skipping...\n"
     ]
    }
   ],
   "source": [
    "target_coordinates = \"30.3322, -81.6749\"\n",
    "target_search = \"restaurant\"\n",
    "# Units in meters\n",
    "target_radius = 5000\n",
    "target_type = \"restaurant\"\n",
    "\n",
    "# set up a parameters dictionary\n",
    "params = {\n",
    "    \"location\": target_coordinates,\n",
    "    \"keyword\": target_search,\n",
    "    \"radius\": target_radius,\n",
    "    \"type\": target_type,\n",
    "    \"key\": gkey\n",
    "}\n",
    "\n",
    "# base url\n",
    "base_url = \"https://maps.googleapis.com/maps/api/place/nearbysearch/json\"\n",
    "\n",
    "# run a request using our params dictionary\n",
    "response = requests.get(base_url, params=params)\n",
    "\n",
    "# convert response to json\n",
    "places_data = response.json()\n",
    "    \n",
    "\n",
    "\n",
    "name = []\n",
    "rating = []\n",
    "user_ratings_total = []\n",
    "latitude = []\n",
    "longitude = []\n",
    "business_status = [] \n",
    "price_level = []\n",
    "vicinity = []\n",
    "\n",
    "for r in range(len(places_data[\"results\"])):\n",
    "    #try/except block\n",
    "    try:\n",
    "        business_status.append(places_data[\"results\"][r][\"business_status\"])\n",
    "        latitude.append(places_data[\"results\"][r][\"geometry\"][\"location\"][\"lat\"])\n",
    "        longitude.append(places_data[\"results\"][r][\"geometry\"][\"location\"][\"lng\"])\n",
    "        name.append(places_data[\"results\"][r][\"name\"])\n",
    "        rating.append(places_data[\"results\"][r][\"rating\"])\n",
    "        user_ratings_total.append(places_data[\"results\"][r][\"user_ratings_total\"])\n",
    "        vicinity.append(places_data[\"results\"][r][\"vicinity\"])\n",
    "        price_level.append(places_data[\"results\"][r][\"price_level\"])\n",
    "    except Exception:\n",
    "    #if there is a 0 the restaurant has no price level ascoiated with it.\n",
    "        print(\"Restaurant has no price level. Skipping...\")\n",
    "   \n",
    "        price_level.append(0)\n",
    "\n",
    "   \n",
    "review_dict = {\n",
    "    \"Restaurant\":name,\n",
    "    \"Rating\":rating,\n",
    "    \"price_level\":price_level,\n",
    "    \"user_ratings_total\":user_ratings_total,\n",
    "    \"latitude\":latitude,\n",
    "    \"longitude\":longitude,\n",
    "    \"vicinity\":vicinity,\n",
    "    \"Business Status\":business_status    \n",
    "} \n",
    "# establish dataframe\n",
    "jacksonville_dataframe = pd.DataFrame(review_dict)\n",
    "jacksonville_dataframe['City']='Jacksonville'\n",
    "# jacksonville_dataframe"
   ]
  },
  {
   "cell_type": "markdown",
   "id": "01aec395",
   "metadata": {},
   "source": [
    "# Memphis"
   ]
  },
  {
   "cell_type": "code",
   "execution_count": 6,
   "id": "d199968d",
   "metadata": {},
   "outputs": [
    {
     "name": "stdout",
     "output_type": "stream",
     "text": [
      "Restaurant has no price level. Skipping...\n",
      "Restaurant has no price level. Skipping...\n"
     ]
    }
   ],
   "source": [
    "target_coordinates = \"35.1046, -89.9773\"\n",
    "target_search = \"restaurant\"\n",
    "# Units in meters\n",
    "target_radius = 5000\n",
    "target_type = \"restaurant\"\n",
    "\n",
    "# set up a parameters dictionary\n",
    "params = {\n",
    "    \"location\": target_coordinates,\n",
    "    \"keyword\": target_search,\n",
    "    \"radius\": target_radius,\n",
    "    \"type\": target_type,\n",
    "    \"key\": gkey\n",
    "}\n",
    "\n",
    "# base url\n",
    "base_url = \"https://maps.googleapis.com/maps/api/place/nearbysearch/json\"\n",
    "\n",
    "# run a request using our params dictionary\n",
    "response = requests.get(base_url, params=params)\n",
    "\n",
    "# convert response to json\n",
    "places_data = response.json()\n",
    "\n",
    "name = []\n",
    "rating = []\n",
    "user_ratings_total = []\n",
    "latitude = []\n",
    "longitude = []\n",
    "business_status = [] \n",
    "price_level = []\n",
    "vicinity = []\n",
    "\n",
    "for r in range(len(places_data[\"results\"])):\n",
    "    #try/except block\n",
    "    try:\n",
    "        business_status.append(places_data[\"results\"][r][\"business_status\"])\n",
    "        latitude.append(places_data[\"results\"][r][\"geometry\"][\"location\"][\"lat\"])\n",
    "        longitude.append(places_data[\"results\"][r][\"geometry\"][\"location\"][\"lng\"])\n",
    "        name.append(places_data[\"results\"][r][\"name\"])\n",
    "        rating.append(places_data[\"results\"][r][\"rating\"])\n",
    "        user_ratings_total.append(places_data[\"results\"][r][\"user_ratings_total\"])\n",
    "        vicinity.append(places_data[\"results\"][r][\"vicinity\"])\n",
    "        price_level.append(places_data[\"results\"][r][\"price_level\"])\n",
    "    except Exception:\n",
    "    #if there is a 0 the restaurant has no price level ascoiated with it.\n",
    "        print(\"Restaurant has no price level. Skipping...\")\n",
    "   \n",
    "        price_level.append(0)\n",
    "\n",
    "   \n",
    "review_dict = {\n",
    "    \"Restaurant\":name,\n",
    "    \"Rating\":rating,\n",
    "    \"price_level\":price_level,\n",
    "    \"user_ratings_total\":user_ratings_total,\n",
    "    \"latitude\":latitude,\n",
    "    \"longitude\":longitude,\n",
    "    \"vicinity\":vicinity,\n",
    "    \"Business Status\":business_status    \n",
    "} \n",
    "# establish dataframe\n",
    "memphis_dataframe = pd.DataFrame(review_dict)\n",
    "memphis_dataframe['City']='Memphis'\n",
    "# memphis_dataframe"
   ]
  },
  {
   "cell_type": "markdown",
   "id": "c9c60ec4",
   "metadata": {},
   "source": [
    "# Raleigh"
   ]
  },
  {
   "cell_type": "code",
   "execution_count": 7,
   "id": "b3d455e3",
   "metadata": {},
   "outputs": [
    {
     "name": "stdout",
     "output_type": "stream",
     "text": [
      "Restaurant has no price level. Skipping...\n",
      "Restaurant has no price level. Skipping...\n",
      "Restaurant has no price level. Skipping...\n"
     ]
    }
   ],
   "source": [
    "target_coordinates = \"35.8325, -78.6435\"\n",
    "target_search = \"restaurant\"\n",
    "# meters is the units\n",
    "target_radius = 5000\n",
    "target_type = \"restaurant\"\n",
    "\n",
    "# set up a parameters dictionary\n",
    "params = {\n",
    "    \"location\": target_coordinates,\n",
    "    \"keyword\": target_search,\n",
    "    \"radius\": target_radius,\n",
    "    \"type\": target_type,\n",
    "    \"key\": gkey\n",
    "}\n",
    "\n",
    "# base url\n",
    "base_url = \"https://maps.googleapis.com/maps/api/place/nearbysearch/json\"\n",
    "\n",
    "# run a request using our params dictionary\n",
    "response = requests.get(base_url, params=params)\n",
    "\n",
    "# convert response to json\n",
    "places_data = response.json()\n",
    "\n",
    "name = []\n",
    "rating = []\n",
    "user_ratings_total = []\n",
    "latitude = []\n",
    "longitude = []\n",
    "business_status = [] \n",
    "price_level = []\n",
    "vicinity = []\n",
    "\n",
    "for r in range(len(places_data[\"results\"])):\n",
    "    #try/except block\n",
    "    try:\n",
    "        business_status.append(places_data[\"results\"][r][\"business_status\"])\n",
    "        latitude.append(places_data[\"results\"][r][\"geometry\"][\"location\"][\"lat\"])\n",
    "        longitude.append(places_data[\"results\"][r][\"geometry\"][\"location\"][\"lng\"])\n",
    "        name.append(places_data[\"results\"][r][\"name\"])\n",
    "        rating.append(places_data[\"results\"][r][\"rating\"])\n",
    "        user_ratings_total.append(places_data[\"results\"][r][\"user_ratings_total\"])\n",
    "        vicinity.append(places_data[\"results\"][r][\"vicinity\"])\n",
    "        price_level.append(places_data[\"results\"][r][\"price_level\"])\n",
    "    except Exception:\n",
    "    #if there is a 0 the restaurant has no price level ascoiated with it.\n",
    "        print(\"Restaurant has no price level. Skipping...\")\n",
    "   \n",
    "        price_level.append(0)\n",
    "\n",
    "   \n",
    "review_dict = {\n",
    "    \"Restaurant\":name,\n",
    "    \"Rating\":rating,\n",
    "    \"price_level\":price_level,\n",
    "    \"user_ratings_total\":user_ratings_total,\n",
    "    \"latitude\":latitude,\n",
    "    \"longitude\":longitude,\n",
    "    \"vicinity\":vicinity,\n",
    "    \"Business Status\":business_status   \n",
    "} \n",
    "# establish dataframe\n",
    "raleigh_dataframe = pd.DataFrame(review_dict)\n",
    "raleigh_dataframe['City']='Raleigh'\n",
    "# raleigh_dataframe"
   ]
  },
  {
   "cell_type": "markdown",
   "id": "2314a4db",
   "metadata": {},
   "source": [
    "# Baltimore"
   ]
  },
  {
   "cell_type": "code",
   "execution_count": 8,
   "id": "204abf80",
   "metadata": {},
   "outputs": [
    {
     "name": "stdout",
     "output_type": "stream",
     "text": [
      "Restaurant has no price level. Skipping...\n",
      "Restaurant has no price level. Skipping...\n",
      "Restaurant has no price level. Skipping...\n",
      "Restaurant has no price level. Skipping...\n"
     ]
    }
   ],
   "source": [
    "target_coordinates = \"39.3051, -76.6144\"\n",
    "target_search = \"restaurant\"\n",
    "# meters is the units\n",
    "target_radius = 5000\n",
    "target_type = \"restaurant\"\n",
    "\n",
    "# set up a parameters dictionary\n",
    "params = {\n",
    "    \"location\": target_coordinates,\n",
    "    \"keyword\": target_search,\n",
    "    \"radius\": target_radius,\n",
    "    \"type\": target_type,\n",
    "    \"key\": gkey\n",
    "}\n",
    "\n",
    "# base url\n",
    "base_url = \"https://maps.googleapis.com/maps/api/place/nearbysearch/json\"\n",
    "\n",
    "# run a request using our params dictionary\n",
    "response = requests.get(base_url, params=params)\n",
    "\n",
    "# convert response to json\n",
    "places_data = response.json()\n",
    "\n",
    "name = []\n",
    "rating = []\n",
    "user_ratings_total = []\n",
    "latitude = []\n",
    "longitude = []\n",
    "business_status = [] \n",
    "price_level = []\n",
    "vicinity = []\n",
    "\n",
    "for r in range(len(places_data[\"results\"])):\n",
    "    #try/except block\n",
    "    try:\n",
    "        business_status.append(places_data[\"results\"][r][\"business_status\"])\n",
    "        latitude.append(places_data[\"results\"][r][\"geometry\"][\"location\"][\"lat\"])\n",
    "        longitude.append(places_data[\"results\"][r][\"geometry\"][\"location\"][\"lng\"])\n",
    "        name.append(places_data[\"results\"][r][\"name\"])\n",
    "        rating.append(places_data[\"results\"][r][\"rating\"])\n",
    "        user_ratings_total.append(places_data[\"results\"][r][\"user_ratings_total\"])\n",
    "        vicinity.append(places_data[\"results\"][r][\"vicinity\"])\n",
    "        price_level.append(places_data[\"results\"][r][\"price_level\"])\n",
    "    except Exception:\n",
    "    #if there is a 0 the restaurant has no price level ascoiated with it.\n",
    "        print(\"Restaurant has no price level. Skipping...\")\n",
    "   \n",
    "        price_level.append(0)\n",
    "\n",
    "   \n",
    "review_dict = {\n",
    "    \"Restaurant\":name,\n",
    "    \"Rating\":rating,\n",
    "    \"price_level\":price_level,\n",
    "    \"user_ratings_total\":user_ratings_total,\n",
    "    \"latitude\":latitude,\n",
    "    \"longitude\":longitude,\n",
    "    \"vicinity\":vicinity,\n",
    "    \"Business Status\":business_status    \n",
    "} \n",
    "# establish dataframe\n",
    "baltimore_dataframe = pd.DataFrame(review_dict)\n",
    "baltimore_dataframe['City']='Baltimore'\n",
    "# baltimore_dataframe"
   ]
  },
  {
   "cell_type": "markdown",
   "id": "65260bf5",
   "metadata": {},
   "source": [
    "# St. Louis"
   ]
  },
  {
   "cell_type": "code",
   "execution_count": 9,
   "id": "de644e59",
   "metadata": {},
   "outputs": [
    {
     "name": "stdout",
     "output_type": "stream",
     "text": [
      "Restaurant has no price level. Skipping...\n",
      "Restaurant has no price level. Skipping...\n",
      "Restaurant has no price level. Skipping...\n"
     ]
    }
   ],
   "source": [
    "target_coordinates = \"38.6358, -90.2451\"\n",
    "target_search = \"restaurant\"\n",
    "# meters is the units\n",
    "target_radius = 5000\n",
    "target_type = \"restaurant\"\n",
    "\n",
    "# set up a parameters dictionary\n",
    "params = {\n",
    "    \"location\": target_coordinates,\n",
    "    \"keyword\": target_search,\n",
    "    \"radius\": target_radius,\n",
    "    \"type\": target_type,\n",
    "    \"key\": gkey\n",
    "}\n",
    "\n",
    "# base url\n",
    "base_url = \"https://maps.googleapis.com/maps/api/place/nearbysearch/json\"\n",
    "\n",
    "# run a request using our params dictionary\n",
    "response = requests.get(base_url, params=params)\n",
    "\n",
    "# convert response to json\n",
    "places_data = response.json()\n",
    "\n",
    "name = []\n",
    "rating = []\n",
    "user_ratings_total = []\n",
    "latitude = []\n",
    "longitude = []\n",
    "business_status = [] \n",
    "price_level = []\n",
    "vicinity = []\n",
    "\n",
    "for r in range(len(places_data[\"results\"])):\n",
    "    #try/except block\n",
    "    try:\n",
    "        business_status.append(places_data[\"results\"][r][\"business_status\"])\n",
    "        latitude.append(places_data[\"results\"][r][\"geometry\"][\"location\"][\"lat\"])\n",
    "        longitude.append(places_data[\"results\"][r][\"geometry\"][\"location\"][\"lng\"])\n",
    "        name.append(places_data[\"results\"][r][\"name\"])\n",
    "        rating.append(places_data[\"results\"][r][\"rating\"])\n",
    "        user_ratings_total.append(places_data[\"results\"][r][\"user_ratings_total\"])\n",
    "        vicinity.append(places_data[\"results\"][r][\"vicinity\"])\n",
    "        price_level.append(places_data[\"results\"][r][\"price_level\"])\n",
    "    except Exception:\n",
    "    #if there is a 0 the restaurant has no price level ascoiated with it.\n",
    "        print(\"Restaurant has no price level. Skipping...\")\n",
    "   \n",
    "        price_level.append(0)\n",
    "\n",
    "   \n",
    "review_dict = {\n",
    "    \"Restaurant\":name,\n",
    "    \"Rating\":rating,\n",
    "    \"price_level\":price_level,\n",
    "    \"user_ratings_total\":user_ratings_total,\n",
    "    \"latitude\":latitude,\n",
    "    \"longitude\":longitude,\n",
    "    \"vicinity\":vicinity,\n",
    "    \"Business Status\":business_status   \n",
    "} \n",
    "# establish dataframe\n",
    "st_louis_dataframe = pd.DataFrame(review_dict)\n",
    "st_louis_dataframe['City']='St. Louis'\n",
    "# st_louis_dataframe"
   ]
  },
  {
   "cell_type": "markdown",
   "id": "18c5d846",
   "metadata": {},
   "source": [
    "# Washington"
   ]
  },
  {
   "cell_type": "code",
   "execution_count": 10,
   "id": "deea14ed",
   "metadata": {},
   "outputs": [
    {
     "name": "stdout",
     "output_type": "stream",
     "text": [
      "Restaurant has no price level. Skipping...\n",
      "Restaurant has no price level. Skipping...\n"
     ]
    }
   ],
   "source": [
    "target_coordinates = \"38.9047, -77.0163\"\n",
    "target_search = \"restaurant\"\n",
    "# meters is the units\n",
    "target_radius = 5000\n",
    "target_type = \"restaurant\"\n",
    "\n",
    "# set up a parameters dictionary\n",
    "params = {\n",
    "    \"location\": target_coordinates,\n",
    "    \"keyword\": target_search,\n",
    "    \"radius\": target_radius,\n",
    "    \"type\": target_type,\n",
    "    \"key\": gkey\n",
    "}\n",
    "\n",
    "# base url\n",
    "base_url = \"https://maps.googleapis.com/maps/api/place/nearbysearch/json\"\n",
    "\n",
    "\n",
    "# run a request using our params dictionary\n",
    "response = requests.get(base_url, params=params)\n",
    "\n",
    "# convert response to json\n",
    "places_data = response.json()\n",
    "\n",
    "name = []\n",
    "rating = []\n",
    "user_ratings_total = []\n",
    "latitude = []\n",
    "longitude = []\n",
    "business_status = [] \n",
    "price_level = []\n",
    "vicinity = []\n",
    "\n",
    "for r in range(len(places_data[\"results\"])):\n",
    "    #try/except block\n",
    "    try:\n",
    "        business_status.append(places_data[\"results\"][r][\"business_status\"])\n",
    "        latitude.append(places_data[\"results\"][r][\"geometry\"][\"location\"][\"lat\"])\n",
    "        longitude.append(places_data[\"results\"][r][\"geometry\"][\"location\"][\"lng\"])\n",
    "        name.append(places_data[\"results\"][r][\"name\"])\n",
    "        rating.append(places_data[\"results\"][r][\"rating\"])\n",
    "        user_ratings_total.append(places_data[\"results\"][r][\"user_ratings_total\"])\n",
    "        vicinity.append(places_data[\"results\"][r][\"vicinity\"])\n",
    "        price_level.append(places_data[\"results\"][r][\"price_level\"])\n",
    "    except Exception:\n",
    "    #if there is a 0 the restaurant has no price level ascoiated with it.\n",
    "        print(\"Restaurant has no price level. Skipping...\")\n",
    "   \n",
    "        price_level.append(0)\n",
    "\n",
    "   \n",
    "review_dict = {    \n",
    "    \"Restaurant\":name,\n",
    "    \"Rating\":rating,\n",
    "    \"price_level\":price_level,\n",
    "    \"user_ratings_total\":user_ratings_total,\n",
    "    \"latitude\":latitude,\n",
    "    \"longitude\":longitude,\n",
    "    \"vicinity\":vicinity,\n",
    "    \"Business Status\":business_status   \n",
    "} \n",
    "# establish dataframe\n",
    "washington_dataframe = pd.DataFrame(review_dict)\n",
    "washington_dataframe['City']='Washington'\n",
    "# washington_dataframe"
   ]
  },
  {
   "cell_type": "markdown",
   "id": "b9f27da5",
   "metadata": {},
   "source": [
    "# Providence"
   ]
  },
  {
   "cell_type": "code",
   "execution_count": 11,
   "id": "38faff52",
   "metadata": {},
   "outputs": [
    {
     "name": "stdout",
     "output_type": "stream",
     "text": [
      "Restaurant has no price level. Skipping...\n",
      "Restaurant has no price level. Skipping...\n",
      "Restaurant has no price level. Skipping...\n"
     ]
    }
   ],
   "source": [
    "target_coordinates = \"41.8230, -71.4187\"\n",
    "target_search = \"restaurant\"\n",
    "# meters is the units\n",
    "target_radius = 5000\n",
    "target_type = \"restaurant\"\n",
    "\n",
    "# set up a parameters dictionary\n",
    "params = {\n",
    "    \"location\": target_coordinates,\n",
    "    \"keyword\": target_search,\n",
    "    \"radius\": target_radius,\n",
    "    \"type\": target_type,\n",
    "    \"key\": gkey\n",
    "}\n",
    "\n",
    "# base url\n",
    "base_url = \"https://maps.googleapis.com/maps/api/place/nearbysearch/json\"\n",
    "\n",
    "# run a request using our params dictionary\n",
    "response = requests.get(base_url, params=params)\n",
    "\n",
    "# convert response to json\n",
    "places_data = response.json()\n",
    "\n",
    "name = []\n",
    "rating = []\n",
    "user_ratings_total = []\n",
    "latitude = []\n",
    "longitude = []\n",
    "business_status = [] \n",
    "price_level = []\n",
    "vicinity = []\n",
    "\n",
    "for r in range(len(places_data[\"results\"])):\n",
    "    #try/except block\n",
    "    try:\n",
    "        business_status.append(places_data[\"results\"][r][\"business_status\"])\n",
    "        latitude.append(places_data[\"results\"][r][\"geometry\"][\"location\"][\"lat\"])\n",
    "        longitude.append(places_data[\"results\"][r][\"geometry\"][\"location\"][\"lng\"])\n",
    "        name.append(places_data[\"results\"][r][\"name\"])\n",
    "        rating.append(places_data[\"results\"][r][\"rating\"])\n",
    "        user_ratings_total.append(places_data[\"results\"][r][\"user_ratings_total\"])\n",
    "        vicinity.append(places_data[\"results\"][r][\"vicinity\"])\n",
    "        price_level.append(places_data[\"results\"][r][\"price_level\"])\n",
    "    except Exception:\n",
    "    #if there is a 0 the restaurant has no price level ascoiated with it.\n",
    "        print(\"Restaurant has no price level. Skipping...\")\n",
    "   \n",
    "        price_level.append(0)\n",
    "\n",
    "   \n",
    "review_dict = {   \n",
    "    \"Restaurant\":name,\n",
    "    \"Rating\":rating,\n",
    "    \"price_level\":price_level,\n",
    "    \"user_ratings_total\":user_ratings_total,\n",
    "    \"latitude\":latitude,\n",
    "    \"longitude\":longitude,\n",
    "    \"vicinity\":vicinity,\n",
    "    \"Business Status\":business_status    \n",
    "} \n",
    "# establish dataframe\n",
    "providence_dataframe = pd.DataFrame(review_dict)\n",
    "providence_dataframe['City']='Providence'\n",
    "# providence_dataframe"
   ]
  },
  {
   "cell_type": "code",
   "execution_count": 12,
   "id": "10d9dd42",
   "metadata": {},
   "outputs": [
    {
     "data": {
      "text/html": [
       "<div>\n",
       "<style scoped>\n",
       "    .dataframe tbody tr th:only-of-type {\n",
       "        vertical-align: middle;\n",
       "    }\n",
       "\n",
       "    .dataframe tbody tr th {\n",
       "        vertical-align: top;\n",
       "    }\n",
       "\n",
       "    .dataframe thead th {\n",
       "        text-align: right;\n",
       "    }\n",
       "</style>\n",
       "<table border=\"1\" class=\"dataframe\">\n",
       "  <thead>\n",
       "    <tr style=\"text-align: right;\">\n",
       "      <th></th>\n",
       "      <th>Restaurant</th>\n",
       "      <th>Rating</th>\n",
       "      <th>price_level</th>\n",
       "      <th>user_ratings_total</th>\n",
       "      <th>latitude</th>\n",
       "      <th>longitude</th>\n",
       "      <th>vicinity</th>\n",
       "      <th>Business Status</th>\n",
       "      <th>City</th>\n",
       "    </tr>\n",
       "  </thead>\n",
       "  <tbody>\n",
       "    <tr>\n",
       "      <th>0</th>\n",
       "      <td>Rocky Mountain Sudanese's restaurant</td>\n",
       "      <td>4.9</td>\n",
       "      <td>0</td>\n",
       "      <td>86</td>\n",
       "      <td>39.739778</td>\n",
       "      <td>-104.869816</td>\n",
       "      <td>10180 E Colfax Ave, Aurora</td>\n",
       "      <td>CLOSED_TEMPORARILY</td>\n",
       "      <td>Denver</td>\n",
       "    </tr>\n",
       "    <tr>\n",
       "      <th>1</th>\n",
       "      <td>FIFTY300 Restaurant</td>\n",
       "      <td>3.8</td>\n",
       "      <td>0</td>\n",
       "      <td>21</td>\n",
       "      <td>39.770339</td>\n",
       "      <td>-104.903993</td>\n",
       "      <td>3801 Quebec St, Denver</td>\n",
       "      <td>OPERATIONAL</td>\n",
       "      <td>Denver</td>\n",
       "    </tr>\n",
       "    <tr>\n",
       "      <th>2</th>\n",
       "      <td>Ted'z Place Restaurant and Lounge</td>\n",
       "      <td>4.5</td>\n",
       "      <td>2</td>\n",
       "      <td>815</td>\n",
       "      <td>39.791361</td>\n",
       "      <td>-104.926156</td>\n",
       "      <td>5271 E 52nd Ave, Commerce City</td>\n",
       "      <td>OPERATIONAL</td>\n",
       "      <td>Denver</td>\n",
       "    </tr>\n",
       "    <tr>\n",
       "      <th>3</th>\n",
       "      <td>Sapp Bros Cafe</td>\n",
       "      <td>4.0</td>\n",
       "      <td>2</td>\n",
       "      <td>496</td>\n",
       "      <td>39.784892</td>\n",
       "      <td>-104.904588</td>\n",
       "      <td>7120 E 49th Ave, Commerce City</td>\n",
       "      <td>OPERATIONAL</td>\n",
       "      <td>Denver</td>\n",
       "    </tr>\n",
       "    <tr>\n",
       "      <th>4</th>\n",
       "      <td>El Muelle Mexican Restaurant</td>\n",
       "      <td>3.8</td>\n",
       "      <td>0</td>\n",
       "      <td>119</td>\n",
       "      <td>39.723649</td>\n",
       "      <td>-104.820766</td>\n",
       "      <td>475 Sable Blvd, Aurora</td>\n",
       "      <td>OPERATIONAL</td>\n",
       "      <td>Denver</td>\n",
       "    </tr>\n",
       "    <tr>\n",
       "      <th>...</th>\n",
       "      <td>...</td>\n",
       "      <td>...</td>\n",
       "      <td>...</td>\n",
       "      <td>...</td>\n",
       "      <td>...</td>\n",
       "      <td>...</td>\n",
       "      <td>...</td>\n",
       "      <td>...</td>\n",
       "      <td>...</td>\n",
       "    </tr>\n",
       "    <tr>\n",
       "      <th>15</th>\n",
       "      <td>Pito Restaurant</td>\n",
       "      <td>4.5</td>\n",
       "      <td>1</td>\n",
       "      <td>419</td>\n",
       "      <td>41.796786</td>\n",
       "      <td>-71.413121</td>\n",
       "      <td>1029 Broad St, Providence</td>\n",
       "      <td>OPERATIONAL</td>\n",
       "      <td>Providence</td>\n",
       "    </tr>\n",
       "    <tr>\n",
       "      <th>16</th>\n",
       "      <td>Massimo Ristorante</td>\n",
       "      <td>4.5</td>\n",
       "      <td>2</td>\n",
       "      <td>1172</td>\n",
       "      <td>41.823178</td>\n",
       "      <td>-71.422296</td>\n",
       "      <td>134 Atwells Ave, Providence</td>\n",
       "      <td>OPERATIONAL</td>\n",
       "      <td>Providence</td>\n",
       "    </tr>\n",
       "    <tr>\n",
       "      <th>17</th>\n",
       "      <td>Mi Porcion Restaurant</td>\n",
       "      <td>4.6</td>\n",
       "      <td>0</td>\n",
       "      <td>21</td>\n",
       "      <td>41.823083</td>\n",
       "      <td>-71.450511</td>\n",
       "      <td>319 Manton Ave, Providence</td>\n",
       "      <td>OPERATIONAL</td>\n",
       "      <td>Providence</td>\n",
       "    </tr>\n",
       "    <tr>\n",
       "      <th>18</th>\n",
       "      <td>Joe Marzilli's Old Canteen Italian Restaurant</td>\n",
       "      <td>4.6</td>\n",
       "      <td>2</td>\n",
       "      <td>516</td>\n",
       "      <td>41.823160</td>\n",
       "      <td>-71.421952</td>\n",
       "      <td>120 Atwells Ave, Providence</td>\n",
       "      <td>OPERATIONAL</td>\n",
       "      <td>Providence</td>\n",
       "    </tr>\n",
       "    <tr>\n",
       "      <th>19</th>\n",
       "      <td>Scarlets Restaurant</td>\n",
       "      <td>4.3</td>\n",
       "      <td>2</td>\n",
       "      <td>83</td>\n",
       "      <td>41.827423</td>\n",
       "      <td>-71.443643</td>\n",
       "      <td>99 Academy Ave #4539, Providence</td>\n",
       "      <td>OPERATIONAL</td>\n",
       "      <td>Providence</td>\n",
       "    </tr>\n",
       "  </tbody>\n",
       "</table>\n",
       "<p>200 rows × 9 columns</p>\n",
       "</div>"
      ],
      "text/plain": [
       "                                       Restaurant  Rating  price_level  \\\n",
       "0            Rocky Mountain Sudanese's restaurant     4.9            0   \n",
       "1                             FIFTY300 Restaurant     3.8            0   \n",
       "2               Ted'z Place Restaurant and Lounge     4.5            2   \n",
       "3                                  Sapp Bros Cafe     4.0            2   \n",
       "4                    El Muelle Mexican Restaurant     3.8            0   \n",
       "..                                            ...     ...          ...   \n",
       "15                                Pito Restaurant     4.5            1   \n",
       "16                             Massimo Ristorante     4.5            2   \n",
       "17                          Mi Porcion Restaurant     4.6            0   \n",
       "18  Joe Marzilli's Old Canteen Italian Restaurant     4.6            2   \n",
       "19                            Scarlets Restaurant     4.3            2   \n",
       "\n",
       "    user_ratings_total   latitude   longitude  \\\n",
       "0                   86  39.739778 -104.869816   \n",
       "1                   21  39.770339 -104.903993   \n",
       "2                  815  39.791361 -104.926156   \n",
       "3                  496  39.784892 -104.904588   \n",
       "4                  119  39.723649 -104.820766   \n",
       "..                 ...        ...         ...   \n",
       "15                 419  41.796786  -71.413121   \n",
       "16                1172  41.823178  -71.422296   \n",
       "17                  21  41.823083  -71.450511   \n",
       "18                 516  41.823160  -71.421952   \n",
       "19                  83  41.827423  -71.443643   \n",
       "\n",
       "                            vicinity     Business Status        City  \n",
       "0         10180 E Colfax Ave, Aurora  CLOSED_TEMPORARILY      Denver  \n",
       "1             3801 Quebec St, Denver         OPERATIONAL      Denver  \n",
       "2     5271 E 52nd Ave, Commerce City         OPERATIONAL      Denver  \n",
       "3     7120 E 49th Ave, Commerce City         OPERATIONAL      Denver  \n",
       "4             475 Sable Blvd, Aurora         OPERATIONAL      Denver  \n",
       "..                               ...                 ...         ...  \n",
       "15         1029 Broad St, Providence         OPERATIONAL  Providence  \n",
       "16       134 Atwells Ave, Providence         OPERATIONAL  Providence  \n",
       "17        319 Manton Ave, Providence         OPERATIONAL  Providence  \n",
       "18       120 Atwells Ave, Providence         OPERATIONAL  Providence  \n",
       "19  99 Academy Ave #4539, Providence         OPERATIONAL  Providence  \n",
       "\n",
       "[200 rows x 9 columns]"
      ]
     },
     "metadata": {},
     "output_type": "display_data"
    }
   ],
   "source": [
    "# mergeing the dataframes\n",
    "country_df = [denver_dataframe,\n",
    "              chicago_dataframe, \n",
    "              new_orleans_dataframe, \n",
    "              jacksonville_dataframe, \n",
    "              memphis_dataframe, \n",
    "              raleigh_dataframe, \n",
    "              baltimore_dataframe, \n",
    "              st_louis_dataframe, \n",
    "              washington_dataframe, \n",
    "              providence_dataframe]\n",
    "result = pd.concat(country_df)\n",
    "display(result)"
   ]
  },
  {
   "cell_type": "code",
   "execution_count": 13,
   "id": "2ae3513f",
   "metadata": {},
   "outputs": [],
   "source": [
    "result =  result.reset_index(drop=True) "
   ]
  },
  {
   "cell_type": "code",
   "execution_count": 14,
   "id": "728c4b25",
   "metadata": {},
   "outputs": [],
   "source": [
    "# display(result)"
   ]
  },
  {
   "cell_type": "code",
   "execution_count": 15,
   "id": "e1783a64",
   "metadata": {},
   "outputs": [],
   "source": [
    "# result.dtypes"
   ]
  },
  {
   "cell_type": "code",
   "execution_count": 16,
   "id": "9df6c1ce",
   "metadata": {},
   "outputs": [
    {
     "data": {
      "text/html": [
       "<div>\n",
       "<style scoped>\n",
       "    .dataframe tbody tr th:only-of-type {\n",
       "        vertical-align: middle;\n",
       "    }\n",
       "\n",
       "    .dataframe tbody tr th {\n",
       "        vertical-align: top;\n",
       "    }\n",
       "\n",
       "    .dataframe thead th {\n",
       "        text-align: right;\n",
       "    }\n",
       "</style>\n",
       "<table border=\"1\" class=\"dataframe\">\n",
       "  <thead>\n",
       "    <tr style=\"text-align: right;\">\n",
       "      <th></th>\n",
       "      <th>Restaurant</th>\n",
       "      <th>Rating</th>\n",
       "      <th>price_level</th>\n",
       "      <th>user_ratings_total</th>\n",
       "      <th>latitude</th>\n",
       "      <th>longitude</th>\n",
       "      <th>vicinity</th>\n",
       "      <th>Business Status</th>\n",
       "      <th>City</th>\n",
       "    </tr>\n",
       "  </thead>\n",
       "  <tbody>\n",
       "    <tr>\n",
       "      <th>0</th>\n",
       "      <td>Ted'z Place Restaurant and Lounge</td>\n",
       "      <td>4.5</td>\n",
       "      <td>2</td>\n",
       "      <td>815</td>\n",
       "      <td>39.791361</td>\n",
       "      <td>-104.926156</td>\n",
       "      <td>5271 E 52nd Ave, Commerce City</td>\n",
       "      <td>OPERATIONAL</td>\n",
       "      <td>Denver</td>\n",
       "    </tr>\n",
       "    <tr>\n",
       "      <th>1</th>\n",
       "      <td>Café Mercato</td>\n",
       "      <td>4.4</td>\n",
       "      <td>2</td>\n",
       "      <td>372</td>\n",
       "      <td>39.719425</td>\n",
       "      <td>-104.896602</td>\n",
       "      <td>7561 E Academy Blvd, Denver</td>\n",
       "      <td>OPERATIONAL</td>\n",
       "      <td>Denver</td>\n",
       "    </tr>\n",
       "    <tr>\n",
       "      <th>2</th>\n",
       "      <td>Phở 888</td>\n",
       "      <td>4.5</td>\n",
       "      <td>1</td>\n",
       "      <td>1222</td>\n",
       "      <td>39.724174</td>\n",
       "      <td>-104.821340</td>\n",
       "      <td>Parking lot, 539 Sable Blvd, Aurora</td>\n",
       "      <td>OPERATIONAL</td>\n",
       "      <td>Denver</td>\n",
       "    </tr>\n",
       "    <tr>\n",
       "      <th>3</th>\n",
       "      <td>Restaurante El Tamarindo</td>\n",
       "      <td>4.1</td>\n",
       "      <td>0</td>\n",
       "      <td>286</td>\n",
       "      <td>39.739806</td>\n",
       "      <td>-104.898394</td>\n",
       "      <td>7700 E Colfax Ave, Denver</td>\n",
       "      <td>OPERATIONAL</td>\n",
       "      <td>Denver</td>\n",
       "    </tr>\n",
       "    <tr>\n",
       "      <th>4</th>\n",
       "      <td>El Chalate Restaurant</td>\n",
       "      <td>4.2</td>\n",
       "      <td>1</td>\n",
       "      <td>975</td>\n",
       "      <td>39.740360</td>\n",
       "      <td>-104.893437</td>\n",
       "      <td>8119 E Colfax Ave, Denver</td>\n",
       "      <td>OPERATIONAL</td>\n",
       "      <td>Denver</td>\n",
       "    </tr>\n",
       "    <tr>\n",
       "      <th>...</th>\n",
       "      <td>...</td>\n",
       "      <td>...</td>\n",
       "      <td>...</td>\n",
       "      <td>...</td>\n",
       "      <td>...</td>\n",
       "      <td>...</td>\n",
       "      <td>...</td>\n",
       "      <td>...</td>\n",
       "      <td>...</td>\n",
       "    </tr>\n",
       "    <tr>\n",
       "      <th>132</th>\n",
       "      <td>north</td>\n",
       "      <td>4.4</td>\n",
       "      <td>2</td>\n",
       "      <td>389</td>\n",
       "      <td>41.823267</td>\n",
       "      <td>-71.415932</td>\n",
       "      <td>122 Fountain St, Providence</td>\n",
       "      <td>OPERATIONAL</td>\n",
       "      <td>Providence</td>\n",
       "    </tr>\n",
       "    <tr>\n",
       "      <th>133</th>\n",
       "      <td>T's Restaurant Cranston</td>\n",
       "      <td>4.4</td>\n",
       "      <td>2</td>\n",
       "      <td>1159</td>\n",
       "      <td>41.782629</td>\n",
       "      <td>-71.444809</td>\n",
       "      <td>1059 Park Ave, Cranston</td>\n",
       "      <td>OPERATIONAL</td>\n",
       "      <td>Providence</td>\n",
       "    </tr>\n",
       "    <tr>\n",
       "      <th>134</th>\n",
       "      <td>Pito Restaurant</td>\n",
       "      <td>4.5</td>\n",
       "      <td>1</td>\n",
       "      <td>419</td>\n",
       "      <td>41.796786</td>\n",
       "      <td>-71.413121</td>\n",
       "      <td>1029 Broad St, Providence</td>\n",
       "      <td>OPERATIONAL</td>\n",
       "      <td>Providence</td>\n",
       "    </tr>\n",
       "    <tr>\n",
       "      <th>135</th>\n",
       "      <td>Massimo Ristorante</td>\n",
       "      <td>4.5</td>\n",
       "      <td>2</td>\n",
       "      <td>1172</td>\n",
       "      <td>41.823178</td>\n",
       "      <td>-71.422296</td>\n",
       "      <td>134 Atwells Ave, Providence</td>\n",
       "      <td>OPERATIONAL</td>\n",
       "      <td>Providence</td>\n",
       "    </tr>\n",
       "    <tr>\n",
       "      <th>136</th>\n",
       "      <td>Joe Marzilli's Old Canteen Italian Restaurant</td>\n",
       "      <td>4.6</td>\n",
       "      <td>2</td>\n",
       "      <td>516</td>\n",
       "      <td>41.823160</td>\n",
       "      <td>-71.421952</td>\n",
       "      <td>120 Atwells Ave, Providence</td>\n",
       "      <td>OPERATIONAL</td>\n",
       "      <td>Providence</td>\n",
       "    </tr>\n",
       "  </tbody>\n",
       "</table>\n",
       "<p>137 rows × 9 columns</p>\n",
       "</div>"
      ],
      "text/plain": [
       "                                        Restaurant  Rating  price_level  \\\n",
       "0                Ted'z Place Restaurant and Lounge     4.5            2   \n",
       "1                                     Café Mercato     4.4            2   \n",
       "2                                          Phở 888     4.5            1   \n",
       "3                         Restaurante El Tamarindo     4.1            0   \n",
       "4                            El Chalate Restaurant     4.2            1   \n",
       "..                                             ...     ...          ...   \n",
       "132                                          north     4.4            2   \n",
       "133                        T's Restaurant Cranston     4.4            2   \n",
       "134                                Pito Restaurant     4.5            1   \n",
       "135                             Massimo Ristorante     4.5            2   \n",
       "136  Joe Marzilli's Old Canteen Italian Restaurant     4.6            2   \n",
       "\n",
       "     user_ratings_total   latitude   longitude  \\\n",
       "0                   815  39.791361 -104.926156   \n",
       "1                   372  39.719425 -104.896602   \n",
       "2                  1222  39.724174 -104.821340   \n",
       "3                   286  39.739806 -104.898394   \n",
       "4                   975  39.740360 -104.893437   \n",
       "..                  ...        ...         ...   \n",
       "132                 389  41.823267  -71.415932   \n",
       "133                1159  41.782629  -71.444809   \n",
       "134                 419  41.796786  -71.413121   \n",
       "135                1172  41.823178  -71.422296   \n",
       "136                 516  41.823160  -71.421952   \n",
       "\n",
       "                                vicinity Business Status        City  \n",
       "0         5271 E 52nd Ave, Commerce City     OPERATIONAL      Denver  \n",
       "1            7561 E Academy Blvd, Denver     OPERATIONAL      Denver  \n",
       "2    Parking lot, 539 Sable Blvd, Aurora     OPERATIONAL      Denver  \n",
       "3              7700 E Colfax Ave, Denver     OPERATIONAL      Denver  \n",
       "4              8119 E Colfax Ave, Denver     OPERATIONAL      Denver  \n",
       "..                                   ...             ...         ...  \n",
       "132          122 Fountain St, Providence     OPERATIONAL  Providence  \n",
       "133              1059 Park Ave, Cranston     OPERATIONAL  Providence  \n",
       "134            1029 Broad St, Providence     OPERATIONAL  Providence  \n",
       "135          134 Atwells Ave, Providence     OPERATIONAL  Providence  \n",
       "136          120 Atwells Ave, Providence     OPERATIONAL  Providence  \n",
       "\n",
       "[137 rows x 9 columns]"
      ]
     },
     "execution_count": 16,
     "metadata": {},
     "output_type": "execute_result"
    }
   ],
   "source": [
    "final_df=result.loc[(result[\"Rating\"]>4.0) & (result[\"user_ratings_total\"]>250), :].reset_index(drop=True).dropna()\n",
    "\n",
    "final_df"
   ]
  },
  {
   "cell_type": "code",
   "execution_count": 17,
   "id": "8e5f522b",
   "metadata": {},
   "outputs": [
    {
     "data": {
      "text/html": [
       "<div>\n",
       "<style scoped>\n",
       "    .dataframe tbody tr th:only-of-type {\n",
       "        vertical-align: middle;\n",
       "    }\n",
       "\n",
       "    .dataframe tbody tr th {\n",
       "        vertical-align: top;\n",
       "    }\n",
       "\n",
       "    .dataframe thead th {\n",
       "        text-align: right;\n",
       "    }\n",
       "</style>\n",
       "<table border=\"1\" class=\"dataframe\">\n",
       "  <thead>\n",
       "    <tr style=\"text-align: right;\">\n",
       "      <th></th>\n",
       "      <th>City</th>\n",
       "      <th>Restaurant</th>\n",
       "      <th>Rating</th>\n",
       "      <th>user_ratings_total</th>\n",
       "      <th>price_level</th>\n",
       "      <th>latitude</th>\n",
       "      <th>longitude</th>\n",
       "      <th>vicinity</th>\n",
       "      <th>Business Status</th>\n",
       "    </tr>\n",
       "  </thead>\n",
       "  <tbody>\n",
       "    <tr>\n",
       "      <th>0</th>\n",
       "      <td>Denver</td>\n",
       "      <td>Ted'z Place Restaurant and Lounge</td>\n",
       "      <td>4.5</td>\n",
       "      <td>815</td>\n",
       "      <td>2</td>\n",
       "      <td>39.791361</td>\n",
       "      <td>-104.926156</td>\n",
       "      <td>5271 E 52nd Ave, Commerce City</td>\n",
       "      <td>OPERATIONAL</td>\n",
       "    </tr>\n",
       "    <tr>\n",
       "      <th>1</th>\n",
       "      <td>Denver</td>\n",
       "      <td>Café Mercato</td>\n",
       "      <td>4.4</td>\n",
       "      <td>372</td>\n",
       "      <td>2</td>\n",
       "      <td>39.719425</td>\n",
       "      <td>-104.896602</td>\n",
       "      <td>7561 E Academy Blvd, Denver</td>\n",
       "      <td>OPERATIONAL</td>\n",
       "    </tr>\n",
       "    <tr>\n",
       "      <th>2</th>\n",
       "      <td>Denver</td>\n",
       "      <td>Phở 888</td>\n",
       "      <td>4.5</td>\n",
       "      <td>1222</td>\n",
       "      <td>1</td>\n",
       "      <td>39.724174</td>\n",
       "      <td>-104.821340</td>\n",
       "      <td>Parking lot, 539 Sable Blvd, Aurora</td>\n",
       "      <td>OPERATIONAL</td>\n",
       "    </tr>\n",
       "    <tr>\n",
       "      <th>3</th>\n",
       "      <td>Denver</td>\n",
       "      <td>Restaurante El Tamarindo</td>\n",
       "      <td>4.1</td>\n",
       "      <td>286</td>\n",
       "      <td>0</td>\n",
       "      <td>39.739806</td>\n",
       "      <td>-104.898394</td>\n",
       "      <td>7700 E Colfax Ave, Denver</td>\n",
       "      <td>OPERATIONAL</td>\n",
       "    </tr>\n",
       "    <tr>\n",
       "      <th>4</th>\n",
       "      <td>Denver</td>\n",
       "      <td>El Chalate Restaurant</td>\n",
       "      <td>4.2</td>\n",
       "      <td>975</td>\n",
       "      <td>1</td>\n",
       "      <td>39.740360</td>\n",
       "      <td>-104.893437</td>\n",
       "      <td>8119 E Colfax Ave, Denver</td>\n",
       "      <td>OPERATIONAL</td>\n",
       "    </tr>\n",
       "  </tbody>\n",
       "</table>\n",
       "</div>"
      ],
      "text/plain": [
       "     City                         Restaurant  Rating  user_ratings_total  \\\n",
       "0  Denver  Ted'z Place Restaurant and Lounge     4.5                 815   \n",
       "1  Denver                       Café Mercato     4.4                 372   \n",
       "2  Denver                            Phở 888     4.5                1222   \n",
       "3  Denver           Restaurante El Tamarindo     4.1                 286   \n",
       "4  Denver              El Chalate Restaurant     4.2                 975   \n",
       "\n",
       "   price_level   latitude   longitude                             vicinity  \\\n",
       "0            2  39.791361 -104.926156       5271 E 52nd Ave, Commerce City   \n",
       "1            2  39.719425 -104.896602          7561 E Academy Blvd, Denver   \n",
       "2            1  39.724174 -104.821340  Parking lot, 539 Sable Blvd, Aurora   \n",
       "3            0  39.739806 -104.898394            7700 E Colfax Ave, Denver   \n",
       "4            1  39.740360 -104.893437            8119 E Colfax Ave, Denver   \n",
       "\n",
       "  Business Status  \n",
       "0     OPERATIONAL  \n",
       "1     OPERATIONAL  \n",
       "2     OPERATIONAL  \n",
       "3     OPERATIONAL  \n",
       "4     OPERATIONAL  "
      ]
     },
     "execution_count": 17,
     "metadata": {},
     "output_type": "execute_result"
    }
   ],
   "source": [
    "final_df=final_df[[\"City\",\n",
    "                   \"Restaurant\",\n",
    "                   \"Rating\",\n",
    "                   \"user_ratings_total\",\n",
    "                   \"price_level\",\"latitude\",\n",
    "                   \"longitude\",\n",
    "                   \"vicinity\",\"Business Status\"]]\n",
    "\n",
    "final_df.head()"
   ]
  },
  {
   "cell_type": "code",
   "execution_count": 18,
   "id": "4efc46f7",
   "metadata": {},
   "outputs": [
    {
     "name": "stderr",
     "output_type": "stream",
     "text": [
      "C:\\Users\\skdab\\AppData\\Local\\Temp\\ipykernel_13336\\354364531.py:1: FutureWarning: In a future version of pandas all arguments of DataFrame.drop except for the argument 'labels' will be keyword-only.\n",
      "  final_df=final_df.drop('Business Status',1)\n"
     ]
    },
    {
     "data": {
      "text/html": [
       "<div>\n",
       "<style scoped>\n",
       "    .dataframe tbody tr th:only-of-type {\n",
       "        vertical-align: middle;\n",
       "    }\n",
       "\n",
       "    .dataframe tbody tr th {\n",
       "        vertical-align: top;\n",
       "    }\n",
       "\n",
       "    .dataframe thead th {\n",
       "        text-align: right;\n",
       "    }\n",
       "</style>\n",
       "<table border=\"1\" class=\"dataframe\">\n",
       "  <thead>\n",
       "    <tr style=\"text-align: right;\">\n",
       "      <th></th>\n",
       "      <th>City</th>\n",
       "      <th>Restaurant</th>\n",
       "      <th>Rating</th>\n",
       "      <th>user_ratings_total</th>\n",
       "      <th>price_level</th>\n",
       "      <th>latitude</th>\n",
       "      <th>longitude</th>\n",
       "      <th>vicinity</th>\n",
       "    </tr>\n",
       "  </thead>\n",
       "  <tbody>\n",
       "    <tr>\n",
       "      <th>0</th>\n",
       "      <td>Denver</td>\n",
       "      <td>Ted'z Place Restaurant and Lounge</td>\n",
       "      <td>4.5</td>\n",
       "      <td>815</td>\n",
       "      <td>2</td>\n",
       "      <td>39.791361</td>\n",
       "      <td>-104.926156</td>\n",
       "      <td>5271 E 52nd Ave, Commerce City</td>\n",
       "    </tr>\n",
       "    <tr>\n",
       "      <th>1</th>\n",
       "      <td>Denver</td>\n",
       "      <td>Café Mercato</td>\n",
       "      <td>4.4</td>\n",
       "      <td>372</td>\n",
       "      <td>2</td>\n",
       "      <td>39.719425</td>\n",
       "      <td>-104.896602</td>\n",
       "      <td>7561 E Academy Blvd, Denver</td>\n",
       "    </tr>\n",
       "    <tr>\n",
       "      <th>2</th>\n",
       "      <td>Denver</td>\n",
       "      <td>Phở 888</td>\n",
       "      <td>4.5</td>\n",
       "      <td>1222</td>\n",
       "      <td>1</td>\n",
       "      <td>39.724174</td>\n",
       "      <td>-104.821340</td>\n",
       "      <td>Parking lot, 539 Sable Blvd, Aurora</td>\n",
       "    </tr>\n",
       "    <tr>\n",
       "      <th>3</th>\n",
       "      <td>Denver</td>\n",
       "      <td>Restaurante El Tamarindo</td>\n",
       "      <td>4.1</td>\n",
       "      <td>286</td>\n",
       "      <td>0</td>\n",
       "      <td>39.739806</td>\n",
       "      <td>-104.898394</td>\n",
       "      <td>7700 E Colfax Ave, Denver</td>\n",
       "    </tr>\n",
       "    <tr>\n",
       "      <th>4</th>\n",
       "      <td>Denver</td>\n",
       "      <td>El Chalate Restaurant</td>\n",
       "      <td>4.2</td>\n",
       "      <td>975</td>\n",
       "      <td>1</td>\n",
       "      <td>39.740360</td>\n",
       "      <td>-104.893437</td>\n",
       "      <td>8119 E Colfax Ave, Denver</td>\n",
       "    </tr>\n",
       "  </tbody>\n",
       "</table>\n",
       "</div>"
      ],
      "text/plain": [
       "     City                         Restaurant  Rating  user_ratings_total  \\\n",
       "0  Denver  Ted'z Place Restaurant and Lounge     4.5                 815   \n",
       "1  Denver                       Café Mercato     4.4                 372   \n",
       "2  Denver                            Phở 888     4.5                1222   \n",
       "3  Denver           Restaurante El Tamarindo     4.1                 286   \n",
       "4  Denver              El Chalate Restaurant     4.2                 975   \n",
       "\n",
       "   price_level   latitude   longitude                             vicinity  \n",
       "0            2  39.791361 -104.926156       5271 E 52nd Ave, Commerce City  \n",
       "1            2  39.719425 -104.896602          7561 E Academy Blvd, Denver  \n",
       "2            1  39.724174 -104.821340  Parking lot, 539 Sable Blvd, Aurora  \n",
       "3            0  39.739806 -104.898394            7700 E Colfax Ave, Denver  \n",
       "4            1  39.740360 -104.893437            8119 E Colfax Ave, Denver  "
      ]
     },
     "execution_count": 18,
     "metadata": {},
     "output_type": "execute_result"
    }
   ],
   "source": [
    "final_df=final_df.drop('Business Status',1)\n",
    "final_df.head()"
   ]
  },
  {
   "cell_type": "code",
   "execution_count": 19,
   "id": "4909fa8c",
   "metadata": {},
   "outputs": [
    {
     "data": {
      "text/html": [
       "<div>\n",
       "<style scoped>\n",
       "    .dataframe tbody tr th:only-of-type {\n",
       "        vertical-align: middle;\n",
       "    }\n",
       "\n",
       "    .dataframe tbody tr th {\n",
       "        vertical-align: top;\n",
       "    }\n",
       "\n",
       "    .dataframe thead th {\n",
       "        text-align: right;\n",
       "    }\n",
       "</style>\n",
       "<table border=\"1\" class=\"dataframe\">\n",
       "  <thead>\n",
       "    <tr style=\"text-align: right;\">\n",
       "      <th></th>\n",
       "      <th>City</th>\n",
       "      <th>Restaurant</th>\n",
       "      <th>Rating</th>\n",
       "      <th>Number of Reviews</th>\n",
       "      <th>Price Level</th>\n",
       "      <th>Lat_Restaurant</th>\n",
       "      <th>Long_Restaurant</th>\n",
       "      <th>Vicinity</th>\n",
       "    </tr>\n",
       "  </thead>\n",
       "  <tbody>\n",
       "    <tr>\n",
       "      <th>0</th>\n",
       "      <td>Denver</td>\n",
       "      <td>Ted'z Place Restaurant and Lounge</td>\n",
       "      <td>4.5</td>\n",
       "      <td>815</td>\n",
       "      <td>2</td>\n",
       "      <td>39.791361</td>\n",
       "      <td>-104.926156</td>\n",
       "      <td>5271 E 52nd Ave, Commerce City</td>\n",
       "    </tr>\n",
       "    <tr>\n",
       "      <th>1</th>\n",
       "      <td>Denver</td>\n",
       "      <td>Café Mercato</td>\n",
       "      <td>4.4</td>\n",
       "      <td>372</td>\n",
       "      <td>2</td>\n",
       "      <td>39.719425</td>\n",
       "      <td>-104.896602</td>\n",
       "      <td>7561 E Academy Blvd, Denver</td>\n",
       "    </tr>\n",
       "    <tr>\n",
       "      <th>2</th>\n",
       "      <td>Denver</td>\n",
       "      <td>Phở 888</td>\n",
       "      <td>4.5</td>\n",
       "      <td>1222</td>\n",
       "      <td>1</td>\n",
       "      <td>39.724174</td>\n",
       "      <td>-104.821340</td>\n",
       "      <td>Parking lot, 539 Sable Blvd, Aurora</td>\n",
       "    </tr>\n",
       "    <tr>\n",
       "      <th>3</th>\n",
       "      <td>Denver</td>\n",
       "      <td>Restaurante El Tamarindo</td>\n",
       "      <td>4.1</td>\n",
       "      <td>286</td>\n",
       "      <td>0</td>\n",
       "      <td>39.739806</td>\n",
       "      <td>-104.898394</td>\n",
       "      <td>7700 E Colfax Ave, Denver</td>\n",
       "    </tr>\n",
       "    <tr>\n",
       "      <th>4</th>\n",
       "      <td>Denver</td>\n",
       "      <td>El Chalate Restaurant</td>\n",
       "      <td>4.2</td>\n",
       "      <td>975</td>\n",
       "      <td>1</td>\n",
       "      <td>39.740360</td>\n",
       "      <td>-104.893437</td>\n",
       "      <td>8119 E Colfax Ave, Denver</td>\n",
       "    </tr>\n",
       "  </tbody>\n",
       "</table>\n",
       "</div>"
      ],
      "text/plain": [
       "     City                         Restaurant  Rating  Number of Reviews  \\\n",
       "0  Denver  Ted'z Place Restaurant and Lounge     4.5                815   \n",
       "1  Denver                       Café Mercato     4.4                372   \n",
       "2  Denver                            Phở 888     4.5               1222   \n",
       "3  Denver           Restaurante El Tamarindo     4.1                286   \n",
       "4  Denver              El Chalate Restaurant     4.2                975   \n",
       "\n",
       "   Price Level  Lat_Restaurant  Long_Restaurant  \\\n",
       "0            2       39.791361      -104.926156   \n",
       "1            2       39.719425      -104.896602   \n",
       "2            1       39.724174      -104.821340   \n",
       "3            0       39.739806      -104.898394   \n",
       "4            1       39.740360      -104.893437   \n",
       "\n",
       "                              Vicinity  \n",
       "0       5271 E 52nd Ave, Commerce City  \n",
       "1          7561 E Academy Blvd, Denver  \n",
       "2  Parking lot, 539 Sable Blvd, Aurora  \n",
       "3            7700 E Colfax Ave, Denver  \n",
       "4            8119 E Colfax Ave, Denver  "
      ]
     },
     "execution_count": 19,
     "metadata": {},
     "output_type": "execute_result"
    }
   ],
   "source": [
    "final_df=final_df.rename(columns={\"user_ratings_total\":\"Number of Reviews\",\n",
    "                                  \"price_level\":\"Price Level\",\n",
    "                                  \"latitude\":\"Lat_Restaurant\",\n",
    "                                  \"longitude\":\"Long_Restaurant\",\n",
    "                                  \"vicinity\":\"Vicinity\"})\n",
    "final_df.head()"
   ]
  },
  {
   "cell_type": "code",
   "execution_count": 20,
   "id": "3b646f46",
   "metadata": {},
   "outputs": [
    {
     "data": {
      "text/html": [
       "<div>\n",
       "<style scoped>\n",
       "    .dataframe tbody tr th:only-of-type {\n",
       "        vertical-align: middle;\n",
       "    }\n",
       "\n",
       "    .dataframe tbody tr th {\n",
       "        vertical-align: top;\n",
       "    }\n",
       "\n",
       "    .dataframe thead th {\n",
       "        text-align: right;\n",
       "    }\n",
       "</style>\n",
       "<table border=\"1\" class=\"dataframe\">\n",
       "  <thead>\n",
       "    <tr style=\"text-align: right;\">\n",
       "      <th></th>\n",
       "      <th>City</th>\n",
       "      <th>State</th>\n",
       "      <th>Latitude</th>\n",
       "      <th>Longitude</th>\n",
       "      <th>Population</th>\n",
       "    </tr>\n",
       "  </thead>\n",
       "  <tbody>\n",
       "    <tr>\n",
       "      <th>0</th>\n",
       "      <td>Chicago</td>\n",
       "      <td>IL</td>\n",
       "      <td>41.8373</td>\n",
       "      <td>-87.6862</td>\n",
       "      <td>8604203</td>\n",
       "    </tr>\n",
       "    <tr>\n",
       "      <th>1</th>\n",
       "      <td>Washington</td>\n",
       "      <td>DC</td>\n",
       "      <td>38.9047</td>\n",
       "      <td>-77.0163</td>\n",
       "      <td>5379184</td>\n",
       "    </tr>\n",
       "    <tr>\n",
       "      <th>2</th>\n",
       "      <td>Denver</td>\n",
       "      <td>CO</td>\n",
       "      <td>39.7621</td>\n",
       "      <td>-104.8759</td>\n",
       "      <td>2876625</td>\n",
       "    </tr>\n",
       "    <tr>\n",
       "      <th>3</th>\n",
       "      <td>Baltimore</td>\n",
       "      <td>MD</td>\n",
       "      <td>39.3051</td>\n",
       "      <td>-76.6144</td>\n",
       "      <td>2106068</td>\n",
       "    </tr>\n",
       "    <tr>\n",
       "      <th>4</th>\n",
       "      <td>St. Louis</td>\n",
       "      <td>MO</td>\n",
       "      <td>38.6358</td>\n",
       "      <td>-90.2451</td>\n",
       "      <td>2024074</td>\n",
       "    </tr>\n",
       "    <tr>\n",
       "      <th>5</th>\n",
       "      <td>Providence</td>\n",
       "      <td>RI</td>\n",
       "      <td>41.8230</td>\n",
       "      <td>-71.4187</td>\n",
       "      <td>1203230</td>\n",
       "    </tr>\n",
       "    <tr>\n",
       "      <th>6</th>\n",
       "      <td>Jacksonville</td>\n",
       "      <td>FL</td>\n",
       "      <td>30.3322</td>\n",
       "      <td>-81.6749</td>\n",
       "      <td>1181496</td>\n",
       "    </tr>\n",
       "    <tr>\n",
       "      <th>7</th>\n",
       "      <td>Memphis</td>\n",
       "      <td>TN</td>\n",
       "      <td>35.1046</td>\n",
       "      <td>-89.9773</td>\n",
       "      <td>1066967</td>\n",
       "    </tr>\n",
       "    <tr>\n",
       "      <th>8</th>\n",
       "      <td>Raleigh</td>\n",
       "      <td>NC</td>\n",
       "      <td>35.8325</td>\n",
       "      <td>-78.6435</td>\n",
       "      <td>1038738</td>\n",
       "    </tr>\n",
       "    <tr>\n",
       "      <th>9</th>\n",
       "      <td>New Orleans</td>\n",
       "      <td>LA</td>\n",
       "      <td>30.0687</td>\n",
       "      <td>-89.9288</td>\n",
       "      <td>1020886</td>\n",
       "    </tr>\n",
       "  </tbody>\n",
       "</table>\n",
       "</div>"
      ],
      "text/plain": [
       "           City State  Latitude  Longitude  Population\n",
       "0       Chicago    IL   41.8373   -87.6862     8604203\n",
       "1    Washington    DC   38.9047   -77.0163     5379184\n",
       "2        Denver    CO   39.7621  -104.8759     2876625\n",
       "3     Baltimore    MD   39.3051   -76.6144     2106068\n",
       "4     St. Louis    MO   38.6358   -90.2451     2024074\n",
       "5    Providence    RI   41.8230   -71.4187     1203230\n",
       "6  Jacksonville    FL   30.3322   -81.6749     1181496\n",
       "7       Memphis    TN   35.1046   -89.9773     1066967\n",
       "8       Raleigh    NC   35.8325   -78.6435     1038738\n",
       "9   New Orleans    LA   30.0687   -89.9288     1020886"
      ]
     },
     "execution_count": 20,
     "metadata": {},
     "output_type": "execute_result"
    }
   ],
   "source": [
    "# Import csv file city_data_output.csv\n",
    "output_csv_file = \"us_cities_sample.csv\"\n",
    "# Create dataframe\n",
    "us_cities = pd.read_csv(output_csv_file)\n",
    "# View dataframe\n",
    "us_cities"
   ]
  },
  {
   "cell_type": "code",
   "execution_count": 21,
   "id": "968df120",
   "metadata": {
    "scrolled": true
   },
   "outputs": [
    {
     "data": {
      "text/html": [
       "<div>\n",
       "<style scoped>\n",
       "    .dataframe tbody tr th:only-of-type {\n",
       "        vertical-align: middle;\n",
       "    }\n",
       "\n",
       "    .dataframe tbody tr th {\n",
       "        vertical-align: top;\n",
       "    }\n",
       "\n",
       "    .dataframe thead th {\n",
       "        text-align: right;\n",
       "    }\n",
       "</style>\n",
       "<table border=\"1\" class=\"dataframe\">\n",
       "  <thead>\n",
       "    <tr style=\"text-align: right;\">\n",
       "      <th></th>\n",
       "      <th>City</th>\n",
       "      <th>State</th>\n",
       "      <th>Latitude</th>\n",
       "      <th>Longitude</th>\n",
       "      <th>Population</th>\n",
       "      <th>Restaurant</th>\n",
       "      <th>Rating</th>\n",
       "      <th>Number of Reviews</th>\n",
       "      <th>Price Level</th>\n",
       "      <th>Lat_Restaurant</th>\n",
       "      <th>Long_Restaurant</th>\n",
       "      <th>Vicinity</th>\n",
       "    </tr>\n",
       "  </thead>\n",
       "  <tbody>\n",
       "    <tr>\n",
       "      <th>0</th>\n",
       "      <td>Chicago</td>\n",
       "      <td>IL</td>\n",
       "      <td>41.8373</td>\n",
       "      <td>-87.6862</td>\n",
       "      <td>8604203</td>\n",
       "      <td>Red Barrel Restaurant</td>\n",
       "      <td>4.4</td>\n",
       "      <td>586</td>\n",
       "      <td>2</td>\n",
       "      <td>41.800116</td>\n",
       "      <td>-87.735133</td>\n",
       "      <td>5214 S Archer Ave, Chicago</td>\n",
       "    </tr>\n",
       "    <tr>\n",
       "      <th>1</th>\n",
       "      <td>Chicago</td>\n",
       "      <td>IL</td>\n",
       "      <td>41.8373</td>\n",
       "      <td>-87.6862</td>\n",
       "      <td>8604203</td>\n",
       "      <td>Bridgeport Restaurant</td>\n",
       "      <td>4.2</td>\n",
       "      <td>769</td>\n",
       "      <td>1</td>\n",
       "      <td>41.830638</td>\n",
       "      <td>-87.646313</td>\n",
       "      <td>3500 S Halsted St, Chicago</td>\n",
       "    </tr>\n",
       "    <tr>\n",
       "      <th>2</th>\n",
       "      <td>Chicago</td>\n",
       "      <td>IL</td>\n",
       "      <td>41.8373</td>\n",
       "      <td>-87.6862</td>\n",
       "      <td>8604203</td>\n",
       "      <td>The Village</td>\n",
       "      <td>4.5</td>\n",
       "      <td>3485</td>\n",
       "      <td>2</td>\n",
       "      <td>41.880538</td>\n",
       "      <td>-87.630205</td>\n",
       "      <td>71 W Monroe St, Chicago</td>\n",
       "    </tr>\n",
       "    <tr>\n",
       "      <th>3</th>\n",
       "      <td>Chicago</td>\n",
       "      <td>IL</td>\n",
       "      <td>41.8373</td>\n",
       "      <td>-87.6862</td>\n",
       "      <td>8604203</td>\n",
       "      <td>Palace Grill Restaurant</td>\n",
       "      <td>4.6</td>\n",
       "      <td>787</td>\n",
       "      <td>1</td>\n",
       "      <td>41.881654</td>\n",
       "      <td>-87.662523</td>\n",
       "      <td>1408 W Madison St, Chicago</td>\n",
       "    </tr>\n",
       "    <tr>\n",
       "      <th>4</th>\n",
       "      <td>Chicago</td>\n",
       "      <td>IL</td>\n",
       "      <td>41.8373</td>\n",
       "      <td>-87.6862</td>\n",
       "      <td>8604203</td>\n",
       "      <td>Rivers Restaurant</td>\n",
       "      <td>4.2</td>\n",
       "      <td>432</td>\n",
       "      <td>2</td>\n",
       "      <td>41.880834</td>\n",
       "      <td>-87.637123</td>\n",
       "      <td>30 S Wacker Dr, Chicago</td>\n",
       "    </tr>\n",
       "    <tr>\n",
       "      <th>...</th>\n",
       "      <td>...</td>\n",
       "      <td>...</td>\n",
       "      <td>...</td>\n",
       "      <td>...</td>\n",
       "      <td>...</td>\n",
       "      <td>...</td>\n",
       "      <td>...</td>\n",
       "      <td>...</td>\n",
       "      <td>...</td>\n",
       "      <td>...</td>\n",
       "      <td>...</td>\n",
       "      <td>...</td>\n",
       "    </tr>\n",
       "    <tr>\n",
       "      <th>132</th>\n",
       "      <td>New Orleans</td>\n",
       "      <td>LA</td>\n",
       "      <td>30.0687</td>\n",
       "      <td>-89.9288</td>\n",
       "      <td>1020886</td>\n",
       "      <td>Bullard Seafood and Grill</td>\n",
       "      <td>4.3</td>\n",
       "      <td>1160</td>\n",
       "      <td>1</td>\n",
       "      <td>30.048131</td>\n",
       "      <td>-89.962155</td>\n",
       "      <td>7025 Bullard Ave, New Orleans</td>\n",
       "    </tr>\n",
       "    <tr>\n",
       "      <th>133</th>\n",
       "      <td>New Orleans</td>\n",
       "      <td>LA</td>\n",
       "      <td>30.0687</td>\n",
       "      <td>-89.9288</td>\n",
       "      <td>1020886</td>\n",
       "      <td>Vucinovich's</td>\n",
       "      <td>4.7</td>\n",
       "      <td>264</td>\n",
       "      <td>1</td>\n",
       "      <td>30.030055</td>\n",
       "      <td>-89.927879</td>\n",
       "      <td>4510 Michoud Blvd, New Orleans</td>\n",
       "    </tr>\n",
       "    <tr>\n",
       "      <th>134</th>\n",
       "      <td>New Orleans</td>\n",
       "      <td>LA</td>\n",
       "      <td>30.0687</td>\n",
       "      <td>-89.9288</td>\n",
       "      <td>1020886</td>\n",
       "      <td>Burritos Grill Mexican Fresh Cuisine</td>\n",
       "      <td>4.4</td>\n",
       "      <td>332</td>\n",
       "      <td>0</td>\n",
       "      <td>30.038769</td>\n",
       "      <td>-89.976998</td>\n",
       "      <td>7009 Read Blvd, New Orleans</td>\n",
       "    </tr>\n",
       "    <tr>\n",
       "      <th>135</th>\n",
       "      <td>New Orleans</td>\n",
       "      <td>LA</td>\n",
       "      <td>30.0687</td>\n",
       "      <td>-89.9288</td>\n",
       "      <td>1020886</td>\n",
       "      <td>Tony's Super Cajun Seafood</td>\n",
       "      <td>4.1</td>\n",
       "      <td>367</td>\n",
       "      <td>1</td>\n",
       "      <td>30.041712</td>\n",
       "      <td>-89.956840</td>\n",
       "      <td>5971 Bullard Ave, New Orleans</td>\n",
       "    </tr>\n",
       "    <tr>\n",
       "      <th>136</th>\n",
       "      <td>New Orleans</td>\n",
       "      <td>LA</td>\n",
       "      <td>30.0687</td>\n",
       "      <td>-89.9288</td>\n",
       "      <td>1020886</td>\n",
       "      <td>Cajun Shack NOLA</td>\n",
       "      <td>4.3</td>\n",
       "      <td>262</td>\n",
       "      <td>0</td>\n",
       "      <td>30.030098</td>\n",
       "      <td>-89.977541</td>\n",
       "      <td>9830 Lake Forest Blvd Suite 110, New Orleans</td>\n",
       "    </tr>\n",
       "  </tbody>\n",
       "</table>\n",
       "<p>137 rows × 12 columns</p>\n",
       "</div>"
      ],
      "text/plain": [
       "            City State  Latitude  Longitude  Population  \\\n",
       "0        Chicago    IL   41.8373   -87.6862     8604203   \n",
       "1        Chicago    IL   41.8373   -87.6862     8604203   \n",
       "2        Chicago    IL   41.8373   -87.6862     8604203   \n",
       "3        Chicago    IL   41.8373   -87.6862     8604203   \n",
       "4        Chicago    IL   41.8373   -87.6862     8604203   \n",
       "..           ...   ...       ...        ...         ...   \n",
       "132  New Orleans    LA   30.0687   -89.9288     1020886   \n",
       "133  New Orleans    LA   30.0687   -89.9288     1020886   \n",
       "134  New Orleans    LA   30.0687   -89.9288     1020886   \n",
       "135  New Orleans    LA   30.0687   -89.9288     1020886   \n",
       "136  New Orleans    LA   30.0687   -89.9288     1020886   \n",
       "\n",
       "                               Restaurant  Rating  Number of Reviews  \\\n",
       "0                   Red Barrel Restaurant     4.4                586   \n",
       "1                   Bridgeport Restaurant     4.2                769   \n",
       "2                             The Village     4.5               3485   \n",
       "3                 Palace Grill Restaurant     4.6                787   \n",
       "4                       Rivers Restaurant     4.2                432   \n",
       "..                                    ...     ...                ...   \n",
       "132             Bullard Seafood and Grill     4.3               1160   \n",
       "133                          Vucinovich's     4.7                264   \n",
       "134  Burritos Grill Mexican Fresh Cuisine     4.4                332   \n",
       "135            Tony's Super Cajun Seafood     4.1                367   \n",
       "136                      Cajun Shack NOLA     4.3                262   \n",
       "\n",
       "     Price Level  Lat_Restaurant  Long_Restaurant  \\\n",
       "0              2       41.800116       -87.735133   \n",
       "1              1       41.830638       -87.646313   \n",
       "2              2       41.880538       -87.630205   \n",
       "3              1       41.881654       -87.662523   \n",
       "4              2       41.880834       -87.637123   \n",
       "..           ...             ...              ...   \n",
       "132            1       30.048131       -89.962155   \n",
       "133            1       30.030055       -89.927879   \n",
       "134            0       30.038769       -89.976998   \n",
       "135            1       30.041712       -89.956840   \n",
       "136            0       30.030098       -89.977541   \n",
       "\n",
       "                                         Vicinity  \n",
       "0                      5214 S Archer Ave, Chicago  \n",
       "1                      3500 S Halsted St, Chicago  \n",
       "2                         71 W Monroe St, Chicago  \n",
       "3                      1408 W Madison St, Chicago  \n",
       "4                         30 S Wacker Dr, Chicago  \n",
       "..                                            ...  \n",
       "132                 7025 Bullard Ave, New Orleans  \n",
       "133                4510 Michoud Blvd, New Orleans  \n",
       "134                   7009 Read Blvd, New Orleans  \n",
       "135                 5971 Bullard Ave, New Orleans  \n",
       "136  9830 Lake Forest Blvd Suite 110, New Orleans  \n",
       "\n",
       "[137 rows x 12 columns]"
      ]
     },
     "execution_count": 21,
     "metadata": {},
     "output_type": "execute_result"
    }
   ],
   "source": [
    "# Combine the data into a single dataset. ****This one is important**** \n",
    "complete_df = pd.merge(us_cities, final_df, how=\"left\", on=[\"City\", \"City\"])\n",
    "complete_df"
   ]
  },
  {
   "cell_type": "code",
   "execution_count": 22,
   "id": "b86093c9",
   "metadata": {},
   "outputs": [
    {
     "data": {
      "application/vnd.jupyter.widget-view+json": {
<<<<<<< HEAD
       "model_id": "fe287596041f45eb9ecb1ed26ebb6190",
=======
<<<<<<< HEAD
       "model_id": "6dddc73fbc7d4938bbd497c25877a200",
=======
       "model_id": "144b19a45b24443baee957d2e3788e83",
>>>>>>> 3a4c2235c001abc09e939f35aab0c2fc856eee1c
>>>>>>> a8a23f9722645801d6bd8fffa061dbce96800007
       "version_major": 2,
       "version_minor": 0
      },
      "text/plain": [
       "Figure(layout=FigureLayout(height='420px'))"
      ]
     },
     "metadata": {},
     "output_type": "display_data"
    }
   ],
   "source": [
    "# Create a map using state centroid coordinates to set markers\n",
    "marker_locations = complete_df[['Latitude', 'Longitude']]\n",
    "# Create a marker_layer using the poverty list to fill the info box\n",
    "fig = gmaps.figure()\n",
    "markers = gmaps.marker_layer(marker_locations)\n",
    "fig.add_layer(markers)\n",
    "fig"
   ]
  },
  {
   "cell_type": "code",
   "execution_count": 23,
   "id": "e663bd16",
   "metadata": {},
   "outputs": [
    {
     "data": {
      "application/vnd.jupyter.widget-view+json": {
<<<<<<< HEAD
       "model_id": "d0d9a8212d1b4c359c83e1fcab2cf9e9",
=======
<<<<<<< HEAD
       "model_id": "5f127c328dba44c5a5fd95a771cf567a",
=======
       "model_id": "8871c052101b4936bd822837454a8117",
>>>>>>> 3a4c2235c001abc09e939f35aab0c2fc856eee1c
>>>>>>> a8a23f9722645801d6bd8fffa061dbce96800007
       "version_major": 2,
       "version_minor": 0
      },
      "text/plain": [
       "Figure(layout=FigureLayout(height='420px'))"
      ]
     },
     "metadata": {},
     "output_type": "display_data"
    }
   ],
   "source": [
    "# Create a map using state centroid coordinates to set markers,ZOOM IN\n",
    "marker2_locations = complete_df[['Lat_Restaurant', 'Long_Restaurant']]\n",
    "# Create a marker_layer using the poverty list to fill the info box\n",
    "fig = gmaps.figure()\n",
    "markers = gmaps.marker_layer(marker2_locations)\n",
    "fig.add_layer(markers)\n",
    "fig"
   ]
  },
  {
   "cell_type": "code",
   "execution_count": 24,
   "id": "5d76863c",
   "metadata": {},
   "outputs": [
    {
     "data": {
      "text/plain": [
       "City\n",
       "Chicago         8604203\n",
       "Washington      5379184\n",
       "Denver          2876625\n",
       "Baltimore       2106068\n",
       "St. Louis       2024074\n",
       "Providence      1203230\n",
       "Jacksonville    1181496\n",
       "Memphis         1066967\n",
       "Raleigh         1038738\n",
       "New Orleans     1020886\n",
       "Name: Population, dtype: int64"
      ]
     },
     "execution_count": 24,
     "metadata": {},
     "output_type": "execute_result"
    }
   ],
   "source": [
    "city_population=us_cities.set_index([\"City\"])[\"Population\"]\n",
    "city_population"
   ]
  },
  {
   "cell_type": "code",
<<<<<<< HEAD
   "execution_count": 25,
=======
   "execution_count": 24,
<<<<<<< HEAD
=======
>>>>>>> a8a23f9722645801d6bd8fffa061dbce96800007
   "id": "90b85e2d",
   "metadata": {},
   "outputs": [
    {
     "data": {
      "text/plain": [
       "City\n",
       "Baltimore       13\n",
       "Chicago         15\n",
       "Denver          11\n",
       "Jacksonville    18\n",
       "Memphis         13\n",
       "New Orleans      5\n",
       "Providence      17\n",
       "Raleigh         15\n",
       "St. Louis       16\n",
       "Washington      14\n",
       "Name: Restaurant, dtype: int64"
      ]
     },
     "execution_count": 25,
     "metadata": {},
     "output_type": "execute_result"
    }
   ],
   "source": [
    "# Create Summary Table Data\n",
    "\n",
    "number_restaurants=complete_df.groupby([\"City\"]).count()[\"Restaurant\"]\n",
    "number_restaurants\n"
   ]
  },
  {
   "cell_type": "code",
   "execution_count": 26,
   "id": "fd4a3300",
   "metadata": {},
   "outputs": [
    {
     "data": {
      "text/html": [
       "<div>\n",
       "<style scoped>\n",
       "    .dataframe tbody tr th:only-of-type {\n",
       "        vertical-align: middle;\n",
       "    }\n",
       "\n",
       "    .dataframe tbody tr th {\n",
       "        vertical-align: top;\n",
       "    }\n",
       "\n",
       "    .dataframe thead th {\n",
       "        text-align: right;\n",
       "    }\n",
       "</style>\n",
       "<table border=\"1\" class=\"dataframe\">\n",
       "  <thead>\n",
       "    <tr style=\"text-align: right;\">\n",
       "      <th></th>\n",
       "      <th>Population</th>\n",
       "      <th>Number of Restaurants</th>\n",
       "    </tr>\n",
       "    <tr>\n",
       "      <th>City</th>\n",
       "      <th></th>\n",
       "      <th></th>\n",
       "    </tr>\n",
       "  </thead>\n",
       "  <tbody>\n",
       "    <tr>\n",
       "      <th>Baltimore</th>\n",
       "      <td>2106068</td>\n",
       "      <td>13</td>\n",
       "    </tr>\n",
       "    <tr>\n",
       "      <th>Chicago</th>\n",
       "      <td>8604203</td>\n",
       "      <td>15</td>\n",
       "    </tr>\n",
       "    <tr>\n",
       "      <th>Denver</th>\n",
       "      <td>2876625</td>\n",
       "      <td>11</td>\n",
       "    </tr>\n",
       "    <tr>\n",
       "      <th>Jacksonville</th>\n",
       "      <td>1181496</td>\n",
       "      <td>18</td>\n",
       "    </tr>\n",
       "    <tr>\n",
       "      <th>Memphis</th>\n",
       "      <td>1066967</td>\n",
       "      <td>13</td>\n",
       "    </tr>\n",
       "    <tr>\n",
       "      <th>New Orleans</th>\n",
       "      <td>1020886</td>\n",
       "      <td>5</td>\n",
       "    </tr>\n",
       "    <tr>\n",
       "      <th>Providence</th>\n",
       "      <td>1203230</td>\n",
       "      <td>17</td>\n",
       "    </tr>\n",
       "    <tr>\n",
       "      <th>Raleigh</th>\n",
       "      <td>1038738</td>\n",
       "      <td>15</td>\n",
       "    </tr>\n",
       "    <tr>\n",
       "      <th>St. Louis</th>\n",
       "      <td>2024074</td>\n",
       "      <td>16</td>\n",
       "    </tr>\n",
       "    <tr>\n",
       "      <th>Washington</th>\n",
       "      <td>5379184</td>\n",
       "      <td>14</td>\n",
       "    </tr>\n",
       "  </tbody>\n",
       "</table>\n",
       "</div>"
      ],
      "text/plain": [
       "              Population  Number of Restaurants\n",
       "City                                           \n",
       "Baltimore        2106068                     13\n",
       "Chicago          8604203                     15\n",
       "Denver           2876625                     11\n",
       "Jacksonville     1181496                     18\n",
       "Memphis          1066967                     13\n",
       "New Orleans      1020886                      5\n",
       "Providence       1203230                     17\n",
       "Raleigh          1038738                     15\n",
       "St. Louis        2024074                     16\n",
       "Washington       5379184                     14"
      ]
     },
     "execution_count": 26,
     "metadata": {},
     "output_type": "execute_result"
    }
   ],
   "source": [
    "city_restaurant_df=pd.DataFrame({\"Population\":city_population,\"Number of Restaurants\":number_restaurants})\n",
    "city_restaurant_df"
   ]
  },
  {
   "cell_type": "code",
   "execution_count": 63,
   "id": "0e7bde4b",
   "metadata": {},
   "outputs": [
    {
     "data": {
      "image/png": "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\n",
      "text/plain": [
       "<Figure size 576x432 with 2 Axes>"
      ]
     },
     "metadata": {
      "needs_background": "light"
     },
     "output_type": "display_data"
    },
    {
     "data": {
      "text/plain": [
       "<Figure size 432x288 with 0 Axes>"
      ]
     },
     "metadata": {},
     "output_type": "display_data"
    }
   ],
   "source": [
    "city_restaurant_df.plot( kind= 'bar' , secondary_y= 'Number of Restaurants' , figsize=(8,6), rot= 45,\n",
    "                       title=\"Population and Number of Restaurants per City\",\n",
    "                       ylabel=\"Population\")\n",
    "plt.show()\n",
    "plt.tight_layout()"
   ]
  },
  {
   "cell_type": "code",
   "execution_count": 80,
   "id": "628710cf",
   "metadata": {},
   "outputs": [
    {
     "data": {
      "text/plain": [
       "<matplotlib.legend.Legend at 0x16adc466cd0>"
      ]
     },
     "execution_count": 80,
     "metadata": {},
     "output_type": "execute_result"
    },
    {
     "data": {
      "image/png": "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\n",
      "text/plain": [
       "<Figure size 432x288 with 1 Axes>"
      ]
     },
     "metadata": {
      "needs_background": "light"
     },
     "output_type": "display_data"
    }
   ],
   "source": [
    "#create data\n",
    "\n",
    "#add lines to plot\n",
    "plt.bar(city_restaurant_df.index,city_restaurant_df['Population'], label='Population', color='green')\n",
    "plt.bar(city_restaurant_df.index, city_restaurant_df['Number of Restaurants'], label='Number of Restaurants', color='steelblue')\n",
    "\n",
    "#place legend in center right of plot\n",
    "plt.legend(loc='center right', title='Metric')"
   ]
  },
  {
   "cell_type": "code",
<<<<<<< HEAD
   "execution_count": 66,
=======
   "execution_count": 30,
>>>>>>> 3a4c2235c001abc09e939f35aab0c2fc856eee1c
>>>>>>> a8a23f9722645801d6bd8fffa061dbce96800007
   "id": "46e886d9",
   "metadata": {},
   "outputs": [
    {
     "data": {
      "text/plain": [
       "City                  object\n",
       "State                 object\n",
       "Latitude             float64\n",
       "Longitude            float64\n",
       "Population             int64\n",
       "Restaurant            object\n",
       "Rating               float64\n",
       "Number of Reviews      int64\n",
       "Price Level            int64\n",
       "Lat_Restaurant       float64\n",
       "Long_Restaurant      float64\n",
       "Vicinity              object\n",
       "dtype: object"
      ]
     },
<<<<<<< HEAD
     "execution_count": 66,
=======
<<<<<<< HEAD
     "execution_count": 24,
=======
     "execution_count": 30,
>>>>>>> 3a4c2235c001abc09e939f35aab0c2fc856eee1c
>>>>>>> a8a23f9722645801d6bd8fffa061dbce96800007
     "metadata": {},
     "output_type": "execute_result"
    }
   ],
   "source": [
    "complete_df.dtypes"
   ]
  },
  {
   "cell_type": "code",
<<<<<<< HEAD
   "execution_count": 67,
=======
<<<<<<< HEAD
   "execution_count": 42,
=======
   "execution_count": 31,
>>>>>>> a8a23f9722645801d6bd8fffa061dbce96800007
   "id": "34235a41",
   "metadata": {},
   "outputs": [
    {
     "data": {
      "text/plain": [
       "City\n",
       "Baltimore       4.461538\n",
       "Chicago         4.366667\n",
       "Denver          4.381818\n",
       "Jacksonville    4.538889\n",
       "Memphis         4.430769\n",
       "New Orleans     4.360000\n",
       "Providence      4.494118\n",
       "Raleigh         4.446667\n",
       "St. Louis       4.518750\n",
       "Washington      4.450000\n",
       "Name: Rating, dtype: float64"
      ]
     },
     "execution_count": 67,
     "metadata": {},
     "output_type": "execute_result"
    }
   ],
   "source": [
    "# Mean Rating per city\n",
    "mean_rating=complete_df.groupby([\"City\"]).mean()[\"Rating\"]\n",
    "mean_rating"
   ]
  },
  {
   "cell_type": "code",
   "execution_count": 68,
   "id": "d8379790",
   "metadata": {},
   "outputs": [
    {
     "data": {
      "text/plain": [
       "City\n",
       "Baltimore        722.307692\n",
       "Chicago          928.933333\n",
       "Denver           725.818182\n",
       "Jacksonville     924.611111\n",
       "Memphis         1579.076923\n",
       "New Orleans      477.000000\n",
       "Providence       880.411765\n",
       "Raleigh          862.933333\n",
       "St. Louis       1164.250000\n",
       "Washington      2780.714286\n",
       "Name: Number of Reviews, dtype: float64"
      ]
     },
     "execution_count": 68,
     "metadata": {},
     "output_type": "execute_result"
    }
   ],
   "source": [
    "# Mean Number of Reviews per city\n",
    "number_reviews=complete_df.groupby([\"City\"]).mean()[\"Number of Reviews\"]\n",
    "number_reviews"
   ]
  },
  {
   "cell_type": "code",
   "execution_count": 69,
   "id": "a4b630b4",
   "metadata": {},
   "outputs": [
    {
     "data": {
      "text/html": [
       "<div>\n",
       "<style scoped>\n",
       "    .dataframe tbody tr th:only-of-type {\n",
       "        vertical-align: middle;\n",
       "    }\n",
       "\n",
       "    .dataframe tbody tr th {\n",
       "        vertical-align: top;\n",
       "    }\n",
       "\n",
       "    .dataframe thead th {\n",
       "        text-align: right;\n",
       "    }\n",
       "</style>\n",
       "<table border=\"1\" class=\"dataframe\">\n",
       "  <thead>\n",
       "    <tr style=\"text-align: right;\">\n",
       "      <th></th>\n",
       "      <th>Rating</th>\n",
       "      <th>Number of Reviews</th>\n",
       "    </tr>\n",
       "    <tr>\n",
       "      <th>City</th>\n",
       "      <th></th>\n",
       "      <th></th>\n",
       "    </tr>\n",
       "  </thead>\n",
       "  <tbody>\n",
       "    <tr>\n",
       "      <th>Baltimore</th>\n",
       "      <td>4.461538</td>\n",
       "      <td>722.307692</td>\n",
       "    </tr>\n",
       "    <tr>\n",
       "      <th>Chicago</th>\n",
       "      <td>4.366667</td>\n",
       "      <td>928.933333</td>\n",
       "    </tr>\n",
       "    <tr>\n",
       "      <th>Denver</th>\n",
       "      <td>4.381818</td>\n",
       "      <td>725.818182</td>\n",
       "    </tr>\n",
       "    <tr>\n",
       "      <th>Jacksonville</th>\n",
       "      <td>4.538889</td>\n",
       "      <td>924.611111</td>\n",
       "    </tr>\n",
       "    <tr>\n",
       "      <th>Memphis</th>\n",
       "      <td>4.430769</td>\n",
       "      <td>1579.076923</td>\n",
       "    </tr>\n",
       "    <tr>\n",
       "      <th>New Orleans</th>\n",
       "      <td>4.360000</td>\n",
       "      <td>477.000000</td>\n",
       "    </tr>\n",
       "    <tr>\n",
       "      <th>Providence</th>\n",
       "      <td>4.494118</td>\n",
       "      <td>880.411765</td>\n",
       "    </tr>\n",
       "    <tr>\n",
       "      <th>Raleigh</th>\n",
       "      <td>4.446667</td>\n",
       "      <td>862.933333</td>\n",
       "    </tr>\n",
       "    <tr>\n",
       "      <th>St. Louis</th>\n",
       "      <td>4.518750</td>\n",
       "      <td>1164.250000</td>\n",
       "    </tr>\n",
       "    <tr>\n",
       "      <th>Washington</th>\n",
       "      <td>4.450000</td>\n",
       "      <td>2780.714286</td>\n",
       "    </tr>\n",
       "  </tbody>\n",
       "</table>\n",
       "</div>"
      ],
      "text/plain": [
       "                Rating  Number of Reviews\n",
       "City                                     \n",
       "Baltimore     4.461538         722.307692\n",
       "Chicago       4.366667         928.933333\n",
       "Denver        4.381818         725.818182\n",
       "Jacksonville  4.538889         924.611111\n",
       "Memphis       4.430769        1579.076923\n",
       "New Orleans   4.360000         477.000000\n",
       "Providence    4.494118         880.411765\n",
       "Raleigh       4.446667         862.933333\n",
       "St. Louis     4.518750        1164.250000\n",
       "Washington    4.450000        2780.714286"
      ]
     },
     "execution_count": 69,
     "metadata": {},
     "output_type": "execute_result"
    }
   ],
   "source": [
    "# Plot bar \n",
    "summary_rating_df=pd.DataFrame({\"Rating\":mean_rating,\"Number of Reviews\":number_reviews})\n",
    "summary_rating_df"
   ]
  },
  {
   "cell_type": "code",
   "execution_count": 81,
   "id": "ba78ac4a",
   "metadata": {},
   "outputs": [
    {
     "data": {
      "image/png": "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\n",
      "text/plain": [
       "<Figure size 576x432 with 2 Axes>"
      ]
     },
     "metadata": {
      "needs_background": "light"
     },
     "output_type": "display_data"
    }
   ],
   "source": [
    "summary_rating_df.plot( kind= 'bar' , secondary_y= 'Number of Reviews' , figsize=(8,6), rot= 45,\n",
    "                      title=\"Average Rating and Number of Reviews Based by City\",\n",
    "                      ylabel=\"Rating\")\n",
    "\n",
    "plt.show()\n",
    "\n",
    "#city_restaurant_df.plot( kind= 'bar' , secondary_y= 'Number of Restaurants' , figsize=(8,6), rot= 45,\n",
    "                       #title=\"Population and Number of Restaurants per City\",\n",
    "                       #ylabel=\"Population\")"
   ]
  },
  {
   "cell_type": "code",
   "execution_count": null,
   "id": "82d579c1",
   "metadata": {},
   "outputs": [],
   "source": []
  },
  {
   "cell_type": "code",
<<<<<<< HEAD
   "execution_count": 82,
=======
   "execution_count": null,
>>>>>>> 3a4c2235c001abc09e939f35aab0c2fc856eee1c
>>>>>>> a8a23f9722645801d6bd8fffa061dbce96800007
   "id": "78147ece",
   "metadata": {},
   "outputs": [],
   "source": [
    "# Create a function to create Linear Regression plots\n",
    "\n",
    "# x_values: first variable\n",
    "# y_values: second variable\n",
    "# regEQplotX: control the location where the linear regression equation appears on the plot x line\n",
    "# regEQplotY: control the location where the linear regression equation appears on the plot y line\n",
    "# y_label: the y axis label of the plot (x label is always Latitude)\n",
    "\n",
    "def linearRegression(x_values,y_values,regEQplotX,regEQplotY,y_label):\n",
    "    (slope, intercept, rvalue, pvalue, stderr) = linregress(x_values, y_values)\n",
    "    regress_values = x_values * slope + intercept\n",
    "    line_eq = (f\"y = {round(slope,2)}x + {round(intercept,2)}\")\n",
    "    plt.scatter(x_values,y_values)\n",
    "    plt.plot(x_values,regress_values,\"r-\")\n",
    "    print(f\"The r-square is {rvalue}\")\n",
    "    print(line_eq)\n",
    "    plt.annotate(line_eq,(regEQplotX,regEQplotY),fontsize=15,color=\"red\")\n",
    "    plt.xlabel(f\"{x_label}\")    \n",
    "    plt.ylabel(f\"{y_label}\")\n",
    "    plt.grid(False)"
   ]
  },
  {
   "cell_type": "code",
<<<<<<< HEAD
   "execution_count": 83,
   "id": "9379193e",
   "metadata": {},
   "outputs": [
    {
     "name": "stdout",
     "output_type": "stream",
     "text": [
      "The r-square is 0.1146580649440568\n",
      "y = 0.0x + 936.61\n"
     ]
    },
    {
     "data": {
      "image/png": "iVBORw0KGgoAAAANSUhEUgAAAZIAAAEWCAYAAABMoxE0AAAAOXRFWHRTb2Z0d2FyZQBNYXRwbG90bGliIHZlcnNpb24zLjUuMSwgaHR0cHM6Ly9tYXRwbG90bGliLm9yZy/YYfK9AAAACXBIWXMAAAsTAAALEwEAmpwYAAAvC0lEQVR4nO3de5xdVX338c83V4YkkHBphAQIBQyFiGBGSKVqQmyDiJBSsVAFalFaireHSiGWPuijSCxqK6LW1CgglxguBpSbCAyIJVySACFgJECABAi3BBIMuUx+zx97HXIyOefMmdnnMpP5vl+vec05a99+Zy77t/daa6+liMDMzKy7+jU7ADMz692cSMzMLBcnEjMzy8WJxMzMcnEiMTOzXJxIzMwsFycSayhJl0j6eo7t10j601rGtC2QFJL2bdKxx0paIGm1pM838LhflvTjRh3PynMi6cMkLZW0Np2cV0j6qaShzY6rQFKbpE8Xl0XE0Ih4qsbHuVXS/ytRfqykFyUNkDRa0rWSXpH0uqSFkv6+zP4mphP79zuU31Num17uX4G2iBgWERd1XJh+j2+lv7NXJF0nabe8B42Ib0TEpztf0+rNicQ+GhFDgfcA7wXObXI8zXAJcJIkdSg/CbgiIjYCPwOeA/YCdgZOBlZU2OebwMmSxtQ82jqSNKAbm+0FLOpknc+mv7N9gaHAt7pxHOuhnEgMgIhYDtwMjAOQdIykRZJWpSvKPyusm+5kpkl6TNLKdCezXVr295LuKd53uWoXSSMk/UrSy2k/v5I0Oi07H3g/cHG6kr24474k7SjpsrT9M5LOldSvOA5J30r7flrSh8t8/DnATul4b8cGHA1cloreC1wSEW9GxMaIWBARN1f4ka4iS1DnlVoo6SuSLi96PyZ9tgHpfZukr0v63/T5fylpZ0lXSHpD0gMlktRRkp5KV/0XFn4WaX//IOnx9LO4VdJeRctC0hmSngCeKBNvyb8HSXcAk9j8e3pnhZ8JEbGK7Od9cNG+95d0m6TXJC2W9PFUPiHdEfYvWvevJT1S5mc4If28Vkl6WNLEVD5J0sKi9X4j6f6i9/dImppeny1pubJqusWSJlf6PJZxIjEAJO0BHAUsSCeDq4AvArsCNwG/lDSoaJNPAFOAfYB30r07mX7AT8muaPcE1gIXA0TEvwG/JV3JRsRnS2z/PWBH4E+BD5LdJXyqaPlhwGJgF+A/gJkl7jqIiLXA7LR9wceB30fEw+n9XOD7kk6QtGeVn+984G8kja1y/Y5OILsrGkX2c76X7Oe1E/A4WyepvwZaye4ujwX+ASCdJL8MHEf2+/wt2e+32FSyn9cBHYOo9PcQEUew5e/pD5U+kKSdUxxL0vshwG3AlcCfACcCP5B0YETMJbuzO6JoF3+X1u2431HAjcDXyX4+XwKulbQr2c9tX0m7pEQ9DhgtaZikFmA88Nv0e/os8N6IGEb297200uexjBOJzZG0CrgHuAv4BvC3wI0RcVtEbCCrhmgB3le03cUR8VxEvEZ2wjyxqweOiFcj4tqI+GNErE77+WA126ar1L8FpkXE6ohYCnyb7MRb8ExE/E9EtAOXArsBI8vs8lLg+HRigSypXFq0/HiyE+a/A09LekjSezv5fC8C/w1s1f5SpZ9GxJMR8TrZ3eKTEfGbVNV2NXBIh/W/GRGvRcSzwH+x+Xfyj8AFEfF42vYbwMHFdyVp+WspqXZUzd9DZy6S9DrwClli/1wqPxpYGhE/TXd684FrgY+l5VcVPoekYWQXOx2TIMAngZsi4qaI2BQRtwEPAkdFxFvp9QfIEu0jZH/vhwMTgCci4lWgHRgMHCBpYEQsjYgnu/AZ+ywnEpsaEcMjYq+I+Od0ItkdeKawQkRsImsfGFW03XNFr59J23SJpO0l/ShVS70B3A0ML67KqGAXYFBxnOl1cYwvFl5ExB/Ty5KdCSLiHuBl4FhlvcLeS9GVb0SsjIhzIuJAsmT0EFkS3uoOp4NvAlMkvbuKz9RRcRvM2hLvO36Wcr+TvYDvpiqfVcBrgCj/++yomr+Hznw+InYEDgJGAKOLYjusEFuK7xPAO9LyK4HjJA0mu5OZHxHPsLW9yC4EivfzF2QXD5BdJE0kSyZ3AW1kFy0fTO+JiCVkd11fAV6SNEtSl/+u+yInEivlebJ/TADSyXIPYHnROnsUvd4zbQNZVcT2Rdu+g/L+BRgLHBYRO5D9k0N2kgOoNDT1K8CG4jhTHMtLr16Vy8juRE4Cfh0RJRvTI+IVsqvy3cmqUcpKV7r/BXytw6Itfk5sPnHmUe538hzwj+mCofDVEhH/Wxxqhf1W8/dQlYhYSFb99P20n+eAuzrENjQiTk/rP0aWxD5MmWqtos/4sw77GRIR09PyjonkLjokknS8KyPiL9LnDbILAeuEE4mVMhv4iKTJkgaSnfDXAcUnnjOUdYndiaz+/eep/GHgQEkHK2uA/0qF4wwju7JelfbTsc5/BVn7x1ZSddVs4PxU170XcCZwean1q3QZ8CHgM2xZrYWkb0oap6wr8DDgdGBJShSd+Q5ZNdCfFZU9BHxA0p6SdgSm5Yi74CxlHRj2AL7A5t/JfwPTJB2YPsuOko7vwn6r+XvoikvJ2kOOAX4FvFPSSZIGpq/3qqhzB1ny+DxZEri6zD4vBz4qaYqk/pK2U9YNu3Dn879kFy2HAvdHxCLS3RDZnXDheZgj0t3PW2R/m+3d/Ix9ihOJbSUiFpPVOX+P7Mr/o2TdhNcXrXYl8GvgqfT19bTtH8jaBH5D1gNoix5cHfwXWV37K2SN2bd0WP5d4GPKehpt9XwCWT37m+n496SYflLt5+wotbP8LzAEuKHD4u2BX5D1xnqK7CR0TJX7fYOssX+norLbyE70jwDzyE6oeV2f9vUQWcPzzHSsX5BdWc9KVYiPkl3hV6XKv4eqpe0uAv49tY39FVnHgufJqiO/SdZWUXAV2d3EHelusNQ+nyPrYPBlsirK54CzSOe4iHgTmA8sKor7XrJ2tJfS+8HA9PQZXyRLdl/uzmfsa+SJrayrJC0FPh0Rv2l2LGbWfL4jMTOzXJxIzMwsF1dtmZlZLr4jMTOzXLozQFuvtssuu8SYMWO6vN2bb77JkCFDah9QDfX0GB1fPo4vH8eXz7x5816JiF1LLoyIPvU1fvz46I4777yzW9s1Uk+P0fHl4/jycXz5AA9GmfOqq7bMzCwXJxIzM8vFicTMzHJxIjEzs1ycSMzMLJc+1/3XrC+Zs2A5F966mOdXrWX34S2cNWUsUw/pyjQiZp1zIjHbRs1ZsJxp1y1k7YZsJPTlq9Yy7bps6nInE6slV22ZbaMuvHXx20mkYO2Gdi68dXGTIrJtlROJ2Tbq+VWlpl8vX27WXU4kZtuo3Ye3dKncrLucSMy2UWdNGUvLwP5blLUM7M9ZU8Y2KSLbVrmx3WwbVWhQd68tqzcnErNt2NRDRjlxWN05kZhtw/wciTWCE4nZNsrPkVij1K2xXdJPJL0k6dGisgsl/V7SI5J+IWl40bJpkpZIWixpSlH5eEkL07KLJCmVD5b081R+n6Qx9fosZr2RnyOxRqlnr61LgCM7lN0GjIuIg4A/ANMAJB0AnAAcmLb5gaRCd5MfAqcB+6Wvwj5PBVZGxL7AfwLfrNsnMeuF/ByJNUrdEklE3A281qHs1xGxMb2dC4xOr48FZkXEuoh4GlgCHCppN2CHiLg3zdB1GTC1aJtL0+trgMmFuxUz83Mk1jjKzs912nlW3fSriBhXYtkvgZ9HxOWSLgbmRsTladlM4GZgKTA9Ij6Uyt8PnB0RR6cqsyMjYlla9iRwWES8UuJYp5Hd1TBy5Mjxs2bN6vJnWbNmDUOHDu3ydo3U02N0fPl0Nb5VazewfOVaNhX9j/eTGDWiheEtA5seX6M5vnwmTZo0LyJaSy1rSmO7pH8DNgJXFIpKrBYVyitts3VhxAxgBkBra2tMnDixK+EC0NbWRne2a6SeHqPjy6c78TWy19a2+PNrpJ4eXyUNTySSTgGOBibH5tuhZcAeRauNBp5P5aNLlBdvs0zSAGBHOlSlmfV1fo7EGqGhQ6RIOhI4GzgmIv5YtOgG4ITUE2tvskb1+yPiBWC1pAmp/eNk4PqibU5Jrz8G3BH1rKczM7OS6nZHIukqYCKwi6RlwHlkvbQGA7eldvG5EfFPEbFI0mzgMbIqrzMiotBv8XSyHmAtZO0mN6fymcDPJC0huxM5oV6fxczMyqtbIomIE0sUz6yw/vnA+SXKHwS2aqyPiLeA4/PEaGZm+Xn0XzMzy8WJxMzMcnEiMTOzXJxIzMwsFycSMzPLxYnEzMxycSIxM7NcnEjMzCwXJxIzM8vFicTMzHJxIjEzs1ycSMzMLBcnEjMzy8WJxMzMcnEiMTOzXJxIzMwsFycSMzPLxYnEzMxycSIxM7NcnEjMzCwXJxIzM8vFicTMzHJxIjEzs1zqlkgk/UTSS5IeLSrbSdJtkp5I30cULZsmaYmkxZKmFJWPl7QwLbtIklL5YEk/T+X3SRpTr89iZmbl1fOO5BLgyA5l5wC3R8R+wO3pPZIOAE4ADkzb/EBS/7TND4HTgP3SV2GfpwIrI2Jf4D+Bb9btk5iZWVl1SyQRcTfwWofiY4FL0+tLgalF5bMiYl1EPA0sAQ6VtBuwQ0TcGxEBXNZhm8K+rgEmF+5WzMyscQY0+HgjI+IFgIh4QdKfpPJRwNyi9Zalsg3pdcfywjbPpX1tlPQ6sDPwSseDSjqN7K6GkSNH0tbW1uXA16xZ063tGqmnx+j48nF8+Ti++ml0Iimn1J1EVCivtM3WhREzgBkAra2tMXHixC4H2NbWRne2a6SeHqPjy8fx5eP46qfRvbZWpOoq0veXUvkyYI+i9UYDz6fy0SXKt9hG0gBgR7auSjMzszprdCK5ATglvT4FuL6o/ITUE2tvskb1+1M12GpJE1L7x8kdtins62PAHakdxczMGqhuVVuSrgImArtIWgacB0wHZks6FXgWOB4gIhZJmg08BmwEzoiI9rSr08l6gLUAN6cvgJnAzyQtIbsTOaFen8XMzMqrWyKJiBPLLJpcZv3zgfNLlD8IjCtR/hYpEZmZWfP4yXYzM8vFicTMzHJxIjEzs1ycSMzMLJcuJRJJ/STtUK9gzMys9+k0kUi6UtIOkoaQdc9dLOms+odmZma9QTV3JAdExBtkgyXeBOwJnFTPoMzMrPeoJpEMlDSQLJFcHxEbKDOmlZmZ9T3VJJIfAUuBIcDdkvYC3qhnUGZm1nt0mkgi4qKIGBURR6WxrJ4FJtU/NDMz6w06HSJF0pNkc4X8Frg7IgrjYZmZmVXX2E5WvbUz8C1JT0n6RX3DMjOz3qKaRNJONlNhO7AJWMHmeUTMzKyPq2b03zeAhcB3gP+JiFfrG5KZmfUm1dyRnAjcDfwzMEvSVyWVHArezMz6nk7vSCLieuB6SfsDHwa+CPwr2URTZmbWx1UzRMq1qefWd8meJTkZGFHvwMzMrHeopo1kOjC/aOpbMzOzt1XTRrIImCZpBoCk/SQdXd+wzMyst6gmkfwUWA+8L71fBny9bhGZmVmvUk0i2Sci/oPsWRIiYi2gukZlZma9RjWJZL2kFtKIv5L2AdbVNSozM+s1qmlsPw+4BdhD0hXA4cDf1zMoMzPrPaoZ/fc24Diy5HEV0BoRbXkOKun/SFok6VFJV0naTtJOkm6T9ET6PqJo/WmSlkhaLGlKUfl4SQvTsoskucrNzKzByiaS9AAikt4D7AW8ADwP7JnKukXSKODzZAlpHNAfOAE4B7g9IvYDbk/vkXRAWn4gcCTwA0n90+5+CJwG7Je+juxuXGZm1j2VqrbOJDtJf7vEsgCOyHncFkkbgO3JEtQ0YGJafinQBpwNHAvMioh1wNOSlgCHSloK7BAR9wJIuoxsFsebc8RlZmZdpGyuqgYfVPoCcD6wFvh1RHxC0qqIGF60zsqIGCHpYmBuRFyeymeSJYulwPSI+FAqfz9wdkRs9YyLpNPIkiIjR44cP2vWrC7HvGbNGoYOHdrl7Rqpp8fo+PJxfPk4vnwmTZo0LyJaSy2rZmKrh4FZwOyIeDJvMKnt41hgb2AVcLWkT1bapERZVCjfujBiBjADoLW1NSZOnNiFiDNtbW10Z7tG6ukxOr58HF8+jq9+qun+ewzZXCSzJT0g6UuS9sxxzA8BT0fEyxGxAbiO7GHHFZJ2A0jfC3OeLAP2KNp+NFlV2LL0umO5mZk1UDW9tp6JiP+IiPHA3wEHAU/nOOazwARJ26deVpOBx4EbgFPSOqcA16fXNwAnSBosaW+yRvX7I+IFYLWkCWk/JxdtY2ZmDVLNcyRIGgN8HPhbsruTf+3uASPiPknXAPPJ5n5fQFbtNJTsrudUsmRzfFp/kaTZQGGu+DOKBpA8HbiEbEj7m3FDu5lZw1XTRnIfMBC4Gjg+Ip7Ke9CIOI/sQcdi68juTkqtfz5Z43zH8geBcXnjMTOz7qvmjuSUiPh93SMxM7NeqZrG9pWSZkq6GbIHBFP1k5mZWVWJ5BLgVmD39P4PZNPtmpmZVZVIdomI2cAmgIjYSNbgbmZmVlUieVPSzmweRn4C8HpdozIzs16jmsb2M8me5dhH0u+AXYGP1TUqMzPrNTpNJBExX9IHgbFkw5IsBg6td2BmZtY7lE0kaaj2jwOjgJvTg4FHkz082AIc0pgQzcysJ6t0RzKTbIyr+4HvSXoGmABMi4g5DYjNzMx6gUqJpBU4KCI2SdoOeAXYNyJebExoZmbWG1TqtbU+Igpdft8C/uAkYmZmHVW6I9lf0iPptch6bT2SXkdEHFT36MzMrMerlEj+rGFRmJlZr1U2kUTEM40MxMzMeqdqnmw3MzMry4nEzMxyKZtIJN2evn+zceGYmVlvU6mxfbc0NMoxkmaR9dZ6W0TMr2tkZmbWK1RKJP8XOAcYDXynw7IAjqhXUGZm1ntU6rV1DXCNpH+PiK81MCYzM+tFqhn992uSjgE+kIraIuJX9Q3LzMx6i057bUm6APgC8Fj6+kIqMzMzq2piq48ABxfG3ZJ0KbAAmFbPwMzMrHeo9jmS4UWvd8x7UEnDJV0j6feSHpf055J2knSbpCfS9xFF60+TtETSYklTisrHS1qYll0kSaWPaGZm9VJNIrkAWCDpknQ3Mg/4Rs7jfhe4JSL2B94NPE7WQ+z2iNgPuD29R9IBwAnAgcCRwA/SpFsAPwROA/ZLX0fmjMvMzLqo00QSEVeRTWh1Xfr684iY1d0DStqBrOF+Ztr/+ohYBRwLXJpWuxSYml4fC8yKiHUR8TSwBDhU0m7ADhFxb0QEcFnRNmZm1iDKzsENPKB0MNl0vY+R3Y3MI2vMXx4Rw4vWWxkRIyRdDMyNiMtT+UzgZmApMD0iPpTK3w+cHRFHlzjmaWR3LowcOXL8rFldz4Nr1qxh6NChXd6ukXp6jI4vH8eXj+PLZ9KkSfMiorXUsmoa22ttAPAe4HMRcZ+k75Kqscoo1e4RFcq3LoyYQZa8aG1tjYkTJ3YpYIC2tja6s10j9fQYHV8+ji8fx1c/zRi0cRmwLCLuS++vIUssK1J1Fen7S0Xr71G0/Wjg+VQ+ukS5mZk1UMVEIqmfpEdrecA0Xe9zksamoslk1Vw3AKekslOA69PrG4ATJA2WtDdZo/r9EfECsFrShNRb6+SibczMrEEqVm1FxCZJD0vaMyKereFxPwdcIWkQ8BTwKbKkNlvSqcCzwPEphkWSZpMlm43AGRHRnvZzOnAJ0ELWbnJzDWM0M7MqVNNGshuwSNL9wJuFwog4prsHjYiHgFKNNpPLrH8+cH6J8geBcd2Nw8zM8qsmkXy17lGYmVmvVc2gjXdJ2gvYLyJ+I2l7oH9n25mZWd9QzaCNnyHrWfWjVDQKmFPHmMzMrBeppvvvGcDhwBsAEfEE8Cf1DMrMzHqPahLJuohYX3gjaQBlHvwzM7O+p5pEcpekLwMtkv4SuBr4ZX3DMjOz3qKaRHIO8DKwEPhH4Cbg3HoGZWZmvUc1vbY2peHj7yOr0locjR7p0czMeqxOE4mkjwD/DTxJNlDi3pL+MSL8FLmZmVX1QOK3gUkRsQRA0j7AjXg4EjMzo7o2kpcKSSR5is0j85qZWR9X9o5E0nHp5SJJNwGzydpIjgceaEBsZpbTnAXLufDWxTy/ai27D2/hrCljmXrIqGaHZduYSlVbHy16vQL4YHr9MjCibhGZWU3MWbCcadctZO2GbLDs5avWMu26hQBOJlZTZRNJRHyqkYGYWW1deOvit5NIwdoN7Vx462InEqupanpt7U02f8iY4vXzDCNvZvX3/Kq1XSo3665qem3NAWaSPc2+qa7RmFnN7D68heUlksbuw1uaEI1ty6pJJG9FxEV1j8TMauqsKWO3aCMBaBnYn7OmjK2wlVnXVZNIvivpPODXwLpCYUTMr1tUPZR7wFhvUvjb9N+s1Vs1ieRdwEnAEWyu2or0vs9YtXYD0253DxjrXaYeMsp/n1Z31SSSvwb+tHgo+b5oxetvsXbDls9vugeMmVl1T7Y/DAyvcxw93vr20v0M3APGzPq6au5IRgK/l/QAW7aR9Knuv4P6l8657gFjZn1dNYnkvLpH0QuM3HE7Wga2uweMmVkHnVZtRcRdpb7yHlhSf0kLJP0qvd9J0m2SnkjfRxStO03SEkmLJU0pKh8vaWFadpEk5Y2rnOEtA7nguHcxangLAkYNb+GC497l9hEz6/OqebJ9NZvnaB8EDATejIgdch77C8DjQGE/5wC3R8R0Seek92dLOgA4ATgQ2B34jaR3RkQ78EPgNGAu2cyNR1LH4e3dA8bMbGvV3JEMi4gd0td2wN8AF+c5qKTRwEeAHxcVHwtcml5fCkwtKp8VEesi4mlgCXCopN2AHSLi3jRj42VF25iZWYOoO7PmSpobERO6fVDpGuACYBjwpYg4WtKqiBhetM7KiBgh6WJgbkRcnspnkt11LAWmR8SHUvn7gbMj4ugSxzuN7M6FkSNHjp81a1aXY16zZg1Dhw7t8naN1NNjdHz5OL58HF8+kyZNmhcRraWWVVO1dVzR235AK5ururpM0tFkk2XNkzSxmk1KlEWF8q0LI2YAMwBaW1tj4sRqDrultrY2urNdI/X0GB1fPo4vH8dXP9X02iqel2Qj2Z3AsTmOeThwjKSjgO2AHSRdDqyQtFtEvJCqrQqzMC4D9ijafjTwfCofXaLczMwaqNNEUut5SSJiGjANIN2RfCkiPinpQuAUYHr6fn3a5AbgSknfIWts3w+4PyLaJa2WNAG4DzgZ+F4tYzUzs85Vmmr3/1bYLiLiazWOZTowW9KpwLNkU/oSEYskzQYeI7sjOiP12AI4HbgEaCFrN6lbjy0zMyut0h3JmyXKhgCnAjsDuRNJRLQBben1q8DkMuudD5xfovxBYFzeOMzMtmX1Hrm80lS73y68ljSM7LmPTwGzgG+X287MzHqOOQuWbzEvTT1GLq/YRiJpJ+BM4BNkz3a8JyJW1uTIZlZ3nkPHLrx18RZDO0HtRy6v1EZyIXAcWbfZd0XEmpoc0cwaohFXotbzlRuhvJYjl1d6sv1fyHpJnQs8L+mN9LVa0hs1i8DM6qLSlaj1HeVGKK/lyOVlE0lE9IuIlg5DpOxQeF+zCMysLhpxJWo931lTxtIysP8WZbUeubyaia3MrBdqxJWo9XxTDxlV95HLq3my3cx6obOmjN2ijQQ8h05fVe+Ry51IzLZRhROHe21ZvTmRmG3DPIeONYLbSMzMLBcnEjMzy8VVW11Q7inhc+cs5Kr7nqM9gv4SJx62B1+f+q5mh2tm1hBOJFVatXYD027f+inhqx98lt89+drb67VHcPncZwGcTMysT3DVVpVWvP5WyaeEi5NIsavue64RYb1tzoLlLH5xNXufcyOHT7+DOQuWN/T4ZtZ3OZFUaX37pi6t3x7dno24ywpjKq1v30Sw+W7JycTMGsGJpEr9VGqK+PL6d3H9PDymkpk1kxNJFeYsWM6mMncYA/qVThgnHrZHyfJ68JhKZtZMTiRVqHRlv3HT1gnm8H12amhDu8dUMrNmciKpQlev7Je+2tg7gUn779qlcjOzWnIiqUJXr+wbXaV05+9f7lK5mVktOZFU4awpY1EXGs8bXaXkNhIzayYnkipMPWQUZdrU6VjcjGG6yyWuAD9TYmZ150RSpfYSjeqQnazrOWFMNUrNgFbgZ0rMrN4aPkSKpD2Ay4B3AJuAGRHxXUk7AT8HxgBLgY9HxMq0zTTgVKAd+HxE3JrKxwOXAC3ATcAXImr/JGClk/Co4S387pwjan3ILikkrhWL55dcXnimxMOJm1k9NOOOZCPwLxHxZ8AE4AxJBwDnALdHxH7A7ek9adkJwIHAkcAPJBUuv38InAbsl76OrEfA5br/CnrMbHNTDxnF2HcM26qqrcDtJX3TnAXLOXz6HR46x+qq4YkkIl6IiPnp9WrgcWAUcCxwaVrtUmBqen0sMCsi1kXE08AS4FBJuwE7RMS96S7ksqJtaqrcSTigx13l+5kSKygMnbN81VoPnWN1pTrUBFV/cGkMcDcwDng2IoYXLVsZESMkXQzMjYjLU/lM4Gay6q/pEfGhVP5+4OyIOLrEcU4ju3Nh5MiR42fNmtWlOBe/uJoRgzaxokM+GdS/H2PfMaxL+6qnNWvWsLH/YJavXLvFk/j9JEaNaGF4y8AmRpfFN3To0KbGUMm2Ft/iF1eXHCOuXn+329rPr9F6enyTJk2aFxGtpZY1bRh5SUOBa4EvRsQbFbrXlloQFcq3LoyYAcwAaG1tjYkTJ3Yp1lULlrPs8Xl8e+HmBu2B/cWFH3s3E3vQHUlbWxsTJ04sO29KsxXi66m2tfg+dc6NRIlKBwFPT69+P9Xa1n5+jdbT46ukKYlE0kCyJHJFRFyXildI2i0iXkjVVi+l8mVA8cBVo4HnU/noEuX10TFFNe9GrqQ5C5az4sXVfOqcG3tU8rDm2X14C8tLVMu6mtNqreFtJMpuPWYCj0fEd4oW3QCckl6fAlxfVH6CpMGS9iZrVL8/Il4AVkuakPZ5ctE2NXXhrYuJDpljw6bgwlsXc+6chewz7SbGnHMj+0y7iXPnLKxHCBXNWbCcM3/+0BbDyJ/584dcF97HleoW3oznnGzb14xeW4cDJwFHSHoofR0FTAf+UtITwF+m90TEImA28BhwC3BGRBTGTD8d+DFZA/yTZG0nNVeusX35qrVcPvfZt+ceKcyO2OhkMu26R+hYE74plVvfNfWQUVxw3Lua/pyTbfsaXrUVEfdQun0DYHKZbc4Hzi9R/iBZQ31dZVUBq6te/8r7nm3o6L9rN5SedKtceT311PaZvmrqIaP88zfmzF/Gf960iOdff4s/2XlYzf8vPWd7Fc6aMpbnHnuw6vU3RXZC7Wv/wIXuph3ntYee103arGEiYN06eOutzd9LvN75gQfg5Zc7Xe/t11Wut/GttzjmrXVMJZg25bNcdfCRNf+/dCKpwtRDRvG9LiQSoE8+SV5ppsa+9rOwHqK9/e2T6qBXX4Wnn67JyblL661fX1WoFeswJNhuu+xr8ODNr4vfDx++5bL0+ucPr+DVDWLdgEE88o59gdr/XzqR1ElffJLcoxDbFjZurN0Jubsn8Y0b3w7nfd39HP37d34SHzas5Em85Psyr+c9+ijjDz+89HoDBmTJpBvOPefGkp1Ma/l/6URSpa4MIw+N7WI5qkw3z1EN7ubp7qY9RARs2FDbE3IV6/356tWwadPmZZtq0EY3cGDlE3JLC4wYUdVJfPEzzzD2oIO6drIfPDg7iTfA6g0bYFztm3wb8X/pRFKFOQuW09URABrZxXLS/rty+dxntypfvmoth0+/o2EN3mdNGctZ1zzMhvbNP6uB/dW3upsW14fX+CQ+bvlyGDq0um1qobMT7bBhsOuub5e/unIlu48Z0+Ur8Yon8X6161j6QlsbY3vpA395nDVl7BZtl1D7buBOJFX4yg2LOHXfZkdRXqWZEBve4N3MBzeL6sO7c+Le6/HH4bbb8l2xV1kfXlFxfXjRyXXwxo3ZVf7gwdlVeDerUKraZtCgLlel/KGtjd374Im6pyv839ezN6UTSSfmLFjOqrUburzdV3+5qGENzJ3Vdda9wTsCNm7k4hseYuia1xm8cQOD2jcweON6Brdv4JYfLWHqx8ex0/33w2uv1e2Kvbg+vDv2hqwao5or8e6exKtZr0x9+LxePISGNdeDz7zGi6+/RQAvvv4WDz7zmhNJI5UbQr4zK//Y9eTTLRHsNbQ/r7y6mpbX/8jub2xi0MYNDC6cyDeuZ1D7RrbbuB6uqXASz9vouWkTv6kU54/goM4+y6BBlU+0hfrwOp3E75o7lw9OLvkok1mvde6chVtUfRcenAZq9rybE0knKl3tK4pP2hsY3L4+vV/P4I0b4K6htb36LrNNW1FMn670Ya6tsKyzE22hPrzCev/RtpQ3NYB1/QeybsAg1qfvMXgwM//p/Vv2Sum4fY3rw7sj+peeZdKsN7vyvq3bTwvlTiQNUujxMO72W/jdNdemJJFV2Qxq76Qq5WdVHKBfv85P4oWr8Arr3fTESobEG9y4YjvWDRj49kk8+xrI5HfvwelHjiu9fTfqw0v57zdvpNSMxP0EfOADrN60Cd797tzHMbPqlZklvGx5dziRdKLQE2n1zrvwuzHvLjpBF52s+w9i/YCBb1+JrxswkMMPHMXJk/bvvNolR//wgjkLljNt7UL+ef91zF5Y+lf6QnsLp7+rvsO2NOIP1sx6HieSTkw9ZBRfuWERzxzQyrf7T6h6u0eHtHDyEY2Zy73UE+UdlepHXmv9VDpp9Mt/s2Nm3TSwH5Qadm9gDWuSm1sp3Ut0p9dWI5/mbkSSqEb/MgmjXLmZ1V97mRqBcuXd4TuSKvTvRtVTX3yau9xgw00YhNgSj8ZsbiPpIdq7Ma/9pP13rUMkZtXzaMzWKK7aqkJ3amaunbes5nHksX0tK0TLGLH9wC6VW31VGo3ZrJacSKrQnTvAZkwqVck3juv0ccDczvvogVs1rPdTVm6N59GYDcqf5Gt58nci6SMefOa1hhyn4yjJXR012Wqn3AWQe2P3LeUuaWt5qetE0ok5C5Y3O4ROVVNrdUWJ0YFr7au/XER7hxa89k3BV3+5qO7HNrPSynUW6k4nonKcSDrRG06C1dSiNeIqtNz4Yg0bd8zMtlKus1B3OhGV40TSCZ8EzcwqcyLZBrhXlJk1kxPJNuC8jx7IQD8+bh18csKeXSo3665e/0CipCOB7wL9gR9HxPTa7j+bt6mrGvHcRkHh4bIVi+eXXefwfXaqexzlflbuuNUchSHCr7rvOdoj6C9x4mF71GzocOsdWgb2K/k4QksNz1G9+o5EUn/g+8CHgQOAEyUdUMtjfOKw8ldvI4cNKrusEc9tFJt6yCjGvmMYS6d/ZKukcfg+O3HFZ/687jGU+1lV+hlafX196rt48oKjWDr9Izx5wVFOIn3QBccdtNWJvl8qr5XefkdyKLAkIp4CkDQLOBZ4rFYHePsf782ntigvnJzPnbOQK+979u1xa1oG9uOC4w5q6hAUjUgapfgK2KznacSc7YoadgFrNEkfA46MiE+n9ycBh0XEZzusdxpwGsDIkSPHz5o1q8vHWrNmDUOHDs0fdB319BgdXz6OLx/Hl8+kSZPmRURrqWW9/Y6kVO37VpkxImYAMwBaW1tj4sSJXT5QW1sb3dmukXp6jI4vH8eXj+Orn17dRgIsA/Yoej8aeL5JsZiZ9Um9PZE8AOwnaW9Jg4ATgBuaHJOZWZ/Sq6u2ImKjpM8Ct5J1//1JRPT8MU3MzLYhvTqRAETETcBNzY7DzKyv6tW9trpD0svAM93YdBfglRqHU2s9PUbHl4/jy8fx5bNXRJSc+rXPJZLukvRgua5vPUVPj9Hx5eP48nF89dPbG9vNzKzJnEjMzCwXJ5LqzWh2AFXo6TE6vnwcXz6Or07cRmJmZrn4jsTMzHJxIjEzs1ycSDoh6SeSXpL0aLNjKUXSHpLulPS4pEWSvtDsmIpJ2k7S/ZIeTvF9tdkxlSKpv6QFkn7V7FhKkbRU0kJJD0l6sNnxdCRpuKRrJP0+/S02Zy6DEiSNTT+3wtcbkr7Y7LiKSfo/6f/jUUlXSdqu2TF1hdtIOiHpA8Aa4LKIGNfseDqStBuwW0TMlzQMmAdMjYiazcmShyQBQyJijaSBwD3AFyJibpND24KkM4FWYIeIOLrZ8XQkaSnQGhE98oE1SZcCv42IH6dx77aPiFVNDmsraTK85WTTTXTnweSakzSK7P/igIhYK2k2cFNEXNLcyKrnO5JORMTdwGvNjqOciHghIuan16uBx4HmzarVQWTWpLcD01ePunqRNBr4CPDjZsfSG0naAfgAMBMgItb3xCSSTAae7ClJpMgAoEXSAGB7etko5k4k2xBJY4BDgPuaHMoWUrXRQ8BLwG0R0aPiA/4L+Fdg64mte44Afi1pXpqorSf5U+Bl4KepevDHkoY0O6gyTgCuanYQxSJiOfAt4FngBeD1iPh1c6PqGieSbYSkocC1wBcj4o1mx1MsItoj4mCy+WIOldRjqgglHQ28FBHzmh1LJw6PiPcAHwbOSFWuPcUA4D3ADyPiEOBN4JzmhrS1VOV2DHB1s2MpJmkE2RThewO7A0MkfbK5UXWNE8k2ILU9XAtcERHXNTueclJ1RxtwZHMj2cLhwDGpDWIWcISky5sb0tYi4vn0/SXgF8ChzY1oC8uAZUV3mteQJZae5sPA/IhY0exAOvgQ8HREvBwRG4DrgPc1OaYucSLp5VJj9kzg8Yj4TrPj6UjSrpKGp9ctZP80v29qUEUiYlpEjI6IMWTVHndERI+6GpQ0JHWkIFUZ/RXQY3oRRsSLwHOSxqaiyUCP6OzRwYn0sGqt5FlggqTt0//zZLK2zl7DiaQTkq4C7gXGSlom6dRmx9TB4cBJZFfShe6NRzU7qCK7AXdKeoRsRsvbIqJHdrHtwUYC90h6GLgfuDEibmlyTB19Drgi/Z4PBr7R3HC2JGl74C/JrvZ7lHQndw0wH1hIdl7uVcOluPuvmZnl4jsSMzPLxYnEzMxycSIxM7NcnEjMzCwXJxIzs21YVweelfRxSY+lQSSvrGYbJxKzKkhqT12rH5V0depOWsv9t0lq7WSdLxYfV9JNhWd0zCq4hCofApa0HzCNbCSFA4EvVrOdE4lZddZGxMFpBOj1wD81IYYvkg3oB0BEHNWDB0e0HqLUwLOS9pF0Sxq77beS9k+LPgN8PyJWpm1fquYYTiRmXfdbYF9JO0maI+kRSXMlHQQg6SuSfibpDklPSPpMKp9YPN+JpIsl/X3HnUv6oaQHi+dvkfR5snGY7pR0ZypbKmmX9PrMdLf0aGGuDUlj0twg/5P29es0uoDZDOBzETEe+BLwg1T+TuCdkn6X/qarupMZUKcgzbZJaZjvDwO3AF8FFkTEVElHAJeRPdUNcBAwARgCLJB0YxcO828R8VqaO+N2SQdFxEVpzpRJHeckkTQe+BRwGCDgPkl3ASuB/YATI+IzaZ6LvwF63Fhi1jhpgNf3AVdnI7IAMDh9H0D2NzORbJDV30oa19mdrxOJWXVa0lD4kN2RzCQbrv9vACLiDkk7S9oxrXN9RKwF1qY7iEOBVVUe6+NpqPgBZEPMHAA8UmH9vwB+ERFvAki6Dng/cAPZYICFuOcBY6qMwbZd/YBVaUTujpYBc9PgkU9LWkyWWB7obIdm1rlCG8nBEfG5iFhPdvXfUXT4Xly+kS3/57aaTlXS3mRVDZMj4iDgxlLrddyswrJ1Ra/b8cVjn5emmXha0vGQDfwq6d1p8RxgUirfhayq66nO9ulEYtZ9dwOfgKz9A3ilaC6YY5XNV78zWTXBA8AzwAGSBqc7l8kl9rkD2Xwer0saSVaNVrAaGFYmjqlp9NghwF+T3TWZlRt49hPAqWkg0EVk86EA3Aq8Kukx4E7grIh4tbNj+OrErPu+QjYr4CPAH4FTipbdT3Y3sSfwtcJ8Iqmd4hHgCWBBxx1GxMOSFpD9cz8F/K5o8QzgZkkvRMSkom3mS7okHRPgxxGxQNmMmdbHRcSJZRZt1ZAe2Si+Z6avqnn0X7Mak/QVYE1EfKvZsZg1gqu2zMwsF9+RmJlZLr4jMTOzXJxIzMwsFycSMzPLxYnEzMxycSIxM7Nc/j/tZ/GsUUeqaAAAAABJRU5ErkJggg==\n",
      "text/plain": [
       "<Figure size 432x288 with 1 Axes>"
      ]
     },
     "metadata": {
      "needs_background": "light"
     },
     "output_type": "display_data"
    }
   ],
=======
<<<<<<< HEAD
   "execution_count": 53,
   "id": "9379193e",
   "metadata": {},
   "outputs": [
    {
     "name": "stdout",
     "output_type": "stream",
     "text": [
      "The r-square is 0.10600915205221446\n",
      "y = 0.0x + 953.45\n"
     ]
    },
    {
     "data": {
      "image/png": "iVBORw0KGgoAAAANSUhEUgAAAZIAAAEWCAYAAABMoxE0AAAABHNCSVQICAgIfAhkiAAAAAlwSFlzAAALEgAACxIB0t1+/AAAADh0RVh0U29mdHdhcmUAbWF0cGxvdGxpYiB2ZXJzaW9uMy4yLjIsIGh0dHA6Ly9tYXRwbG90bGliLm9yZy+WH4yJAAAgAElEQVR4nO3deZhcZZn+8e+dzkITCAkQICQkQZYgm0AaiOLCohNElsighgFkUxgHAQdFiaLAiCy/OIwgiqIsQXZZArIYww7K1hAgBIjskIAQloSIgSSd5/fHe5pUV6qqq7u6qrrT9+e66qqq92xvVVef55x3VURgZmbWWX3qnQEzM+vZHEjMzKwiDiRmZlYRBxIzM6uIA4mZmVXEgcTMzCriQGI1JeliSadWsP0/JX2sK/O0MpAUkjau07HHSJohaaGkY2p43B9K+n2tjmfFOZD0YpJekrQoOzm/IekiSavVO1+tJN0l6Ru5aRGxWkS80MXHmSbpfwqk7yPpH5L6Shoh6VpJb0laIGmmpEOK7G/n7MT+q7z0+4pt08N9H7grIlaPiHPyF2Z/xw+y39lbkq6TNKzSg0bEaRHxjfbXtGpzILG9ImI1YDtge+DEOuenHi4GDpKkvPSDgMsiYinwB+BVYBSwFvB14I0S+3wf+Lqk0V2d2WqS1LcTm40CZrWzzrez39nGwGrAzztxHOumHEgMgIiYC9wKbAkgaW9JsyTNz64oP966bnYnM0nSU5Leze5kVsmWHSLpvtx9Fyt2kTRE0k2S5mX7uUnSiGzZz4DPAOdmV7Ln5u9L0hqSLsm2f1nSiZL65OZD0s+zfb8o6YtFPv5UYM3seB/lDdgTuCRL2h64OCLej4ilETEjIm4t8ZXOJwWokwotlHSypEtz3o/OPlvf7P1dkk6V9Lfs8/9J0lqSLpP0nqSHCwSpPSS9kF31T279LrL9HSbp6ey7mCZpVM6ykHSUpGeBZ4vkt+DvQdIdwC4s/zttWuI7ISLmk77vbXL2vZmk6ZLekTRb0lez9HHZHWFDzrpflvREke9wXPZ9zZf0uKSds/RdJM3MWe82SQ/lvL9P0oTs9Q8kzVUqppstabdSn8cSBxIDQNIGwB7AjOxkcAXwHWAocAvwJ0n9czY5ABgPbARsSufuZPoAF5GuaEcCi4BzASLiR8C9ZFeyEfHtAtv/ElgD+BjwOdJdwqE5y3cEZgNrA/8PuKDAXQcRsQi4Otu+1VeBZyLi8ez9A8CvJE2UNLLMz/cz4N8ljSlz/XwTSXdFw0nf8/2k72tN4GlWDFJfBppId5f7AIcBZCfJHwL7kv6e95L+vrkmkL6vzfMzUer3EBG70vbv9PdSH0jSWlk+nsveDwSmA5cD6wD7A7+WtEVEPEC6s9s1Zxf/ka2bv9/hwM3Aqdn38z3gWklDSd/bxpLWzgL1lsAISatLagTGAvdmf6dvA9tHxOqk3/dLpT6PJQ4kNlXSfOA+4G7gNOBrwM0RMT0ilpCKIRqBT+Vsd25EvBoR75BOmPt39MAR8XZEXBsR/4qIhdl+PlfOttlV6teASRGxMCJeAv6XdOJt9XJE/C4iWoApwDBg3SK7nAJ8JTuxQAoqU3KWf4V0wvwx8KKkxyRt387n+wfwG2CF+pcyXRQRz0fEAtLd4vMRcVtW1PZHYNu89c+MiHci4hXgFyz/mxwJnB4RT2fbngZsk3tXki1/Jwuq+cr5PbTnHEkLgLdIgf3oLH1P4KWIuCi703sUuBbYL1t+RevnkLQ66WInPwgCHAjcEhG3RMSyiJgONAN7RMQH2evPkgLtE6Tf+07AOODZiHgbaAEGAJtL6hcRL0XE8x34jL2WA4lNiIjBETEqIv4rO5GsD7zcukJELCPVDwzP2e7VnNcvZ9t0iKRVJf02K5Z6D7gHGJxblFHC2kD/3Hxmr3Pz+I/WFxHxr+xlwcYEEXEfMA/YR6lV2PbkXPlGxLsRcUJEbEEKRo+RgvAKdzh5zgTGS/pEGZ8pX24dzKIC7/M/S7G/ySjg7KzIZz7wDiCK/z3zlfN7aM8xEbEGsDUwBBiRk7cdW/OW5e8AYL1s+eXAvpIGkO5kHo2Il1nRKNKFQO5+Pk26eIB0kbQzKZjcDdxFumj5XPaeiHiOdNd1MvCmpCsldfh33Rs5kFghr5H+MQHITpYbAHNz1tkg5/XIbBtIRRGr5my7HsV9FxgD7BgRg0j/5JBOcgClhqZ+C1iSm88sH3MLr16WS0h3IgcBf4mIgpXpEfEW6ap8fVIxSlHZle4vgJ/mLWrzPbH8xFmJYn+TV4EjswuG1kdjRPwtN6sl9lvO76EsETGTVPz0q2w/rwJ35+VttYj4Vrb+U6Qg9kWKFGvlfMY/5O1nYESckS3PDyR3kxdIsuNdHhGfzj5vkC4ErB0OJFbI1cCXJO0mqR/phP8hkHviOUqpSeyapPL3q7L0x4EtJG2jVAF/conjrE66sp6f7Se/zP8NUv3HCrLiqquBn2Vl3aOA44BLC61fpkuAzwPfpG2xFpLOlLSlUlPg1YFvAc9lgaI9Z5GKgT6ek/YY8FlJIyWtAUyqIN+tjldqwLABcCzL/ya/ASZJ2iL7LGtI+koH9lvO76EjppDqQ/YGbgI2lXSQpH7ZY3vlNO4gBY9jSEHgj0X2eSmwl6TxkhokraLUDLv1zudvpIuWHYCHImIW2d0Q6U64tT/Mrtndzwek32ZLJz9jr+JAYiuIiNmkMudfkq789yI1E16cs9rlwF+AF7LHqdm2fyfVCdxGagHUpgVXnl+QytrfIlVm/zlv+dnAfkotjVbon0AqZ38/O/59WZ4uLPuD5snqWf4GDARuzFu8KnA9qTXWC6ST0N5l7vc9UmX/mjlp00kn+ieAR0gn1ErdkO3rMVLF8wXZsa4nXVlfmRUhPkm6wi9Lmb+HsmXbnQP8OKsb+zdSw4LXSMWRZ5LqKlpdQbqbuCO7Gyy0z1dJDQx+SCqifBU4nuwcFxHvA48Cs3LyfT+pHu3N7P0A4IzsM/6DFOx+2JnP2NvIE1tZR0l6CfhGRNxW77yYWf35jsTMzCriQGJmZhVx0ZaZmVXEdyRmZlaRzgzQ1qOtvfbaMXr06Hpnw8ysR3nkkUfeioihhZb1ukAyevRompub650NM7MeRVKhEQUAF22ZmVmFHEjMzKwiDiRmZlYRBxIzM6uIA4mZmVWk17XaMutNps6Yy+Rps3lt/iLWH9zI8ePHMGHbjkwjYtY+BxKzldTUGXOZdN1MFi1JI6HPnb+ISdelqcsdTKwruWjLbCU1edrsj4JIq0VLWpg8bXadcmQrKwcSs5XUa/MLTb9ePN2ssxxIzFZS6w9u7FC6WWc5kJitpI4fP4bGfg1t0hr7NXD8+DF1ypGtrFzZbraSaq1Qd6stqzYHErOV2IRthztwWNU5kJitxNyPxGrBgcRsJeV+JFYrVatsl3ShpDclPZmTNlnSM5KekHS9pME5yyZJek7SbEnjc9LHSpqZLTtHkrL0AZKuytIflDS6Wp/FrCdyPxKrlWq22roY2D0vbTqwZURsDfwdmAQgaXNgIrBFts2vJbU2NzkPOALYJHu07vNw4N2I2Bj4P+DMqn0Ssx7I/UisVqoWSCLiHuCdvLS/RMTS7O0DwIjs9T7AlRHxYUS8CDwH7CBpGDAoIu6PiAAuASbkbDMle30NsFvr3YqZuR+J1U49+5EcBtyavR4OvJqzbE6WNjx7nZ/eZpssOC0A1ip0IElHSGqW1Dxv3rwu+wBm3Zn7kVit1CWQSPoRsBS4rDWpwGpRIr3UNismRpwfEU0R0TR0aMG5681WOhO2Hc7p+27F8MGNCBg+uJHT993KFe3W5WreakvSwcCewG5ZcRWkO40NclYbAbyWpY8okJ67zRxJfYE1yCtKM+vt3I/EaqGmdySSdgd+AOwdEf/KWXQjMDFribUhqVL9oYh4HVgoaVxW//F14IacbQ7OXu8H3JETmMzMrEaqdkci6QpgZ2BtSXOAk0ittAYA07N68Qci4j8jYpakq4GnSEVeR0VEa7vFb5FagDWS6lRa61UuAP4g6TnSncjEan0WMzMrTr3tIr6pqSmam5vrnQ0zsx5F0iMR0VRomUf/NTOzijiQmJlZRRxIzMysIg4kZmZWEQcSMzOriAOJmZlVxIHEzMwq4kBiZmYVcSAxM7OKOJCYmVlFHEjMzKwiDiRmZlYRBxIzM6uIA4mZmVXEgcTMzCriQGJmZhVxIDEzs4o4kJiZWUUcSMzMrCIOJGZmVhEHEjMzq4gDiZmZVcSBxMzMKlK1QCLpQklvSnoyJ21NSdMlPZs9D8lZNknSc5JmSxqfkz5W0sxs2TmSlKUPkHRVlv6gpNHV+ixmZlZcNe9ILgZ2z0s7Abg9IjYBbs/eI2lzYCKwRbbNryU1ZNucBxwBbJI9Wvd5OPBuRGwM/B9wZtU+iZmZFVW1QBIR9wDv5CXvA0zJXk8BJuSkXxkRH0bEi8BzwA6ShgGDIuL+iAjgkrxtWvd1DbBb692KmZnVTq3rSNaNiNcBsud1svThwKs5683J0oZnr/PT22wTEUuBBcBahQ4q6QhJzZKa582b10UfxczMoPtUthe6k4gS6aW2WTEx4vyIaIqIpqFDh3Yyi2ZmVkitA8kbWXEV2fObWfocYIOc9UYAr2XpIwqkt9lGUl9gDVYsSjMzsyqrdSC5ETg4e30wcENO+sSsJdaGpEr1h7Lir4WSxmX1H1/P26Z1X/sBd2T1KGZmVkN9q7VjSVcAOwNrS5oDnAScAVwt6XDgFeArABExS9LVwFPAUuCoiGjJdvUtUguwRuDW7AFwAfAHSc+R7kQmVuuzmJlZceptF/FNTU3R3Nxc72yYmfUokh6JiKZCy7pLZbuZmfVQDiRmZlYRBxIzM6uIA4mZmVWkQ4FEUh9Jg6qVGTMz63naDSSSLpc0SNJAUvPc2ZKOr37WzMysJyjnjmTziHiPNFjiLcBI4KCq5srMzHqMcgJJP0n9SIHkhohYQpExrczMrPcpJ5D8FngJGAjcI2kU8F41M2VmZj1Hu4EkIs6JiOERsUc2ltUrwC7Vz5qZmfUE7Y61Jel54AHgXuCeiGgdD8vMzKy8ynZS8dZawM8lvSDp+upmy8zMeopyAkkLsCR7Xga8wfJ5RMzMrJcrZxj594CZwFnA7yLi7epmyczMepJy7kj2B+4B/gu4UtIpknarbrbMzKynKKfV1g0RcTxwJKlD4iHATVXOl/VUTz0Fu+0Gq64K668PP/kJtLS0v92CBXDooTBkCKyxBhxwALzdjW5+I+BnP4ORI2GVVWC77WDatLbrvPQSSCs+JubNuXbSSbDVVjBoEKy+OjQ1wVVXdSw/c+fCaqul/f/zn22XjR69Yh7WW6+jn9isbOW02roW2AZ4jtRy6+vAg1XOl/VE774Ln/88bL453HADPP88fPe7sGwZnHpq6W2/9jWYPRt+/3vo0wd+8AOYMAHuvbc2eW/PGWfA//xPemyzDVx6Key1F/z1r7D99m3X/fnPYaedlr9fe+22y997Dw45JH1PDQ1wzTUp2DQ0wH77lZef449PgeT99wsv/4//gKOPXv6+f//y9mvWGRFR8gFsDzS0t15PeYwdOzasSk47LWLw4IgFC5annXlmRGNj27R8f/tbBETcfffytAcfTGnTp3d9PkeNirjoovLX//DDiNVXj/jxj9umb7ddxJe+tPz9iy+mPP/pTx3P06c+FbHXXuWte889EUOGREyenI63cGHb5aNGRXz3ux3Pg1kJQHMUOa+WU0cyC5gk6XwASZtI2rN6oc067eab09X8iy+2TX/xxZR+443VPf6tt8L48anIptXEibBoEdx9d+nt1l0XPvvZ5Wk77AAbbpiWATzwAPTtCxdeuHydBQtggw3gwAO79nPke/55WLgw3W3l+sIXYPp0WLy48mOstVZ5+2lpSXcaP/nJinc6ZnVSTiC5CFgMfCp7Pwdop5zC6mL33VO9xJQpbdMvvhiGDoU99ii+bUsLLF1a+rFsWenjP/MMbLZZ27SRI1N9yTPPdGw7gI9/fPl248al4pz//m945ZWUdswxKU+//GXpfFXqgw/Sc37x0IAB6eT/wgtt0w89NBVTDRsGxx2XAmkhS5fC/Plw2WXwl7/Af/5n+3n5zW9Sfo46qvR6F16Y8rvGGqm47OWX29+3WSeVE0g2ioj/R+pLQkQsAlTVXFnnNDSksvcpU1LlMKTnKVPgoIPSFX0xu+0G/fqVfhx2WOnjv/suDB68YvqQIWlZpdudcgqMGpXyccMNcMkl8LvfpfVKyQ+IkAJQblqUGIf0Yx9LFdYPP9w2/aGH0vM776TnAQPSCf6CC+D22+HII+G881asbId0h9WvX8r7IYfA2WenOqFS3n4bfvxjOOustG0x++wDv/pVysPkyXD//fCZz6Q7OLMqKKcfyWJJjWQj/kraCPiwqrmyzjvsMDjtNLjrLthlF7jzznQ1euihpbf77W9T8U0p5RSlqMA1RkTh9I5u179/Ch477AD33Qff+Ebpu6xWhU66hx+eHq0uuiid0AtZYw3Yf//UamvLLeETn0h3EbfdlpY3NKTnYcPg3HOXb7fzzqnI7r/+Cx57LFXSt9pqqxSY5s9PRZLf/nYqEtx//+Kf40c/gh13bP8zn3328tef+Qx86lPp2BddBN/5TultzTqhnEByEvBnYANJlwE7kZoAW3f0sY+lE9hFF6VActFF6cS7xRalt9t449JX5ZDqWUoZMiSdGPMtWFD4jiN3u3nzVkyfP3/F7bbeOrV2evzxdIIuR/6dxN57wxFHwJ45VX0bblh6H7/4RWpZtuuu6f0GG8CJJ8LJJ6dgUcx++6V8Pvpo20AycGBq9gup7mXBgtRSrVggmTUrFVfdc8/y7/hf/0rPCxakYNbYWHjbLbeEMWNSHsyqoJx+JNOBfUnB4wqgKSLuquSgkv5b0ixJT0q6QtIqktaUNF3Ss9nzkJz1J0l6TtJsSeNz0sdKmpktO0dq77K3l/jGN+Daa1Nfg+uua/9uBLqmaGuzzVasC3n11dREtVAdSKntoHDdydlnL08/+uj2620gnbBzH/37p74WuWlrrVV6H0OHwh13pM/z5JOpXmTgwNQ/Y/To4tu1/iTb+2lut13a95IlhZc/+2xa9slPpsA7ZMjyepIRI9o29W0vL2ZdrOgdiaTNIuIZSdtlSa9nzyMljYyITl3eSBoOHEOaeXGRpKuBiaTBIW+PiDMknQCcAPxA0ubZ8i2A9YHbJG0aES3AecARpNGJbwF2B27tTL5WKvvum04yEyemE22hMvp8XVG09cUvpjL5hQtTRztIHe0aG+Fznyu93U9/moqrPv3plNbcnE7WX/zi8vVmz07FO6eemhoWjB0L//d/qa9KrYwYkR4ffJDuENoLrtdck57Hji293l//mvZbrO7j059OxZS5/vxnOPNMuOWWdCdazJNPpu/uyCNL58Gss4q1CwbOz57vLPC4o9h27T2A4cCrwJqkQHYT8G/AbGBYts4wYHb2ehIwKWf7acAns3WeyUnfH/hte8fvNf1Ijjoq9THYf//aHfOddyLWWy/i859P/T9++9uIgQMjfvSjtutttFHEYYe1TRs/PmLDDSOuvTbi+usjNt004tOfXr586dKIHXdM/S1aWlLa6adHrLJKxNNPdyyfHe1HEhFxySURF1wQceedEVOmRGyzTcSWW7btw3HSSRHHHZc+w/Tpqd/JKqtE7Lvv8nVeeilil10ifve7iNtvj7jhhohDDkl/q/POa7teQ0M6VjEXXbRiP5KbboqYODHi0ksj7rgj4te/jlh//fTdlurLY9YOSvQjqUunQOBY4J/APOCyLG1+3jrvZs/nAgfmpF8A7Ac0AbflpH8GuKnI8Y4AmoHmkSNHdvkX3C1Nn169Dn2lzJqVTpSrrJKCyoknpiCQa9SoiIMPbpv27rvphLrGGqnz3/77R8ybt3z5aadFrLpqxN//vjxt6dKIceMidthhxWOU0plAcvHFKbgNGBCxzjoRRxwR8dZbbde54oqIsWMjBg2K6NcvBcwf/zjigw+WrzN/fsQBB6Q8DBgQse666fu6+ea2+2rt3Fgqn4UCyeOPR+y6a8Taa0f07Zv2f/DBEXPnduzzmuUpFUgU7VSwSnocuBK4OiKe78DNTrH9DQGuBb4GzAf+CFwDnBsRg3PWezcihkj6FXB/RFyapV9AKsZ6BTg9Ij6fpX8G+H5E7FXq+E1NTdHc3Fzpx+j+vv/9VKzU2hnRzKwCkh6JiKZCy8o5w+xNmovkakkPS/qepJEV5OfzwIsRMS8ilgDXkTo7viFpWJbhYSyf82QOsEHO9iOA17L0EQXSe7fZs+H661P/haOPdhAxs6orp9XWyxHx/yJiLPAfwNbAi+1sVsorwDhJq2atrHYDngZuBA7O1jkYuCF7fSMwUdIASRsCmwAPRcTrwEJJ47L9fD1nm97ryCPTgH177JF6fpuZVVk5/UiQNBr4Kqk4qgX4fmcPGBEPSroGeJQ09/sM4HxgNdJdz+GkYPOVbP1ZWcuu1rnij4rUYgvgW8DFQCOptZZbbN11V71zYGa9TDl1JA8C/Uh1GVdFxAslN+jmek0diZlZFypVR1LOHcnBEVFixD0zM+vNyqmJfVfSBZJuBZC0eVb8ZGZmVlYguZjUCXD97P3fAY/8ZmZmQHmBZO2IuBpYBhARS0kV7mZmZmUFkvclrcXyYeTHAZ7YwMzMgPIq248j9eXYSNJfgaGkIUrMzMzaDyQR8aikzwFjSDMjzgZ2qHbGzMysZyg1jHwDqRPicODWrGPgnqTOg43AtrXJopmZdWel7kguII1x9RDwS0kvA+NIQ7pPrUXmzMys+ysVSJqArSNimaRVgLeAjSPiH7XJmpmZ9QSlWm0tjojWJr8fAH93EDEzs3yl7kg2k/RE9lqkVltPZK8jIraueu7MzKzbKxVIPl6zXJiZWY9VNJBExMu1zIiZmfVMnj7PzMwq4kBiZmYVKRpIJN2ePZ9Zu+yYmVlPU6qyfVg2NMrekq4ktdb6SEQ8WtWcmZlZj1AqkPwEOAEYAZyVtyyAXauVKTMz6zlKtdq6BrhG0o8j4qc1zJOZmfUg5Yz++1NJewOfzZLuioibqpstMzPrKdpttSXpdOBY4KnscWyWZmZmVtbEVl8Ctmkdd0vSFGAGMKmaGTMzs56h3H4kg3Ner1HpQSUNlnSNpGckPS3pk5LWlDRd0rPZ85Cc9SdJek7SbEnjc9LHSpqZLTtHkgof0czMqqWcQHI6MEPSxdndyCPAaRUe92zgzxGxGfAJ4GlSC7HbI2IT4PbsPZI2ByYCWwC7A7/OJt0COA84Atgke+xeYb7MzKyD2g0kEXEFaUKr67LHJyPiys4eUNIgUsX9Bdn+F0fEfGAfYEq22hRgQvZ6H+DKiPgwIl4EngN2kDQMGBQR90dEAJfkbGNmZjVSTh0JEfE6cGMXHfNjwDzgIkmfIN3hHAusmx2HiHhd0jrZ+sOBB3K2n5OlLcle56evQNIRpDsXRo4c2UUfw8zMoD5jbfUFtgPOi4htgffJirGKKFTvESXSV0yMOD8imiKiaejQoR3Nr5mZlVCPQDIHmBMRD2bvryEFljey4iqy5zdz1t8gZ/sRwGtZ+ogC6WZmVkMlA4mkPpKe7MoDZtP1vippTJa0G6l/yo3AwVnawcAN2esbgYmSBkjakFSp/lBWDLZQ0ristdbXc7YxM7MaKVlHEhHLJD0uaWREvNKFxz0auExSf+AF4FBSULta0uHAK8BXsjzMknQ1KdgsBY6KiJZsP98CLgYagVuzh5mZ1ZBSg6cSK0h3ANsDD5HqMwCIiL2rm7XqaGpqiubm5npnw8ysR5H0SEQ0FVpWTqutU7o4P2ZmthIpZ9DGuyWNAjaJiNskrQo0tLedmZn1DuUM2vhNUsuq32ZJw4Gp1cyUmZn1HOU0/z0K2Al4DyAingXWKbmFmZn1GuUEkg8jYnHrG0l9KdLxz8zMep9yAsndkn4INEr6AvBH4E/VzZaZmfUU5QSSE0hjY80EjgRuAU6sZqbMzKznKKfV1rJs+PgHSUVas6O9zidmZtZrtBtIJH0J+A3wPGmgxA0lHRkR7kVuZmZldUj8X2CXiHgOQNJGwM14OBIzM6O8OpI3W4NI5gWWj8xrZma9XNE7Ekn7Zi9nSboFuJpUR/IV4OEa5M3MKjR1xlwmT5vNa/MXsf7gRo4fP4YJ2xac/82s00oVbe2V8/oN4HPZ63nAkKrlyMy6xNQZc5l03UwWLUmDZc+dv4hJ180EcDCxLlU0kETEobXMiJl1rcnTZn8URFotWtLC5GmzHUisS5XTamtD0vwho3PX76nDyJv1Fq/NX9ShdLPOKqfV1lTgAlJv9mXVzY51lsvCLd/6gxuZWyBorD+4sQ65sZVZOYHkg4g4p+o5sU5zWbgVcvz4MW1+FwCN/Ro4fvyYEluZdVw5geRsSScBfwE+bE2MiEerlqtuqrte9bss3App/dt3x9+srVzKCSRbAQcBu7K8aCuy971Gd77qd1m4FTNh2+F1/33ayq+cQPJl4GO5Q8n3Rt35qt9l4WZWT+X0bH8cGFztjHR33fmq//jxY2js13b2Y5eFm1mtlHNHsi7wjKSHaVtH0qua/3bnq36XhZtZPZUTSE6qei56gO7eAsZl4WZWL+XMR3J3NQ4sqQFoBuZGxJ6S1gSuInV8fAn4akS8m607CTgcaAGOiYhpWfpY4GKgkTTh1rHVmivFV/1mZoWV07N9IcvnaO8P9APej4hBFR77WOBpoHU/JwC3R8QZkk7I3v9A0ubARGALYH3gNkmbRkQLcB5wBPAAKZDsThWHt/dVv5nZitqtbI+I1SNiUPZYBfh34NxKDippBPAl4Pc5yfsAU7LXU4AJOelXRsSHEfEi8Bywg6RhwKCIuD+7C7kkZxszM6uRclpttRERU6m8D8kvgO/TdsiVdSPi9ewYrwPrZOnDgVdz1puTpQ3PXuenr0DSEZKaJTXPmzevwqybmVmucoq29s152wdoYnlRV4dJ2pM0WdYjknYuZ5MCaVEifcXEiPOB8wGampo837yZWRcqp9VW7rwkS0kV4c9AmPgAABLQSURBVPtUcMydgL0l7QGsAgySdCnwhqRhEfF6VmzVOgvjHGCDnO1HAK9l6SMKpJuZWQ2V02qrS+cliYhJwCSA7I7kexFxoKTJwMHAGdnzDdkmNwKXSzqLVNm+CfBQRLRIWihpHPAg8HXgl12ZVzMza1+pqXZ/UmK7iIifdnFezgCulnQ48AppSl8iYpakq4GnSHdER2UttgC+xfLmv7dSxRZbZmZWmIp1u5D03QLJA0n9OdaKiNWqmbFqaWpqiubm5npnw8ysZrpi5HJJj0REU6Flpaba/d+cHaxO6vdxKHAl8L/FtjMzs+6jFiOXl6wjyXqbHwccQOrbsV1rb3Mz6/666xw6Vju1GLm8VB3JZGBfUrPZrSLin11yRDOrie48h47VTi1GLi/VIfG7pFZSJwKvSXoveyyU9F6X5cDMqqLUlaj1HsVGKO/KkcuLBpKI6BMRjXlDpAxqfd9lOTCzqujOc+hY7dRivqIOD5FiZj1DLa5ErfubsO1wTt93K4YPbkTA8MGNnL7vVl1avFlOz3Yz64G6+xw6VjvVHrncgcRsJeU5dKxWHEjMVmKeQ8dqwXUkZmZWEQcSMzOriIu2OqBYL+ETp87kigdfpSWCBon9d9yAUydsVe/smpnVhANJmYr1Ev5j8yv89fl3PlqvJYJLH3gFwMHEzHoFF22VqVgv4dwgkuuKB18tmF4tU2fMZacz7mDDE25mpzPuYOqMuTU9vpn1Xr4jKVNHewO3FBmevxo8ppKZ1ZPvSMq0Sr+OfVUNKjSlfHV4TCUzqycHkjJMnTGXRUuWFVzWt0/hgLH/jhsUTK8Gj6lkZvXkQFKGUlf2S5etWIS100Zr1rSi3WMqmVk9OZCUoaNX9i+9Xds7gV02G9qhdDOzruRAUoaOXtnXukjpzmfmdSjdzKwrOZCU4fjxY+jXUH7lea2LlFxHYmb15EBShgnbDmdg/8ItpfPDSz2G6XYdiZnVkwNJmeYvWlIwPaCqE8aUoxYzoJmZFVPzDomSNgAuAdYDlgHnR8TZktYErgJGAy8BX42Id7NtJgGHAy3AMRExLUsfC1wMNAK3AMdGdH1PwKkz5iJS0Mg3fHAjfz1h164+ZId43gkzq6d69GxfCnw3Ih6VtDrwiKTpwCHA7RFxhqQTgBOAH0jaHJgIbAGsD9wmadOIaAHOA44AHiAFkt2BW7s6w5OnzS4YRATd5qrf805YIcUGGjXrSjUv2oqI1yPi0ez1QuBpYDiwDzAlW20KMCF7vQ9wZUR8GBEvAs8BO0gaBgyKiPuzu5BLcrbpUsUqrQMPQWLdV+vQOXPnLyJYPnSOx2GzrlbXOhJJo4FtgQeBdSPidUjBBlgnW204kDsC4pwsbXj2Oj+90HGOkNQsqXnevI43iS1WaT3cldnWjXnoHKuVugUSSasB1wLfiYj3Sq1aIC1KpK+YGHF+RDRFRNPQoR3vpFeo+W+/BnWbYi2zQtws3GqlLqP/SupHCiKXRcR1WfIbkoZFxOtZsdWbWfocIHfgqhHAa1n6iALp1ZEfomo3uG9ZXBZu+dYf3MjcAkHDzcKtq9Wj1ZaAC4CnI+KsnEU3AgcDZ2TPN+SkXy7pLFJl+ybAQxHRImmhpHGkorGvA7+sRp4nT5vNkrwxtZYsCyZPm03zy+/UfXbEqTPmctxVj9E6rOTc+Ys47qrHANfh9GbHjx/TZnoBcLNwq456FG3tBBwE7CrpseyxBymAfEHSs8AXsvdExCzgauAp4M/AUVmLLYBvAb8nVcA/TxVabEHxooC58xdx6QOvfDT3SOvsiCdOnVmNbBQ16bonyB+beFmWbr3XhG2Hc/q+W9W9n5Ot/Gp+RxIR91G4fgNgtyLb/Az4WYH0ZmDLrstdYcWKCIq5/MFXanpXUmyI+2Lp1eQitu7FzcINqv9/6RkSy7DLZkM/moe9HMsi/eF62z+wZ2o06wIRsGQJfPABfPhh20cn0p579W0WzX6dYxd/yHVb7soDbN3l/5cOJGXozCi6k6fN7nUnz1LNTXvbd2E9zNKl5Z2gO3ky73BaV+nfn2Hqy7/16cvihn7cP3JroOv/Lx1IytCZ5pK9sYmlm5ta2SK69sRb6fYtLe3nuRwNDTBgwPLHKqu0fT9gAAwcCGuu2f56laQNGAD9+0OfPmx5ws0FG5l25f+lA0kZOlpH0rpNrQwvkr9ad5h0c9NuLGLFq+6uvoruyLqLF3fdZyvnJLvaatU9cbemNTS0n98aq8X/pQNJGTpaRwK1HYOrUDNPkeoodjrjjppVeB8/fgzHX/M4S1qWX//06o6by5bVvkik1Am+q8Yz7du3/RPq6qvD2mt3/Cq6oyfufv1A5c8V1BvVohm4A0kZbnr89XpnoaTc0X/nzl/UZqTimld417PjZmslZS2LREqlLV3aNZ9LKu8kO2hQ9YpJctP7ePaJnqQWo4M7kLRj6oy5ReciKeWUP82qaQVzazPPnc64Y4Xb2KpWeLe0fHTyvPCPf2PddxfSf+kS+rcsYcDSxfRvWcKdv5rFhC9vXpsTfFfp37/9k+waa8A661SvmKT10bevr7qtIs0vv8M/FnxAAP9Y8AHNL7/jQFJLnR3g7t1/dTz4lKVQJWXOCXW9Jx9lZEs6keeezAcsXQKrPdX15eA5lZQ3lsr3Be18rj59VjyB5r9vbIQhQ6pXTNL6yCopzVYGJ06d2aZovrXjNNBl/d0cSNrR2rKh/9IlrLpkUc7V9hIG5Jyw86/C+7csgfNe6fqik3YqKa8ttXBa3vtyTrL5lZQlTsY/uvXvLO7Tjw/79mNxQ3p82Lc/S/r25epjdim9fV//FM2q4fIHC9fvdmXHaf/3tqO1xcNhzTdwwt0Xd2zj/AFbWispS51QcyspO3AV/dBr73PtrLd4/YNlLM5O5B9mJ/LFDf3Yc/tRfH+fbdpedXdxccllr99cfOEOO3TpscysPMuK1FMWS+8MB5J2tLZEum/0Npzc94iPTtLpajudrBc39Ft+8s5O3F9qGsX39v7E8pN+//5Vaxo4dcZcJv19JovW36DoOje81cD3OzGEvplZexxI2jFh2+GcfOMsnlxvY55cb+Oyt7v+nX58b731qpiz5Qr1KM/X0X4wnbFqvz78q8D4Xqv2c32DWb306wOFht3ryn9L/4eXoTOttmrZm7sWQaIcxe6Uu9nULWa9SkuRf8Bi6Z3hO5IyNEgfDRVfrt7Ym7s7jUJsyYlTZ9Z9vhyrL9eRdBMdDSKQesOb1VMtmn2agYu2ytKZtk3XPjKny/NRiVrUUwxZtV+H0q26rnjw1Q6lm3WWA0kZOnMH2N2Kc07bd+uqH+OkvbagT17U7aOUbrVX7E66M3fY1nMVO8l35cnfgaSXaH75nZocR3l9U/Lfm1ltFbuk7cpLXQeSdkydMbfeWWhXOaVWl3Vw9OLOOOVPs2jJq8FrWRac8qdZVT+2mRXWUORirlh6ZziQtKMnnATLKUWrRWFGsfHFqjbumJm1qxZFnA4k7fBJ0MysNAeSlYBbRZlZPTmQrARO2msL+jW4UtvaOnDcyA6lm3VWjw8kknaXNFvSc5JO6Pr9d267Wo4vNWHb4Uze7xMl52jfZJ2BNcuPdQ+nTtiKA8eN/KhStUHiwHEj3Rmxl2ksci4qlt4ZPbpnu6QG4FfAF4A5wMOSboyIp7rqGAfsOLLofO3rrt6fNxYWnh+kFv02crXOkAjwhbPu4tk33/9o2SbrDGT6cTtXPQ8Hjiv8XfkKuH5OnbCVA0cvd/q+W3PcVY+1ae7bJ0vvKj06kAA7AM9FxAsAkq4E9gG6LJC0/hPmnyB32mhNLvvmJzlx6kwuf/CVj8ataezXh9P33bqm0+zmq0XQKKT1u/LYTmbdRy3mbFf04F6ukvYDdo+Ib2TvDwJ2jIhv5613BHAEwMiRI8e+/PLLNc+rmVlPJumRiGgqtKyn15EUqsFYITJGxPkR0RQRTUM9uZOZWZfq6YFkDpA7LeAI4LU65cXMrFfq6YHkYWATSRtK6g9MBG6sc57MzHqVHl3ZHhFLJX0bmAY0ABdGRPcf08TMbCXSowMJQETcAtxS73yYmfVWPbrVVmdImgd0ptnW2sBbXZydrtbd8+j8Vcb5q4zzV5lREVGwtVKvCySdJam5WNO37qK759H5q4zzVxnnr3p6emW7mZnVmQOJmZlVxIGkfOfXOwNl6O55dP4q4/xVxvmrEteRmJlZRXxHYmZmFXEgMTOzijiQtEPShZLelPRkvfNSiKQNJN0p6WlJsyQdW+885ZK0iqSHJD2e5e+UeuepEEkNkmZIuqneeSlE0kuSZkp6TFJzvfOTT9JgSddIeib7LX6y3nlqJWlM9r21Pt6T9J165yuXpP/O/j+elHSFpFXqnaeOcB1JOyR9FvgncElEbFnv/OSTNAwYFhGPSlodeASY0JWTe1VCkoCBEfFPSf2A+4BjI+KBOmetDUnHAU3AoIjYs975ySfpJaApIrplhzVJU4B7I+L32bh3q0bE/HrnK182Gd5c0nQT3WI+CUnDSf8Xm0fEIklXA7dExMX1zVn5fEfSjoi4B3in3vkoJiJej4hHs9cLgaeB+s2qlSeSf2Zv+2WPbnX1ImkE8CXg9/XOS08kaRDwWeACgIhY3B2DSGY34PnuEkRy9AUaJfUFVqWHjWLuQLISkTQa2BZ4sL45aSsrNnoMeBOYHhHdKn/AL4DvQ5vZSLubAP4i6ZFsorbu5GPAPOCirHjw95IG1jtTRUwErqh3JnJFxFzg58ArwOvAgoj4S31z1TEOJCsJSasB1wLfiYj36p2fXBHREhHbkOaL2UFStykilLQn8GZEPFLvvLRjp4jYDvgicFRW5Npd9AW2A86LiG2B94ET6pulFWVFbnsDf6x3XnJJGkKaInxDYH1goKQD65urjnEgWQlkdQ/XApdFxHX1zk8xWXHHXcDudc5Krp2AvbM6iCuBXSVdWt8srSgiXsue3wSuB3aob47amAPMybnTvIYUWLqbLwKPRsQb9c5Ins8DL0bEvIhYAlwHfKrOeeoQB5IeLqvMvgB4OiLOqnd+8kkaKmlw9rqR9E/zTH1ztVxETIqIERExmlTscUdEdKurQUkDs4YUZEVG/wZ0m1aEEfEP4FVJY7Kk3YBu0dgjz/50s2KtzCvAOEmrZv/Pu5HqOnsMB5J2SLoCuB8YI2mOpMPrnac8OwEHka6kW5s37lHvTOUYBtwp6QnSjJbTI6JbNrHtxtYF7pP0OPAQcHNE/LnOecp3NHBZ9nfeBjitzvlpQ9KqwBdIV/vdSnYndw3wKDCTdF7uUcOluPmvmZlVxHckZmZWEQcSMzOriAOJmZlVxIHEzMwq4kBiZrYS6+jAs5K+KumpbBDJy8vZxoHErAySWrKm1U9K+mPWnLQr93+XpKZ21vlO7nEl3dLaR8eshIspsxOwpE2ASaSRFLYAyhol2YHErDyLImKbbAToxcB/1iEP3yEN6AdAROzRjQdHtG6i0MCzkjaS9Ods7LZ7JW2WLfom8KuIeDfb9s1yjuFAYtZx9wIbS1pT0lRJT0h6QNLWAJJOlvQHSXdIelbSN7P0nXPnO5F0rqRD8ncu6TxJzbnzt0g6hjQO052S7szSXpK0dvb6uOxu6cnWuTYkjc7mBvldtq+/ZKMLmJ0PHB0RY4HvAb/O0jcFNpX01+w3XdadTN8qZdJspZQN8/1F4M/AKcCMiJggaVfgElKvboCtgXHAQGCGpJs7cJgfRcQ72dwZt0vaOiLOyeZM2SV/ThJJY4FDgR0BAQ9Kuht4F9gE2D8ivpnNc/HvQLcbS8xqJxvg9VPAH9OILAAMyJ77kn4zO5MGWb1X0pbt3fk6kJiVpzEbCh/SHckFpOH6/x0gIu6QtJakNbJ1boiIRcCi7A5iB6DcYqivZkPF9yUNMbM58ESJ9T8NXB8R7wNIug74DHAjaTDA1nw/AowuMw+28uoDzM9G5M43B3ggGzzyRUmzSYHl4fZ2aGbta60j2SYijo6IxaSr/3yR95ybvpS2/3MrTKcqaUNSUcNuEbE1cHOh9fI3K7Hsw5zXLfjisdfLppl4UdJXIA38KukT2eKpwC5Z+tqkoq4X2tunA4lZ590DHACp/gN4K2cumH2U5qtfi1RM8DDwMrC5pAHZnctuBfY5iDSfxwJJ65KK0VotBFYvko8J2eixA4Evk+6azIoNPHsAcHg2EOgs0nwoANOAtyU9BdwJHB8Rb7d3DF+dmHXeyaRZAZ8A/gUcnLPsIdLdxEjgp63ziWT1FE8AzwIz8ncYEY9LmkH6534B+GvO4vOBWyW9HhG75GzzqKSLs2MC/D4iZijNmGm9XETsX2TRChXpkUbxPS57lM2j/5p1MUknA/+MiJ/XOy9mteCiLTMzq4jvSMzMrCK+IzEzs4o4kJiZWUUcSMzMrCIOJGZmVhEHEjMzq8j/B/bvonvo3j2UAAAAAElFTkSuQmCC\n",
      "text/plain": [
       "<Figure size 432x288 with 1 Axes>"
      ]
     },
     "metadata": {
      "needs_background": "light"
     },
     "output_type": "display_data"
    }
   ],
=======
   "execution_count": null,
   "id": "9379193e",
   "metadata": {},
   "outputs": [],
>>>>>>> 3a4c2235c001abc09e939f35aab0c2fc856eee1c
>>>>>>> a8a23f9722645801d6bd8fffa061dbce96800007
   "source": [
    "#set the data sets to compare\n",
    "x_values = complete_df[\"Population\"]\n",
    "y_values = complete_df[\"Number of Reviews\"]\n",
    "#move the equations to where it can be seen\n",
    "regEQplotX = 2000000\n",
    "regEQplotY =8000\n",
    "#label the axis\n",
    "x_label = \"Population\"\n",
    "y_label = \"Number of Reviews\"\n",
    "#title\n",
    "plt.title(f\"Population VS Number of Reviews\")\n",
    "#run the function with all 5 variables\n",
    "linearRegression(x_values,y_values,regEQplotX,regEQplotY,y_label)\n",
    "\n",
    "#save as a png to the figures folder\n",
    "# plt.savefig(\"./figures/\", bbox_inches='tight')\n",
    "plt.show()"
   ]
  },
  {
   "cell_type": "code",
<<<<<<< HEAD
   "execution_count": 84,
   "id": "879fd30a",
   "metadata": {},
   "outputs": [
    {
     "name": "stdout",
     "output_type": "stream",
     "text": [
      "The r-square is -0.20570044397718742\n",
      "y = -0.0x + 4.49\n"
     ]
    },
    {
     "data": {
      "image/png": "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\n",
      "text/plain": [
       "<Figure size 432x288 with 1 Axes>"
      ]
     },
     "metadata": {
      "needs_background": "light"
     },
     "output_type": "display_data"
    }
   ],
=======
<<<<<<< HEAD
   "execution_count": 58,
=======
   "execution_count": null,
>>>>>>> 3a4c2235c001abc09e939f35aab0c2fc856eee1c
   "id": "879fd30a",
   "metadata": {
    "scrolled": true
   },
   "outputs": [],
>>>>>>> a8a23f9722645801d6bd8fffa061dbce96800007
   "source": [
    "# #set the data sets to compare\n",
    "# x_values = complete_df[\"Population\"]\n",
    "# y_values = complete_df[\"Rating\"]\n",
    "# #move the equations to where it can be seen\n",
    "# regEQplotX = 4500000\n",
    "# regEQplotY = 4.25\n",
    "\n",
    "# #label the axis\n",
    "# x_label = \"Population\"\n",
    "# y_label = \"Rating\"\n",
    "# #title\n",
    "# plt.title(f\"Rating VS Population\")\n",
    "# #run the function with all 5 variables\n",
    "# linearRegression(x_values,y_values,regEQplotX,regEQplotY,y_label)\n",
    "\n",
    "# #save as a png to the figures folder\n",
    "# # plt.savefig(\"./figures/\", bbox_inches='tight')\n",
    "# plt.show()"
   ]
  },
  {
   "cell_type": "code",
   "execution_count": 57,
   "id": "b7e3a400",
   "metadata": {},
<<<<<<< HEAD
   "outputs": [
    {
     "name": "stdout",
     "output_type": "stream",
     "text": [
      "The r-square is -0.2128918781847978\n",
      "y = -3428097.0x + 18001005.29\n"
     ]
    },
    {
     "data": {
      "image/png": "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\n",
      "text/plain": [
       "<Figure size 432x288 with 1 Axes>"
      ]
     },
     "metadata": {
      "needs_background": "light"
     },
     "output_type": "display_data"
    }
   ],
=======
   "outputs": [],
>>>>>>> 3a4c2235c001abc09e939f35aab0c2fc856eee1c
   "source": [
    "#set the data sets to compare\n",
    "x_values = complete_df[\"Rating\"]\n",
    "y_values = complete_df[\"Population\"]\n",
    "#move the equations to where it can be seen\n",
    "regEQplotX = 4.25\n",
    "regEQplotY = 4500000\n",
    "\n",
    "#label the axis\n",
    "x_label = \"Rating\"\n",
    "y_label = \"Population\"\n",
    "#title\n",
    "plt.title(f\"Rating VS Population\")\n",
    "#run the function with all 5 variables\n",
    "linearRegression(x_values,y_values,regEQplotX,regEQplotY,y_label)\n",
    "\n",
    "#save as a png to the figures folder\n",
    "# plt.savefig(\"./figures/\", bbox_inches='tight')\n",
    "plt.show()"
   ]
  },
  {
   "cell_type": "code",
<<<<<<< HEAD
   "execution_count": 85,
   "id": "6c3b2671",
   "metadata": {},
   "outputs": [
    {
     "name": "stdout",
     "output_type": "stream",
     "text": [
      "The r-square is 0.09175336647585436\n",
      "y = 0.0x + 1.78\n"
     ]
    },
    {
     "data": {
      "image/png": "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\n",
      "text/plain": [
       "<Figure size 432x288 with 1 Axes>"
      ]
     },
     "metadata": {
      "needs_background": "light"
     },
     "output_type": "display_data"
    }
   ],
=======
<<<<<<< HEAD
   "execution_count": 55,
   "id": "6c3b2671",
   "metadata": {
    "scrolled": true
   },
   "outputs": [
    {
     "name": "stdout",
     "output_type": "stream",
     "text": [
      "The r-square is 0.07671451248748704\n",
      "y = 0.0x + 1.76\n"
     ]
    },
    {
     "data": {
      "image/png": "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\n",
      "text/plain": [
       "<Figure size 432x288 with 1 Axes>"
      ]
     },
     "metadata": {
      "needs_background": "light"
     },
     "output_type": "display_data"
    }
   ],
=======
   "execution_count": null,
   "id": "6c3b2671",
   "metadata": {},
   "outputs": [],
>>>>>>> 3a4c2235c001abc09e939f35aab0c2fc856eee1c
>>>>>>> a8a23f9722645801d6bd8fffa061dbce96800007
   "source": [
    "#set the data sets to compare\n",
    "x_values = complete_df[\"Number of Reviews\"]\n",
    "y_values = complete_df[\"Price Level\"]\n",
    "#move the equations to where it can be seen\n",
    "regEQplotX = 6000\n",
    "regEQplotY = .5\n",
    "#label the axis\n",
    "x_label = \"Number of Reviews\"\n",
    "y_label = \"Price Level\"\n",
    "\n",
    "#title\n",
    "plt.title(f\"Number of Reviews VS Price Level\")\n",
    "#run the function with all 5 variables\n",
    "linearRegression(x_values,y_values,regEQplotX,regEQplotY,y_label)\n",
    "\n",
    "#save as a png to the figures folder\n",
    "# plt.savefig(\"./figures/\", bbox_inches='tight')\n",
    "plt.show()"
   ]
  },
  {
   "cell_type": "code",
<<<<<<< HEAD
   "execution_count": 86,
   "id": "2f93058e",
   "metadata": {},
   "outputs": [
    {
     "name": "stdout",
     "output_type": "stream",
     "text": [
      "The r-square is 0.2717438427080426\n",
      "y = 1.47x + -4.7\n"
     ]
    },
    {
     "data": {
      "image/png": "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\n",
      "text/plain": [
       "<Figure size 432x288 with 1 Axes>"
      ]
     },
     "metadata": {
      "needs_background": "light"
     },
     "output_type": "display_data"
    }
   ],
=======
<<<<<<< HEAD
   "execution_count": 60,
   "id": "19de86c7",
   "metadata": {},
   "outputs": [
    {
     "name": "stdout",
     "output_type": "stream",
     "text": [
      "The r-square is 0.07671451248748704\n",
      "y = 147.06x + 879.41\n"
     ]
    },
    {
     "data": {
      "image/png": "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\n",
      "text/plain": [
       "<Figure size 432x288 with 1 Axes>"
      ]
     },
     "metadata": {
      "needs_background": "light"
     },
     "output_type": "display_data"
    }
   ],
   "source": [
    "#set the data sets to compare\n",
    "x_values = complete_df[\"Price Level\"]\n",
    "y_values = complete_df[\"Number of Reviews\"]\n",
    "#move the equations to where it can be seen\n",
    "regEQplotX = .5\n",
    "regEQplotY = 6000\n",
    "#label the axis\n",
    "x_label = \"Price Level\"\n",
    "y_label = \"Number of Reviews\"\n",
    "\n",
    "#title\n",
    "plt.title(f\"Number of Reviews VS Price Level\")\n",
    "#run the function with all 5 variables\n",
    "linearRegression(x_values,y_values,regEQplotX,regEQplotY,y_label)\n",
    "\n",
    "#save as a png to the figures folder\n",
    "# plt.savefig(\"./figures/\", bbox_inches='tight')\n",
    "plt.show()"
   ]
  },
  {
   "cell_type": "code",
   "execution_count": 40,
   "id": "2f93058e",
   "metadata": {},
   "outputs": [
    {
     "name": "stdout",
     "output_type": "stream",
     "text": [
      "The r-square is 0.28078286890376986\n",
      "y = 1.57x + -5.17\n"
     ]
    },
    {
     "data": {
      "image/png": "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\n",
      "text/plain": [
       "<Figure size 432x288 with 1 Axes>"
      ]
     },
     "metadata": {
      "needs_background": "light"
     },
     "output_type": "display_data"
    }
   ],
=======
   "execution_count": null,
   "id": "2f93058e",
   "metadata": {},
   "outputs": [],
>>>>>>> 3a4c2235c001abc09e939f35aab0c2fc856eee1c
>>>>>>> a8a23f9722645801d6bd8fffa061dbce96800007
   "source": [
    "#set the data sets to compare\n",
    "x_values = complete_df[\"Rating\"]\n",
    "y_values = complete_df[\"Price Level\"]\n",
    "#move the equations to where it can be seen\n",
    "regEQplotX = 4.2\n",
    "regEQplotY = 3.5\n",
    "#label the axis\n",
    "x_label = \"Rating\"\n",
    "y_label = \"Price Level\"\n",
    "plt.grid(b=True,which=\"major\",axis=\"both\",linestyle=\"-\",color=\"lightgrey\")\n",
    "\n",
    "#title\n",
    "plt.title(f\"Rating VS Price Level\")\n",
    "\n",
    "linearRegression(x_values,y_values,regEQplotX,regEQplotY,y_label)\n",
    "\n",
    "#save as a png to the figures folder\n",
    "# plt.savefig(\"./figures/\", bbox_inches='tight')\n",
    "plt.show()"
   ]
  },
  {
   "cell_type": "code",
<<<<<<< HEAD
   "execution_count": 87,
   "id": "291121f4",
   "metadata": {},
   "outputs": [
    {
     "name": "stderr",
     "output_type": "stream",
     "text": [
      "C:\\Users\\skdab\\AppData\\Local\\Temp\\ipykernel_13336\\1701050199.py:10: MatplotlibDeprecationWarning: The 'b' parameter of grid() has been renamed 'visible' since Matplotlib 3.5; support for the old name will be dropped two minor releases later.\n",
      "  plt.grid (b=True,which=\"major\",axis=\"both\",linestyle=\"-\",color=\"lightgrey\")\n"
     ]
    },
    {
     "data": {
      "image/png": "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\n",
      "text/plain": [
       "<Figure size 432x288 with 1 Axes>"
      ]
     },
     "metadata": {
      "needs_background": "light"
     },
     "output_type": "display_data"
    },
    {
     "name": "stdout",
     "output_type": "stream",
     "text": [
      "If the price level and rating is higher peoples assumption is that the food will be better\n"
     ]
    }
   ],
=======
<<<<<<< HEAD
   "execution_count": 38,
   "id": "291121f4",
   "metadata": {},
   "outputs": [
    {
     "data": {
      "image/png": "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\n",
      "text/plain": [
       "<Figure size 432x288 with 1 Axes>"
      ]
     },
     "metadata": {
      "needs_background": "light"
     },
     "output_type": "display_data"
    },
    {
     "name": "stdout",
     "output_type": "stream",
     "text": [
      "If the price level and rating is higher peoples assumption is that the food will be better\n"
     ]
    }
   ],
=======
   "execution_count": null,
   "id": "291121f4",
   "metadata": {},
   "outputs": [],
>>>>>>> 3a4c2235c001abc09e939f35aab0c2fc856eee1c
>>>>>>> a8a23f9722645801d6bd8fffa061dbce96800007
   "source": [
    "# how the scatter plot looks\n",
    "plt.scatter(complete_df[\"Rating\"],complete_df[\"Price Level\"],edgecolors=\"black\",facecolors=\"skyblue\")\n",
    "# title\n",
    "plt.title(\"Rating VS Price Level\")\n",
    "# x-axis\n",
    "plt.xlabel(\"Rating\")\n",
    "# y-axis\n",
    "plt.ylabel(\"Price Level\")\n",
    "# how the grid looks\n",
    "plt.grid(b=True,which=\"major\",axis=\"both\",linestyle=\"-\",color=\"lightgrey\")\n",
    "\n",
    "#save as a png to the figures folder\n",
    "# plt.savefig(\"./figures/\", bbox_inches='tight')\n",
    "plt.show()\n",
    "print(\"If the price level and rating is higher peoples assumption is that the food will be better\")"
   ]
  },
  {
   "cell_type": "code",
<<<<<<< HEAD
   "execution_count": 88,
   "id": "1d1e46c2",
   "metadata": {},
   "outputs": [
    {
     "name": "stdout",
     "output_type": "stream",
     "text": [
      "when looking at the data we wanted to know what the most common review is given when someone is deciding a 4-5 review\n"
     ]
    },
    {
     "data": {
      "image/png": "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\n",
      "text/plain": [
       "<Figure size 432x288 with 1 Axes>"
      ]
     },
     "metadata": {
      "needs_background": "light"
     },
     "output_type": "display_data"
    }
   ],
=======
<<<<<<< HEAD
   "execution_count": 31,
   "id": "1d1e46c2",
   "metadata": {},
   "outputs": [
    {
     "name": "stdout",
     "output_type": "stream",
     "text": [
      "when looking at the data we wanted to know what the most common review is given when someone is deciding a 4-5 review\n"
     ]
    },
    {
     "data": {
      "image/png": "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\n",
      "text/plain": [
       "<Figure size 432x288 with 1 Axes>"
      ]
     },
     "metadata": {
      "needs_background": "light"
     },
     "output_type": "display_data"
    }
   ],
=======
   "execution_count": null,
   "id": "1d1e46c2",
   "metadata": {},
   "outputs": [],
>>>>>>> 3a4c2235c001abc09e939f35aab0c2fc856eee1c
>>>>>>> a8a23f9722645801d6bd8fffa061dbce96800007
   "source": [
    "r_bar=complete_df.groupby(\"Rating\")\n",
    "# Create a dataframe counting\n",
    "r_count = pd.DataFrame(r_bar[\"Rating\"].count())\n",
    "# Create a bar chart based off of the group series from before and label the title\n",
    "# used hexidecimal code for fun and you can pick way more specfic colors \n",
    "r_chart = r_count.plot(kind=\"bar\", title=\"Rating\", color=\"#A36ACF\")\n",
    "# # Set the X-label and Y-label\n",
    "r_chart.set_xlabel(\"Rating\")\n",
    "\n",
    "r_chart.set_ylabel(\"Number of grouped ratings\")\n",
    "print(\"when looking at the data we wanted to know what the most common review is given when someone is deciding a 4-5 review\")"
   ]
  },
  {
   "cell_type": "code",
<<<<<<< HEAD
   "execution_count": 89,
   "id": "59b1c0ba",
   "metadata": {},
   "outputs": [
    {
     "data": {
      "text/plain": [
       "Text(0, 0.5, 'Number of grouped ratings')"
      ]
     },
     "execution_count": 89,
     "metadata": {},
     "output_type": "execute_result"
    },
    {
     "data": {
      "image/png": "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\n",
      "text/plain": [
       "<Figure size 432x288 with 1 Axes>"
      ]
     },
     "metadata": {
      "needs_background": "light"
     },
     "output_type": "display_data"
    }
   ],
=======
<<<<<<< HEAD
   "execution_count": 32,
   "id": "59b1c0ba",
   "metadata": {},
   "outputs": [
    {
     "data": {
      "text/plain": [
       "Text(0, 0.5, 'Number of grouped ratings')"
      ]
     },
     "execution_count": 32,
     "metadata": {},
     "output_type": "execute_result"
    },
    {
     "data": {
      "image/png": "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\n",
      "text/plain": [
       "<Figure size 432x288 with 1 Axes>"
      ]
     },
     "metadata": {
      "needs_background": "light"
     },
     "output_type": "display_data"
    }
   ],
=======
   "execution_count": null,
   "id": "59b1c0ba",
   "metadata": {},
   "outputs": [],
>>>>>>> 3a4c2235c001abc09e939f35aab0c2fc856eee1c
>>>>>>> a8a23f9722645801d6bd8fffa061dbce96800007
   "source": [
    "r_bar=complete_df.groupby(\"Rating\")\n",
    "# Create a dataframe\n",
    "r_count = pd.DataFrame(r_bar[\"Rating\"].sum())\n",
    "# Create a bar chart based off of the group series from before and label the title\n",
    "# used hexidecimal code for fun and you can pick way more specfic colors \n",
    "r_chart = r_count.plot(kind=\"bar\", title=\"Rating\", color=\"#A36ACF\")\n",
    "# # Set the X-label and Y-label\n",
    "r_chart.set_xlabel(\"Rating\")\n",
    "\n",
    "r_chart.set_ylabel(\"Number of grouped ratings\")"
   ]
  },
  {
   "cell_type": "code",
<<<<<<< HEAD
   "execution_count": 90,
   "id": "e7b9746e",
   "metadata": {},
   "outputs": [
    {
     "data": {
      "text/plain": [
       "Text(0, 0.5, 'Ratings')"
      ]
     },
     "execution_count": 90,
     "metadata": {},
     "output_type": "execute_result"
    },
    {
     "data": {
      "image/png": "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\n",
      "text/plain": [
       "<Figure size 432x288 with 1 Axes>"
      ]
     },
     "metadata": {
      "needs_background": "light"
     },
     "output_type": "display_data"
    }
   ],
=======
<<<<<<< HEAD
   "execution_count": 33,
   "id": "e7b9746e",
   "metadata": {},
   "outputs": [
    {
     "data": {
      "text/plain": [
       "Text(0, 0.5, 'Ratings')"
      ]
     },
     "execution_count": 33,
     "metadata": {},
     "output_type": "execute_result"
    },
    {
     "data": {
      "image/png": "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\n",
      "text/plain": [
       "<Figure size 432x288 with 1 Axes>"
      ]
     },
     "metadata": {
      "needs_background": "light"
     },
     "output_type": "display_data"
    }
   ],
=======
   "execution_count": null,
   "id": "e7b9746e",
   "metadata": {},
   "outputs": [],
>>>>>>> 3a4c2235c001abc09e939f35aab0c2fc856eee1c
>>>>>>> a8a23f9722645801d6bd8fffa061dbce96800007
   "source": [
    "r_bar=complete_df.groupby(\"City\")\n",
    "# Create a dataframe mean\n",
    "r_count = pd.DataFrame(r_bar[\"Rating\"].mean())\n",
    "# Create a bar chart based off of the group series from before and label the title\n",
    "# used hexidecimal code for fun and you can pick way more specfic colors \n",
    "r_chart = r_count.plot(kind=\"bar\", title=\"City VS Rating\", color=\"#A36ACF\",)\n",
    "\n",
    "\n",
    "\n",
    "# Set the X-label and Y-label\n",
    "r_chart.set_xlabel(\"City\")\n",
    "r_chart.set_ylim([4, 5])\n",
    "\n",
    "r_chart.set_ylabel(\"Ratings\")"
   ]
  },
  {
   "cell_type": "code",
   "execution_count": 93,
   "id": "2b605d85",
   "metadata": {},
   "outputs": [
    {
     "data": {
      "text/plain": [
       "Text(0, 0.5, 'Number of Reviews')"
      ]
     },
     "execution_count": 93,
     "metadata": {},
     "output_type": "execute_result"
    },
    {
     "data": {
      "image/png": "iVBORw0KGgoAAAANSUhEUgAAAYsAAAFMCAYAAAA6DZCHAAAAOXRFWHRTb2Z0d2FyZQBNYXRwbG90bGliIHZlcnNpb24zLjUuMSwgaHR0cHM6Ly9tYXRwbG90bGliLm9yZy/YYfK9AAAACXBIWXMAAAsTAAALEwEAmpwYAAA56UlEQVR4nO3debyc4/3/8dc7C1L7cmiIWEMJaUoEVSK1VheqtRP1RbpoUb5qab+tWn60RS0tqvaWSGhLWkstRVBEQpCIJYhKpbYWsWX9/P64rknmnMw5M4kz94ye9/PxmMeZuWbu+/qcbT5zX6siAjMzs450a3QAZmbW/JwszMysKicLMzOrysnCzMyqcrIwM7OqnCzMzKwqJwvrVJJOknRpo+NoBpJOlvT7BtZ/mqQ3JP2r4HrflbRukXVa/TlZ2CKTtL+kcflNYbqkWyV9DiAi/l9EHJZft7akkNRjMerYWtJ7kpat8Nxjkr6b7x8q6WlJMyS9KunmSsfk194j6UNJa5aV7Shp6qLG1+zy93gssHFEfLLC89tLmpd/hzMkPSPpkM6oOyKWiYgXOuNc1jycLGyRSDoGOBf4f8BqQF/gQmD3zqwnIh4EpgFfa1P/JsDGwAhJQ3Ic+0XEssBGwKgqp34P+L/OjLUIi5Fw1wLejIjXOnjNKxGxDLAc8H3gt5I2XNwY7b+bk4XVTNLywCnAERHxx4h4LyJmR8SfI+K4/Jryppcx+etb+RPsEEn/lrRp2TlXlfSBpJYKVV4FDGtTNgy4OSLeBLYAHoyIxwAi4t8RcVVEzOjg2zgf2E/S+u18j1H+nKQrJZ2W728vaZqkH0h6LV9V7SFpN0nP5u/tpDanXErSyPzp/VFJny479+qS/iDpdUkvSjqy7LmTJd0g6feS3gG+USHW5SVdnY9/SdKPJHWTtCNwB7B6/rlf2cHPg0huAf4NDMjn7ibpBEnPS3pT0ihJK+Xnbitd2ZXF8rikPdv+DCUtKeksSf/IV34XS+qVn7tX0tfy/c/l43bLj3eUNCHfXz+/9u3crDayo+/H6sPJwhbF1sBSwJ9qfP12+esKuWniXuA64MCy1+wH3BkRr1c4/nfAtpL6QnoDA/YHrs7PPwzsIumnkraRtGQNMf0T+C1wco3fQ1ufJP0M1gB+nM91ILA5sC3w4zbt9bsD1wMrAdcCN0rqmb+XPwOP53PtABwtaZc2x94ArABcUyGWC4DlgXWBIaREekhE3Al8gXzlEBHf6OgbyonhK8AqwJRcfCSwRz7v6sB/gF/n564l/d5Kx29MupK5ucLpfwZsAAwE1mfBzw3gXmD7fH874IVcX+nxvfn+qcDtwIpAn/x9W9EiwjffaroBBwD/qvKak4Hf5/trAwH0KHt+S+BloFt+PA7Yu4Pz3QmclO/vBLwB9Cx7/gukN923gHeBc4Du7ZzrHuAwoAV4G+gP7AhMLXtNAOuXPb4SOC3f3x74oHR+YNn8+i3LXj8e2KPsZ/FQ2XPdgOmkpLIl8I828Z0IXFF27JgOfi7dgZmkPolS2TeBe8pindbB8dsD8/LPbSYwFzi67PnJwA5lj3sDs4Ee+ft+D1grP3c6cHnbnyGg/Lr1yp7bGngx398BeCLfvy3/bh7Kj+8F9sz3rwYuAfo0+n+gK998ZWGL4k1glcXpsC6JiIdJbyBDJH2K9KYyuoNDypuiDgKujYjZZee7NSK+TPrkvjupueawKjG8DvyK1KS2qN6MiLn5/gf566tlz38ALFP2+OWyeueR+mFWJ30SX13SW6UbcBKpH2ihYytYBVgCeKms7CXSJ/davRIRK5D6LM4HPl/23FrAn8pim0xKKKtFaua7Gdg3v3ZfKl/5tACfAMaXnee2XA7wILCBpNVIVx5XA2tKWgUYzIJmzB+QEs9YSZMk/c8ifI/WSZwsbFE8CHxIap6oRXtLGl9Faro5CLghIj7s4Bx/BNaQNBTYkwVNUK0ripgXEXcBfwM2qSG2XwBDSc1H5d4nvcGVLDSSaBGVj7zqRmpGeYWUCF6MiBXKbstGxG5lx3a0JPQbpE/6a5WV9SU1sy2SiJgJHA9sKmmPXPwy8IU28S0VEaXzjyD1/WwN9ALubifGD4D+ZedYPlKnOhHxPulK7ChgYkTMAv4OHAM8HxFv5Nf9KyIOj4jVSVdPF7bX52T142RhNYuIt0ntzb/OHbufyO3vX5D08wqHvE5q6mg75v53wFdJCaPim39Zne+R2u2vAF6KiHGl5yTtLmlfSSsqGUxq836ohu/lLeBs0qfWchOA/SV1l7QrC9rQF9fmkvbMV2NHk5p8HgLGAu9IOl5Sr1zfJpK2qOWk+epmFHC6pGUlrUV6k12seR35jfpsFvQnXJzPvRaApBZJ5SPebiElqlOAkfmqqe0555H6dH4padV8njXa9MvcC3yXBf0T97R5jKS9JPXJD/9DSqJzsUI5WdgiiYhzSG9KPyIlg5dJ/9w3Vnjt+6T27AdyM8RWuXwa8Cjpn/6+Gqq9ivTG1Dax/Ac4HHgOeIf0RvmLiKjUJFLJeSz8pnMU8GVSW/4BVPi+FtFNwD451oNI7fCz85v9l0nNLy+SPoVfSuqwrtX3SE16LwD3kzqeL/8IsV4O9JX0ZdLPZjRwu6QZpAS3ZemF+Wrkj6Q+n2s7OOfxpE7zh/KorjuB8uG595L6QMa08xjSqLeHJb2bYzoqIl5c3G/SFo8ivPmRFU/S5aQ28x81OhYzq26xOyrNFpektUn9D59pcChmVqO6NUNJWkrS2DxZZ5Kkn+bylSTdIem5/HXFsmNOlDRFaemBXcrKN5f0ZH7ufEmqV9xWX5JOBSaSmovclGD2MVG3Zqj8hr50RLwrqSepTfUo0ifKf0fEmZJOAFaMiOPzxJ4RpCFzq5PaNjeIiLmSxuZjHyJ1rJ0fEbfWJXAzM1tI3a4sInk3P+yZb0EaC39VLr+KBcMwdweui4iZ+RPnFGCwpN7AchHxYKTMdjW1D900M7NOUNfRUHk44ATgNeCOPCFrtYiYDpC/rppfvgatJyFNy2Vr5Ptty83MrCB17eDOwwMHSlqBNBu0o8lSlfohooPyhU8gDQeGAyy99NKbf+pTn1q0gM3Murjx48e/ERELLexZyGioiHhL0j3ArsCrknpHxPTcxFRaQnkaZbNdWTDTdVq+37a8Uj2XkNaQYdCgQTFu3LhKLzMzs3ZIeqlSeT1HQ7XkKwryksQ7Ak+TJtUcnF92MGnSErl8X6UljdcB+gFjc1PVDElb5U7zYWXHmJlZAep5ZdEbuEpSd1JSGhURf5H0IDBK0qHAP4C9ACJikqRRwFPAHNKeCaXZtd8mrf7ZC7g138zMrCD/tTO43QxlZrboJI2PiEFty7vUDO7Zs2czbdo0Pvywo0VOrStYaqml6NOnDz179mx0KGYfC10qWUybNo1ll12WtddeG08C77oigjfffJNp06axzjrrNDocs4+FLrXq7IcffsjKK6/sRNHFSWLllVf2FabZIuhSyQJwojDAfwdmi6rLJYtGk8Sxxx47//FZZ53FySef3Cnn/sY3vsENN9zQKefqyPXXX89GG23E0KFDW5VPnTqVXr16MXDgQDbeeGOGDRvG7Nmz2zlLxw477DCeeuqpzgjXzDpBl+qzaOv3R0zo1PMd+OuBVV+z5JJL8sc//pETTzyRVVZZpVPr/yjmzp1L9+7da3rtZZddxoUXXrhQsgBYb731mDBhAnPnzmWnnXZi1KhRHHDAAYscz6WXXrrIx5hZ/fjKomA9evRg+PDh/PKXv1zoubZXBsssswwA99xzD0OGDGHvvfdmgw024IQTTuCaa65h8ODBbLrppjz//PPzj7nzzjvZdttt2WCDDfjLX/4CpERw3HHHscUWWzBgwAB+85vfzD/v0KFD2X///dl0000XimfEiBFsuummbLLJJhx//PEAnHLKKdx///1861vf4rjjjmv3++zevTuDBw/mn/9MWzaPHz+eIUOGsPnmm7PLLrswffp0Jk+ezODBg+cfM3XqVAYMGADA9ttvT2no8+23387WW2/NZpttxl577cW7777L2LFj2XPPPQG46aab6NWrF7NmzeLDDz9k3XXTLq7nn38+G2+8MQMGDGDfffft8PdiZh3r0lcWjXLEEUcwYMAAfvCDtts/t+/xxx9n8uTJrLTSSqy77rocdthhjB07lvPOO48LLriAc889F0hvuPfeey/PP/88Q4cOZcqUKVx99dUsv/zyPPLII8ycOZNtttmGnXfeGYCxY8cyceLEhUYFvfLKKxx//PGMHz+eFVdckZ133pkbb7yRH//4x/ztb3/jrLPOYtCghYZiz/fhhx/y8MMPc9555zF79my+973vcdNNN9HS0sLIkSP54Q9/yOWXX86sWbN44YUXWHfddRk5ciR77713q/O88cYbnHbaadx5550svfTS/OxnP+Occ87hpJNO4rHHHgPgvvvuY5NNNuGRRx5hzpw5bLll2v3zzDPP5MUXX2TJJZfkrbfeqvlnbWYLc7JogOWWW45hw4Zx/vnn06tXr5qO2WKLLejduzeQmnpKb/abbropd9999/zX7b333nTr1o1+/fqx7rrr8vTTT3P77bfzxBNPzL9qefvtt3nuuedYYoklGDx4cMXho4888gjbb789LS1pPbEDDjiAMWPGsMcee3QY5/PPP8/AgQN57rnn+PrXv86AAQOYOHEiEydOZKeddgLSlU7pe9l7770ZNWoUJ5xwAiNHjmTkyJGtzvfQQw/x1FNPsc022wAwa9Ystt56a3r06MH666/P5MmTGTt2LMcccwxjxoxh7ty5bLvttgAMGDCAAw44gD322KNq3GbWMSeLBjn66KPZbLPNOOSQQ+aX9ejRg3nz5gFpLsCsWbPmP7fkkkvOv9+tW7f5j7t168acOXPmP9d2lI8kIoILLriAXXbZpdVz99xzD0svvXTF+BZ3Zn+pz2L69Olsv/32jB49mnXWWYf+/fvz4IMPLvT6ffbZh7322os999wTSfTr12+hOHbaaSdGjBix0LHbbrstt956Kz179mTHHXfkG9/4BnPnzuWss84C4Oabb2bMmDGMHj2aU089lUmTJtGjh//kzRaH+ywaZKWVVmLvvffmsssum1+29tprM378eCC1wy/OSKLrr7+eefPm8fzzz/PCCy+w4YYbsssuu3DRRRfNP9+zzz7Le++91+F5ttxyS+69917eeOMN5s6dy4gRIxgyZEjNcfTu3ZszzzyTM844gw033JDXX399frKYPXs2kyZNAlJy6d69O6eeeir77LPPQufZaquteOCBB5gyZQoA77//Ps8++ywA2223Heeeey5bb701LS0tvPnmmzz99NP079+fefPm8fLLLzN06FB+/vOf89Zbb/Huu+8udH4zq40/ZjXQsccey69+9av5jw8//HB23313Bg8ezA477NDup/6ObLjhhgwZMoRXX32Viy++mKWWWorDDjuMqVOnstlmmxERtLS0cOONN3Z4nt69e3PGGWcwdOhQIoLddtuN3XfffZFi2WOPPTj55JN5+OGHueGGGzjyyCN5++23mTNnDkcffTT9+/cH0tXFcccdx4svLrwld0tLC1deeSX77bcfM2fOBOC0005jgw02YMstt+TVV19lu+22A1Kz06qrrook5syZw4EHHsjbb79NRPD973+fFVZYYZHiN2smnTF6s5YRm+3pUgsJTp48mY022qhBEVmz8d+DfZwUlSzaW0jQzVBmZlaVk4WZmVXlZGFmZlV1uWTx39pHY4vGfwdmi6ZLJYulllqKN998028UXVxpP4ulllqq0aGYfWx0qaGzffr0Ydq0abz++uuNDsUarLRTnpnVpksli549e3pnNDOzxdClmqHMzGzxOFmYmVlVThZmZlaVk4WZmVXlZGFmZlU5WZiZWVVOFmZmVlXdkoWkNSXdLWmypEmSjsrlJ0v6p6QJ+bZb2TEnSpoi6RlJu5SVby7pyfzc+Wq7HZyZmdVVPSflzQGOjYhHJS0LjJd0R37ulxFxVvmLJW0M7Av0B1YH7pS0QUTMBS4ChgMPAbcAuwK31jF2MzMrU7cri4iYHhGP5vszgMnAGh0csjtwXUTMjIgXgSnAYEm9geUi4sFIizpdDexRr7jNzGxhhfRZSFob+AzwcC76rqQnJF0uacVctgbwctlh03LZGvl+23IzMytI3ZOFpGWAPwBHR8Q7pCal9YCBwHTg7NJLKxweHZRXqmu4pHGSxnmxQDOzzlPXZCGpJylRXBMRfwSIiFcjYm5EzAN+CwzOL58GrFl2eB/glVzep0L5QiLikogYFBGDWlpaOvebMTPrwuo5GkrAZcDkiDinrLx32cu+CkzM90cD+0paUtI6QD9gbERMB2ZI2iqfcxhwU73iNjOzhdVzNNQ2wEHAk5Im5LKTgP0kDSQ1JU0FvgkQEZMkjQKeIo2kOiKPhAL4NnAl0Is0CsojoczMClS3ZBER91O5v+GWDo45HTi9Qvk4YJPOi87MzBaFZ3CbmVlVThZmZlaVk4WZmVXlZGFmZlU5WZiZWVVOFmZmVpWThZmZVeVkYWZmVTlZmJlZVU4WZmZWlZOFmZlV5WRhZmZVOVmYmVlVThZmZlaVk4WZmVXlZGFmZlU5WZiZWVVOFmZmVpWThZmZVeVkYWZmVS1SspDUTdJy9QrGzMyaU9VkIelaSctJWhp4CnhG0nH1D83MzJpFLVcWG0fEO8AewC1AX+CgegZlZmbNpZZk0VNST1KyuCkiZgNR16jMzKyp1JIsfgNMBZYGxkhaC3innkGZmVlzqZosIuL8iFgjInaLiAD+AQytf2hmZtYselR7gaTngYeA+4AxEfEUMKfegZmZWfOoqYOb1BS1MnCWpBck/am+YZmZWTOpJVnMBWbnr/OAV4HXqh0kaU1Jd0uaLGmSpKNy+UqS7pD0XP66YtkxJ0qaIukZSbuUlW8u6cn83PmStKjfqJmZLb5aksU7wLnAi8DBEbF1RHyzhuPmAMdGxEbAVsARkjYGTgDuioh+wF35Mfm5fYH+wK7AhZK653NdBAwH+uXbrrV9e2Zm1hlqSRb7AWOA7wDXSfqppB2qHRQR0yPi0Xx/BjAZWAPYHbgqv+wq0pBccvl1ETEzIl4EpgCDJfUGlouIB3MH+9Vlx5iZWQGqdnBHxE3ATZI+BXwBOBr4AdCr1kokrQ18BngYWC0ipudzT5e0an7ZGqSO9JJpuWx2vt+2vFI9w0lXIPTt27fW8MzMrIpalvv4Qx4RdR5prsUwYMWOj2p1/DLAH4Cj80zwdl9aoSw6KF+4MOKSiBgUEYNaWlpqDdHMzKqoemUBnAk8GhFzF/Xkeeb3H4BrIuKPufhVSb3zVUVvFnSWTwPWLDu8D/BKLu9TodzMzApSS5/FJOBESZcASOon6UvVDsojli4DJkfEOWVPjQYOzvcPBm4qK99X0pKS1iF1ZI/NTVYzJG2Vzzms7BgzMytALcniCmAW8Nn8eBpwWg3HbUNacPDzkibk226kK5WdJD0H7JQfExGTgFGklW1vA44ou5r5NnApqdP7eeDWGuo3M7NOUksz1HoRsY+k/QAi4oNa5jlExP1U7m8AqDiaKiJOB06vUD4O2KSGWM3MrA5qubKYJakXuVNZ0nrAzLpGZWZmTaWWK4ufkJqF1pR0Dal56Rv1DMrMzJpLLfMs7pD0KGkWtoCjIuKNukdmZmZNo91mqDwJD0mbAWsB00lDVvvmMjMz6yI6urI4hjQb+uwKzwXw+bpEZGZmTafdZBERw/NXb3RkZtbF1bLcx+N56fD1igjIzMyaTy1DZ79C2stilKRHJP2vJK/SZ2bWhdSyB/dLEfHziNgc2B8YQNrbwszMuoha5lmUlhjfG9iHdJXxgzrGZGZmTaZqspD0MNATuB7YKyJeqHtUZmbWVGq5sjg4Ip6ueyRmZta0aung/o+kyyTdCmmvbEmH1jkuMzNrIrUkiyuBvwKr58fPkrZWNTOzLqKWZLFKRIwC5gFExBxSJ7eZmXURtSSL9yStzIIlyrcC3q5rVGZm1lRq6eA+hrTl6XqSHgBagK/XNSozM2sqtSxR/qikIcCGpCXKnwEG1zswMzNrHu0mC0ndSRPx1gBujYhJkr4EXAL0Aj5TTIhmZtZoHV1ZXAasCYwFLpD0EmkDpBMj4sYCYjMzsybRUbIYBAyIiHmSlgLeANaPiH8VE5qZmTWLjkZDzYqI0nDZD4FnnSjMzLqmjq4sPiXpiXxfpNFQT+T7ERED6h6dmZk1hY6SxUaFRWFmZk2to21VXyoyEDMza1417Wdh1lX8/ogJH/kcB/564Ec+h1mzqWW5DzMz6+LaTRaS7spff7Y4J5Z0uaTXJE0sKztZ0j8lTci33cqeO1HSFEnPSNqlrHxzSU/m586XpMWJx8zMFl9HVxa98zIfX5H0GUmbld9qOPeVwK4Vyn8ZEQPz7RZIe2QA+wL98zEX5hnkABcBw4F++VbpnGZmVkcd9Vn8GDgB6AOc0+a5AD7f0YkjYkzeu7sWuwPXRcRM4EVJU4DBkqYCy0XEgwCSrgb2AG6t8bxmZtYJOhoNdQNwg6T/i4hTO7HO70oaBowDjo2I/5DWn3qo7DXTctnsfL9tuZmZFahqB3dEnCrpK5LOyrcvfYT6LgLWAwYC04Gzc3mlfojooLwiScMljZM07vXXX/8IYZqZWbmqyULSGcBRwFP5dlQuW2QR8WpEzM3LiPyWBUudTyMtWljSB3gll/epUN7e+S+JiEERMailpWVxQjQzswpqGTr7RWCniLg8Ii4ndTB/cXEqk9S77OFXgdJIqdHAvpKWlLQOqSN7bERMB2ZI2iqPghoG3LQ4dZuZ2eKrdVLeCsC/8/3lazlA0ghge2AVSdOAnwDbSxpIakqaCnwTIO+VMYp05TIHOCIiSvt8f5s0sqoXqWPbndtmZgWrJVmcATwm6W5SH8J2wInVDoqI/SoUX9bB608HTq9QPg7YpIY4zcysTmrZVnWEpHuALUjJ4ngvVW5m1rXU1AyV+w5G1zkWMzNrUl4byszMqnKyMDOzqjpMFpK6lS8EaGZmXVOHySJPnntcUt+C4jEzsyZUSwd3b2CSpLHAe6XCiPhK3aIyM7OmUkuy+GndozAzs6ZWyzyLeyWtBfSLiDslfQLoXu04MzP771HLQoKHAzcAv8lFawA31jEmMzNrMrUMnT0C2AZ4ByAingNWrWdQZmbWXGpJFjMjYlbpgaQedLCnhJmZ/fepJVncK+kkoJeknYDrgT/XNywzM2smtSSLE4DXgSdJS4rfAvyonkGZmVlzqWU01DxJVwEPk5qfnokIN0OZmXUhVZOFpC8CFwPPk5YoX0fSNyPCmxCZmXURtUzKOxsYGhFTACStB9yMd6wzM+syaumzeK2UKLIXgNfqFI+ZmTWhdq8sJO2Z706SdAswitRnsRfwSAGxmZlZk+ioGerLZfdfBYbk+68DK9YtIjOzJvP7IyZ85HMc+OuBH/kcjdRusoiIQ4oMxMzMmlcto6HWAb4HrF3+ei9RbmbWddQyGupG4DLSrO15dY3GzMyaUi3J4sOIOL/ukZiZWdOqJVmcJ+knwO3AzFJhRDxat6jMzKyp1JIsNgUOAj7PgmaoyI/NzKwLqCVZfBVYt3yZcjMz61pqmcH9OLDCop5Y0uWSXpM0saxsJUl3SHouf12x7LkTJU2R9IykXcrKN5f0ZH7ufEla1FjMzOyjqSVZrAY8LemvkkaXbjUcdyWwa5uyE4C7IqIfcFd+jKSNgX2B/vmYCyWV9vm+CBgO9Mu3tuc0M7M6q6UZ6ieLc+KIGCNp7TbFuwPb5/tXAfcAx+fy6yJiJvCipCnAYElTgeUi4kEASVcDe+BFDM3MClXLfhb3dmJ9q0XE9Hze6ZJKe3mvATxU9rppuWx2vt+23MzMClTLDO4ZLNhzewmgJ/BeRCzXiXFU6oeIDsorn0QaTmqyom/fvp0TmZmZVe+ziIhlI2K5fFsK+Brwq8Ws71VJvQHy19JS59OANcte1wd4JZf3qVDeXqyXRMSgiBjU0tKymCGamVlbtXRwtxIRN7L4cyxGAwfn+wcDN5WV7ytpybwWVT9gbG6ymiFpqzwKaljZMWZmVpBamqH2LHvYDRhEB01BZceNIHVmryJpGqmj/ExglKRDgX+Q9sYgIiZJGgU8BcwBjoiIuflU3yaNrOpF6th257aZWcFqGQ1Vvq/FHGAqafRShyJiv3ae2qGd158OnF6hfBywSdUozcysbmoZDeV9Leroo26q8nHfUKWcfxZmzaujbVV/3MFxERGn1iEeMzNrQh1dWbxXoWxp4FBgZcDJwsysi+hoW9WzS/clLQscBRwCXAec3d5xZvbfwftOW7kO+ywkrQQcAxxAWp5js4j4TxGBmZlZ8+ioz+IXwJ7AJcCmEfFuYVGZmeGrm2bS0aS8Y4HVgR8Br0h6J99mSHqnmPDMzKwZdNRnscizu83M7L+TE4KZmVXlZGFmZlU5WZiZWVVOFmZmVpWThZmZVeVkYWZmVTlZmJlZVbXsZ/FfyTNDF/DPwsyq8ZWFmZlV5WRhZmZVOVmYmVlVThZmZlaVk4WZmVXlZGFmZlU5WZiZWVVOFmZmVpWThZmZVeVkYWZmVTlZmJlZVQ1JFpKmSnpS0gRJ43LZSpLukPRc/rpi2etPlDRF0jOSdmlEzGZmXVkjryyGRsTAiBiUH58A3BUR/YC78mMkbQzsC/QHdgUulNS9EQGbmXVVzdQMtTtwVb5/FbBHWfl1ETEzIl4EpgCDiw/PzKzralSyCOB2SeMlDc9lq0XEdID8ddVcvgbwctmx03KZmZkVpFH7WWwTEa9IWhW4Q9LTHbxWFcqi4gtT4hkO0Ldv348epZmZAQ26soiIV/LX14A/kZqVXpXUGyB/fS2/fBqwZtnhfYBX2jnvJRExKCIGtbS01Ct8M7Mup/ArC0lLA90iYka+vzNwCjAaOBg4M3+9KR8yGrhW0jnA6kA/YGzRcZsVxTsXWjNqRDPUasCfJJXqvzYibpP0CDBK0qHAP4C9ACJikqRRwFPAHOCIiJjbgLjNzLqswpNFRLwAfLpC+ZvADu0cczpwep1DMzOzdjTT0FkzM2tSThZmZlaVk4WZmVXlZGFmZlU5WZiZWVVOFmZmVpWThZmZVeVkYWZmVTlZmJlZVU4WZmZWlZOFmZlV5WRhZmZVOVmYmVlVThZmZlaVk4WZmVXlZGFmZlU5WZiZWVVOFmZmVpWThZmZVeVkYWZmVTlZmJlZVU4WZmZWlZOFmZlV5WRhZmZVOVmYmVlVThZmZlaVk4WZmVXlZGFmZlV9bJKFpF0lPSNpiqQTGh2PmVlX8rFIFpK6A78GvgBsDOwnaePGRmVm1nV8LJIFMBiYEhEvRMQs4Dpg9wbHZGbWZSgiGh1DVZK+DuwaEYflxwcBW0bEd9u8bjgwPD/cEHjmI1S7CvDGRzi+szRDHM0QAzRHHM0QAzRHHM0QAzRHHM0QA3ROHGtFREvbwh4f8aRFUYWyhbJcRFwCXNIpFUrjImJQZ5zr4x5HM8TQLHE0QwzNEkczxNAscTRDDPWO4+PSDDUNWLPscR/glQbFYmbW5XxcksUjQD9J60haAtgXGN3gmMzMuoyPRTNURMyR9F3gr0B34PKImFTnajulOasTNEMczRADNEcczRADNEcczRADNEcczRAD1DGOj0UHt5mZNdbHpRnKzMwayMnCzMyqcrIwM7OqnCxsIZK6Sdq7wTFsIOkuSRPz4wGSftTImBpJ0s8lLSepZ/65vCHpwEbH1VVJOir/PiTpMkmPStq50XHVk5NFGUmfkPR/kn6bH/eT9KUGxPEVSWfl25eLrj8i5gHfrfrC+votcCIwGyAiniANmS6cpG0kLZ3vHyjpHElrFRzGzhHxDvAl0ryjDYDjCo4BAEmfk3RIvt8iaZ0GxLCkpP0lnSTpx6VbgSH8T/597Ay0AIcAZxZYf+GcLFq7ApgJbJ0fTwNOKzIASWcARwFP5duRuaxod0j6X0lrSlqpdCuw/k9ExNg2ZXMKrL/cRcD7kj4N/AB4Cbi64Bh65q+7ASMi4t8F1w+ApJ8Ax5MSeSmu3zcglJtI68PNAd4ruxWltKrEbsAVEfE4lVeaqG8Q0p6SnpP0tqR3JM2Q9E496vpYzLMo0HoRsY+k/QAi4gNJRf8BfBEYmD/dI+kq4DEW/HMW5X/y1yPKygJYt6D635C0Xq6ztD7Y9ILqbmtORISk3YHzIuIySQcXHMOfJT0NfAB8R1IL8GHBMQB8FfgM8ChARLwiadkGxNEnInZtQL0l4yXdDqwDnJh/BvMaEMfPgS9HxOR6V+Rk0dosSb1Y8Aa1HulKo2grAKVPjss3oH4iovCmhTaOIE0w+pSkfwIvAo1qo58h6cRc/3Z5yfyeVY7pVBFxgqSfAe9ExFxJ79GYlZdn5cRZ+h9ZugExAPxd0qYR8WSD6j8UGAi8EBHvS1qZ1BRVtFeLSBTgZNHWT4DbgDUlXQNsA3yj4BjOAB6TdDfpsnY7ir+qQNIngGOAvhExXFI/YMOI+EsR9UfEC8CO+c2oW0TMKKLeduwD7A8cGhH/ktQX+EUD4tgIWFtS+f9t0c1hoyT9BlhB0uGkK9DfFlW5pCdJH+Z6AIdIeoH0gU5ARMSAOtf/qYh4mpQoANYtvvGhlXGSRgI3UvbBNiL+2NkVeQZ3Jqkb8HXgLmAr0h/fQxFR+LLDknoDW+QYHo6IfzUghpHAeGBYRGySr7gejIiBda73mI6ej4hz6ll/s5L0O2A9YAIwNxdHRBzZgFh2InXsCvhrRNxRYN0dDiyIiJfqXP8l+cPT3ZWrj8/Xs/4K8VzRThz/U6H8o9XlZLGApDERsV2DY9isQvHbwEsRUVgHb2mpY0mPRcRnctnjEfHpOtf7k46ej4if1rP+NrHcHxGfkzSD1kvilz7FLldgLJOBjaPB/7B55NP0iPgwP+4FrBYRUwuOo9JgixkRMbvIOLoSN0O1doek/wVGUjayouCRJxcCmwFPkN6UNsn3V5b0rYi4vaA4GtJ/U2QyqCYiPpe/NqIDt62JwCdpXCd/yfXAZ8sez81lWxQcx6OkbQv+Q/o/WQGYLuk14PCIGF/PyiUNq1QeEYU2C0rqA1xAajIP4H7gqIiY1tl1OVm01ugRQABTSW3jkwCU9ho/DjgV+CNQVLI4mQb030g6v6PnG9HsAvP3gV+Nsv+ZiPhHgSGsAjwlaSyt26a/UmAMAD3y1sal+mcpbRtQtNuAP0XEXwHyhLhdgVGkD1xb1rn+8uS4FLADKYEV3Yd0BXAtsFd+fGAu26mzK3IzVJORNKFtv0CprNJzdY5lZQruv6k2JDUirqp3DG1J+h5p8MOrLBgeWffO1DYxDKlUHhH3FhVDjuMO4IKIGJ0f7w4cGRE7FBzHQjvClTWdFvp/kuteHvhd0cm7o/eLzq7LVxZlJPUEvk0agQRwD/CbgttBn5F0EXBdfrwP8KykJcmzmYsgaTQwAhgdEYVNdmpEMqjBUaSRYG82KoCik0IHvgVcI+lXpA8RLwMVm2Tq7N+Sjqf1/8l/8hVgI+Y7vA/0a0C9pWVfRuTH+wF1+Tv1lUUZSZeSxs+X3rAOAuZGxGEFxtAL+A7wOdI/4/2ky+oPSbOa3y0ojiGkf8AvAmNJ/Th/KXVs1rHecyPiaEl/pvI+60U3u5BHvuxU5ACDCjFsRWqb3ghYgrQJ2HtFdrK3iWcZ0vtHQ4Y0S1qFdLVX/n/yU9JgkL4RMaXO9Zf/fXYn/V5GRcQJ9ay3Qhx9gV+RVp0I4O+kK71ObyJ1sihTabRPESOAmln+pPZ54HBg13q/OUnaPCLGN0OzS9kw3v7AhsDNtO4vKGwYr6RxpLWxrgcGkT7N94uIk4qKIcexJPA1YG1a99+cUmQcjdbm73MOabRip3cq1xDHNhHxQLWyzuBmqNbmSlovIp4HkLQuC8a0FyJPfjsD2JjUcQZARBTZyV6KpRfwZdIVxmYsuOKqm7JRLCsBt0REI2bQl5RGQf0j35bIt4aIiCmSukfEXOAKSX9vQBg3kT69j6cBqxs0y5VnRNwraTUWdHQ/V0S9FVxA+t+sVvaROVm0dhxwd54VKmAtip/CfwXp8vqXwNBcfyMWKBtJGlFyG/Br4J7SelUF+QpwrqQxpHbpvxbdDNR2GK+k5VJxQ5pe3s+jjiZI+jlpCG0jltpo9JpMv8tfz2pgDCgt4f8LUr+mgAskHRcRNxRU/9akIcwtbSayLkdqFuv8Ot0M1Vq+zN6Q9AfwdNGfbCWNj4jNJT0ZEZvmsvsiYtuC49gVuCN/im2IPODgC6Qrm8/leArrPyqLYxApiZeuNN4mLVFd17H8bWJYizQaawng+6Q1wy6sd9t8hTguIY2GatSaTOWx9CL1TzzTgLofJ/VjvZYftwB3FtVknZvBticNOLi47KkZwJ8jotOvdJwsyuT2+S+ycHtskW3TDwDbAjcAfwP+CZwZERsWFUNZLJ9l4Z9F0ZOOepLGzx8CbBsRLUXWn2N4AjgiIu7Ljz9HeqMubOhsrrdhb45lMTwFrE9a2LGwNZkqxPFl0tXFEhGxjqSBwClFNUOVf5jLj7sBj5eXFRTHWlHnJU5K3AzV2p9Jo46epDHD7wCOBj4BHEmaiDcUKHo57HbXIqKgSUf5ymZf0vd/D3Ap0Kjd+2aUEgVARNyflwApTPmbI1D4m2OZLxRcX3tOBgaT/jaIiAmS1i6w/tsk/ZUFQ1b3AW4tsP6SXymvAFzmbWAcadh/p41e9JVFGUlPFP0JqVk1ei0iSdeR+ipubXAnN5J+SUrgI0gJcx/SMhN/AIiIRwuIYTxpVNo9sWCtrob8veYrq34RcUVuflkmIl4sOIaHI2JLtV67rNCfh6Q9WTB0d0xE/KmoustiOI+0U1950voX0AtYLiIO6qy6fGXR2q2Sdo7i1l9aSJ4hu1dEvJUfrwhcFxG7FBxKQ9ciioiGbKHajoH5a9tFDj9LSh5FrDQ6JyLeVmOXwy4t9DiI1K93BQt2ytum4FAmStof6J5HEB5JmmNQmEjLgM9fClzSPyKib5ExAJ+J1ouf/ll5QVRJkzqzIieL1h4C/pTbH2fTgNVFgVVKiYJU+X8krVpg/fPjoIFrEeVPbT8DViX9Hhrxu4BU6dCi66yg4W+OWbPslPc94Iekv80RwF9JzbaN1IhM3iKpb2kSXp6kt0p+blb7hy06J4vWzibNhHyyUc0vwLw2v/y1qDCevAAnN6DOcoVtF1mNpBVIk+DWpnVnf5GLGjbLm2NT7JQXEe+Tfh4/bET97WjE/+mxwP2Sniclq3VI2+4uTSfPi3KyaO05YGIDEwWkP/77JZVmKm8HDC86iDzpaC1S2/SdSjvn1WX8djsK2y6yBreQrjobNvChid4cG71TXsXJeCX1vvJV+5tzCVimnnVXEhG35CvNT7FguH+pU/vczqzLHdxlJF1JWo78Vhq0rEOOYxUWrPb6YDRmt77DSUlqpYhYL/9BXhwFrS6aO+4+SQHbRdYQy6MR0ekzYmusu6FvjpWosTvlVVwGpqTey8GoiTbnKilqiLuTRZn2/hCK+ANQ3ttXlXfKK2TETZt4JpCGJj5cNtqk1djyOtdf2HaRNcTyfeBd4C+0Tlx13xSr0W+O1tzaG+JejyZSJ4smoebb27fV0ERJPYBHu+LQYklHAKcDb7HgU35EQet15cmiV0XEgUXU104MbbeWbaXogQdqojXUGqnIIe7us6A5FieLiOH5azOMvAG4V9JJQK/c7PAd0qTFQqjA7SJrcAywfiOaAwEiYq6kFklLRNkudQXHsCyApFNI4/h/R2qGOoAFy6AUqSnWUGsChQ1x95UFzbUsdo6nGZbZ6AYcSlnbNHBpUZ3/eb7JtSxYOO5A4ICI6PTtImuIZTSwb+5kbojcqbwZMJrW+8MX3Z/2cERsWa2sgDiaYg21RsstEQNJe87UdYi7ryxotSz2wIg4r/w5SUcBRe6h0NBlNkoiYp6kG4EbI+L1IuvOWiKivN/iSklHNyAOSL+HCfkfs/wfssihs6/kWzca80m+ZK6kA0iz64O0M1sjFpv8MH+geU7Sd0lrqDViPtJ8kjYrum+RAoe4+8qiTKVRL+XLCRQUQ6OX2RDp8v67LJgMN5e00mhhG9xIuhO4ktbbRR5S1GisNrFUXJsrCt4CVml3uogCt7mtEMPawHksaB58ADg6IqYWHMcWwGRgBdJ8k+WBn0XEw0XG0Sam30bE4Y2qv96cLABJ+wH7k9Z5ua/sqWVJ26ruWGAs15O2RWzIMht55M9uwPDI6/0obQJ1EXBbRPyyoDjKt4uE9KZ0VBS0wmaFeBq5HPZ3gBNYsH/Fu6Q3xguLjqVZ5QEY+0TENY2OpQiS7o+Iz1UYeFC3lQ6cLJg/S3od0uiK8j10ZwBPRAGb7pR1ri9LQW2Q7cTxGGmd/jfalLcAtxd5ldUs1MDlsCX9iLQG1Xcj4oVcti7p0/3DEXFavWPIdf4gIn4u6QIqDwIppElOaQOqI4A1SP03d+TH/0taInz3guK4q+1VbqWy/ybuswDyp9WXWPApthFGA6vR+soGYAipPbYoPSuN+omI15X2liiE0m5wpwEfkHbr+zSpueP3RcVQ5mQWXg57nYLqPgj4dNmsXCLiBaWd2h4n/YyKUJpNP66g+trzO9KKvw8Ch5F2t1wC2CMiJtS7cklLkVYgXkVpkc/SCKzlgNXrXX87MXUnvXeUD4j5R2fX42RBh2PIi1y8bnfgpIh4ok1s75H6EC4rIAboePGxIodt7hwRP5D0VWAasBdwN2mF06JVWvG1sEvyqLAnQUR8IKmwpUciojRs+omIeKyoeitYt2z006XAG6TmwaL2F/kmac+Z1Un7kJf+KN4hbT9cKEnfI70/vMqCpWgC6PT5UE4WLBhD3mBrt00UABExTsVu6vJpSe9UKBdlk58KULqK2Q0YERH/VuOW527kiq/TJO0QEXeVF0r6PI1ZPv4cSb2B60lL53fqMtg1mF26k+efvFhgoiCPljxP0vci4oKi6u3AUcCGEfFmvStysqhAaUnw8lmhnX5JV0FHb8S9CqgfgIgocrHAjvxZ0tOkZqjv5D6TTtv1axE1csXXI4GbJN1P+iQbwBak0UiFtM+Xi4ihkj5J2rXwktyHMLKovhNaf5gRadLoOxTUCpBHYb1cShSShgFfIzVjnxwFLAHTxsuknfHqzh3cZSR9hbRM+erAa8BawOSI6F9A3SOAv0XEb9uUH0pqktmn3jE0m9wm/E7+BLk0aUe2VxsdV9FyO/n+QH/Sm+Ik4JpKzVMFx7Up8APSKKQlGhlLUSQ9CuyYr3S3I803+R5pUMpGEfH1guIorX7bn7QR1c3UefFTJ4sykh4n7Xp2Z6T1kIYC+5WW4qhz3asBfyL1C5QmCQ4idd59NSL+Ve8Ymomky6Ns0cA8x+CmIkeb5Jnb7SpqhFozkbQRaevOvUj9BdcBf4iI1xoaWEEkPR4Rn873fw28HhEn58cTImJgQXEUvvqtm6Famx0Rb0rqJqlbRNwt6WdFVJw/MX82J6hNcvHNEfG3IupvQv+UdFFEfDtfYdxMgfsmZFuTLvNHAA/TNdceausK0s9jp4h4pdHBNEB3ST3ycPodaL3XTGHvp5WSQZ7RvkxEVOpz/Mh8ZVEmzxregzTfYhVSU9QWEfHZRsbVVeVEvTywOXBmRPyh4Pq7AzuRZo8PICWsEQ3o1G0qkpYANsgPn4mI2R29/r+JpB+SBl28AfQFNouIkLQ+aWXgQvcil3Qt8C3SKgvjSf8v50TELzq9LieLBXK7+Aek9XcOIP3grylipIElSntvz38I/B9pguJt0JjNj3JcS5KSxi9IE/IKHQmTRz89FA1czDDHMYS0TtlU0u9nTeDgiBjTyLiKJGkroDdpkup7uWwD0qf6wvediYiBeb2uzYHjgfFRh60EnCzaobRb3ZvhH1ChVHnTo5KIgjc/yknii6REsTZp8uTlEVHkREkkXU3aPfFN0sTN+4D7I+I/BccxHti/tOxJfpMcERGbFxmHJZImkTrXrwV+FWk75Pn9Kp3JfRbM/6RwJvBv0pDI35GaobpJGhYRtzUyvq4kIg5pdAwlkq4i9R/dCvw0IiY2KpaIGJZjWh34OmkC2OoU/z/cs3x9rIh4tsiZ/baQ35Cu8h4HxuSli9xnUS+SxgEnkZqdLgG+EBEPSfoU6VNTl1sPqdHyG/VREfFWfrwicHaRVxZ5hnRphddCFmvrIJYDgW2BTUnt5fcD90XEg0XFkOO4gjRTuLTPyAFAj2ZK8l1dWQd8557XyaL1kDdJkyNio7LnHnOyKF6ln3tX/l1IegN4HrgYuDsKXhK8LI4lSQv3fY6UNMcAF0bEzA4PtLqR9EXSfIvyicSdvp2Am6GS8jV2PmjznLNpY3STtGKpTV7SSnThv9eIWEVSf2A74PS87MgzEXFQUTHkoZnjI2IToNAd+qwySReTFjYcClxKaqIcW4+6uuw/XxulJQTKlw+A4tdDsgXOBv4u6Yb8eC/g9AbG01B5WY2+pFUF1iY1mRa2kCDM3z3xcUl9C1oCx6r7bEQMkPRERPxU0tlAXUYMOlnQVOshWRYRV+eRN0NJSXvPiHiqwWE10v1lt19FxLQGxdEbmCRpLK33Au9ys9mbRGnJl/fz4Ic3SXvzdDonC2taETFJ0uvkq7uu/Im2NG5e0tLRwG1VgU5fRsIWndJ+9A8AoyWtAPwceJTUbH5pXep0B7c1o0Yu6tiMJG1N2tNkmYjoK+nTwDcj4jsF1b8Uaabw+sCTwGX1GHFjtZF0FmkHxY1Iw2b/nm8P1msSsZOFNaVGLurYjCQ9TOq8HF0aESZpYu5sLqL+kaS9JO4DvgC8FBFHFVG3tS8vvTKIlDi2zre3ImLjzq7LzVDWrBq2qGOzioiX1XoDqLkFVr9xLNih7jLqNOLGFlkv0pauy+fbK6Qrv07nZGHN6q28LPl9wDWSXgO6crPHy5I+C0T+NHkkC/bFLkL5DnVz1LhdCw2QdAlpbsUM0orIfyctIFi35V/cDGVNSdInSCM9BBxI+vR0TRS/E1lTyGuVnQfsSPqZ3E6a4V7IIpeS5rJg9JNIn2jfpwGz2Q0k3UZakmgiua8CmFjPteycLKypSJrBwhMhSx9jPyTNYv5htNmT2qyrUbq860/qr/gsaR2zf5M6uTvcHGmx6nOysI+LvL/EJqQrjEI6dhtN0o87eDoioqi9wK1JSepD2pP9s8CXgJUjYoXOrsd9FvaxERFzgcclFbqXRINVmlOxNHAosDJplWTrYiQdSUoO25D6kx4gNUVdTp06uH1lYfYxIWlZ4ChSohhFWoW3S+x9ba1JOofUV/FAREwvpE4nC7PmlhdRPIa0HPhVwHlFb3pk5mYosyYm6RfAnqR9VjaNiHcbHJJ1Ub6yMGtieQOmmaQ5Jg3dgMm6NicLMzOrqlujAzAzs+bnZGFmZlU5WZiZWVVOFmadTNInJV0n6XlJT0m6RdJ2pS1iJQ2UtFuj4zRbFE4WZp0or9fzJ+CeiFgv7ytwEmnk0tfzywYCThb2seJkYda5hpL24ri4VBARE0hLjE/My4ufAuwjaYKkfSQ9J6kFIO/fMSWvMmvWNJwszDrXJsD49p6MiFnAj4GRETEwIkYCvyfNzoa0BPnjEfFG3SM1WwROFmaNdzkwLN//H+CKBsZiVpGThVnnmgRsvigHRMTLwKuSPg9sCdxaj8DMPgonC7PO9TdgSUmHlwokbQGsVfaaGcCybY67lNQcNSovxW7WVJwszDpR3tbyq8BOeejsJOBk4JWyl90NbFzq4M5lo4FlcBOUNSmvDWXWBCQNAn4ZEds2OhazSrxEuVmDSToB+DYLRkSZNR1fWZiZWVXuszAzs6qcLMzMrConCzMzq8rJwszMqnKyMDOzqpwszMysqv8PFDqC+ChIFYAAAAAASUVORK5CYII=\n",
      "text/plain": [
       "<Figure size 432x288 with 1 Axes>"
      ]
     },
     "metadata": {
      "needs_background": "light"
     },
     "output_type": "display_data"
    }
   ],
   "source": [
    "r_bar=complete_df.groupby(\"City\")\n",
    "# Create a dataframe mean\n",
    "r_count = pd.DataFrame(r_bar[\"Number of Reviews\"].mean())\n",
    "# Create a bar chart based off of the group series from before and label the title\n",
    "# used hexidecimal code for fun and you can pick way more specfic colors \n",
    "r_chart = r_count.plot(kind=\"bar\", title=\"Average Number of Reviews for Cities Sam\", color=\"#A36ACF\",)\n",
    "\n",
    "\n",
    "\n",
    "# Set the X-label and Y-label\n",
    "r_chart.set_xlabel(\"City\")\n",
    "r_chart.set_ylim([0, 3000])\n",
    "\n",
    "r_chart.set_ylabel(\"Number of Reviews\")"
   ]
  },
  {
   "cell_type": "code",
   "execution_count": null,
   "id": "8d14aa84",
   "metadata": {},
   "outputs": [],
   "source": []
  }
 ],
 "metadata": {
  "kernelspec": {
   "display_name": "Python 3 (ipykernel)",
   "language": "python",
   "name": "python3"
  },
  "language_info": {
   "codemirror_mode": {
    "name": "ipython",
    "version": 3
   },
   "file_extension": ".py",
   "mimetype": "text/x-python",
   "name": "python",
   "nbconvert_exporter": "python",
   "pygments_lexer": "ipython3",
   "version": "3.9.12"
  }
 },
 "nbformat": 4,
 "nbformat_minor": 5
}
