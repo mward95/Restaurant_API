{
 "cells": [
  {
   "cell_type": "code",
   "execution_count": 1,
   "id": "d0e1a5dc",
   "metadata": {},
   "outputs": [],
   "source": [
    "# Dependencies\n",
    "import numpy as np\n",
    "import pandas as pd\n",
    "import matplotlib.pyplot as plt\n",
    "import requests\n",
    "import json\n",
    "from census import Census\n",
    "from pprint import pprint\n",
    "# import gmaps\n",
    "\n",
    "# Google API Key\n",
    "from config import gkey\n",
    "\n",
    "\n"
   ]
  },
  {
   "cell_type": "code",
   "execution_count": 2,
   "id": "5a3579e7",
   "metadata": {},
   "outputs": [],
   "source": [
    "# geocoordinates\n",
    "\n",
    "target_coordinates = \"33.753746, -84.386330\"\n",
    "# target_coordinates = \"43.6187102, -116.2146068\"\n",
    "target_search = \"mexican\"\n",
    "# meters is the units\n",
    "target_radius = 1000\n",
    "target_type = \"restaurant\"\n",
    "\n",
    "# set up a parameters dictionary\n",
    "params = {\n",
    "    \"location\": target_coordinates,\n",
    "    \"keyword\": target_search,\n",
    "    \"radius\": target_radius,\n",
    "    \"type\": target_type,\n",
    "    \"key\": gkey\n",
    "}\n",
    "\n",
    "# base url\n",
    "base_url = \"https://maps.googleapis.com/maps/api/place/nearbysearch/json\"\n",
    "\n",
    "frame_url = \"https://maps.googleapis.com/maps/api/place/findplacefromtext/json?input=input=location=33.753746%2C+-84.386330&keyword=mexican&radius=1000&type=restaurant&key=API_KEY_HERE\"  \n",
    "\n",
    "# run a request using our params dictionary\n",
    "response = requests.get(base_url, params=params)"
   ]
  },
  {
   "cell_type": "code",
   "execution_count": null,
   "id": "34e6ef2a",
   "metadata": {},
   "outputs": [],
   "source": []
  },
  {
   "cell_type": "code",
   "execution_count": 3,
   "id": "829ad177",
   "metadata": {},
   "outputs": [
    {
     "name": "stdout",
     "output_type": "stream",
     "text": [
      "https://maps.googleapis.com/maps/api/place/nearbysearch/json?location=33.753746%2C+-84.386330&keyword=mexican&radius=1000&type=restaurant&key=\n"
     ]
    }
   ],
   "source": [
    "# print the response url, avoid doing for public github repos in order to avoid exposing key\n",
    "print(response.url)"
   ]
  },
  {
   "cell_type": "code",
   "execution_count": 4,
   "id": "851d8bb4",
   "metadata": {},
   "outputs": [
    {
     "name": "stdout",
     "output_type": "stream",
     "text": [
      "{\n",
      "    \"error_message\": \"You must use an API key to authenticate each request to Google Maps Platform APIs. For additional information, please refer to http://g.co/dev/maps-no-account\",\n",
      "    \"html_attributions\": [],\n",
      "    \"results\": [],\n",
      "    \"status\": \"REQUEST_DENIED\"\n",
      "}\n"
     ]
    }
   ],
   "source": [
    "# convert response to json\n",
    "places_data = response.json()\n",
    "    \n",
    "# Print the json (pretty printed)\n",
    "print(json.dumps(places_data, indent=4, sort_keys=True))\n",
    "# places_data_json = pd.read_json('base_url')"
   ]
  },
  {
   "cell_type": "code",
   "execution_count": 18,
   "id": "7e72cee9",
   "metadata": {},
   "outputs": [
    {
     "name": "stdout",
     "output_type": "stream",
     "text": [
      "{\n",
      "   \"candidates\" : [\n",
      "      {\n",
      "         \"formatted_address\" : \"140 George St, The Rocks NSW 2000, Australia\",\n",
      "         \"geometry\" : {\n",
      "            \"location\" : {\n",
      "               \"lat\" : -33.8599358,\n",
      "               \"lng\" : 151.2090295\n",
      "            },\n",
      "            \"viewport\" : {\n",
      "               \"northeast\" : {\n",
      "                  \"lat\" : -33.85824377010728,\n",
      "                  \"lng\" : 151.2104386798927\n",
      "               },\n",
      "               \"southwest\" : {\n",
      "                  \"lat\" : -33.86094342989272,\n",
      "                  \"lng\" : 151.2077390201073\n",
      "               }\n",
      "            }\n",
      "         },\n",
      "         \"name\" : \"Museum of Contemporary Art Australia\",\n",
      "         \"opening_hours\" : {\n",
      "            \"open_now\" : false\n",
      "         },\n",
      "         \"rating\" : 4.4\n",
      "      }\n",
      "   ],\n",
      "   \"status\" : \"OK\"\n",
      "}\n",
      "\n"
     ]
    }
   ],
   "source": [
    "import requests\n",
    "\n",
    "url = \"https://maps.googleapis.com/maps/api/place/findplacefromtext/json?input=Museum%20of%20Contemporary%20Art%20Australia&inputtype=textquery&fields=formatted_address%2Cname%2Crating%2Copening_hours%2Cgeometry&key=API_KEY_HERE\"\n",
    "\n",
    "payload={}\n",
    "headers = {}\n",
    "\n",
    "response = requests.request(\"GET\", url, headers=headers, data=payload)\n",
    "\n",
    "print(response.text)"
   ]
  },
  {
   "cell_type": "code",
   "execution_count": 5,
   "id": "775214d0",
   "metadata": {},
   "outputs": [],
   "source": [
    "# Print the name and address of the first restaurant that appears\n",
    "# print(places_data[\"results\"][0][\"name\"]),(places_data[\"results\"][0][\"vicinity\"])\n",
    "# print(places_data[\"results\"][0][\"vicinity\"])\n",
    "# print(places_data[\"results\"][10][\"name\"])\n",
    "# print(places_data[\"results\"][10][\"vicinity\"])\n",
    "\n",
    "\n",
    "# name = []\n",
    "# rating = []\n",
    "# user_ratings_total = []\n",
    "# latitude = []\n",
    "# longatiude = []\n",
    "# business_satus = [] \n",
    "# place_id = []\n",
    "\n",
    "\n",
    "\n",
    "\n",
    "\n",
    "\n"
   ]
  },
  {
   "cell_type": "code",
   "execution_count": 11,
   "id": "624ec5b7",
   "metadata": {},
   "outputs": [
    {
     "ename": "AttributeError",
     "evalue": "'dict' object has no attribute 'iterrows'",
     "output_type": "error",
     "traceback": [
      "\u001b[1;31m---------------------------------------------------------------------------\u001b[0m",
      "\u001b[1;31mAttributeError\u001b[0m                            Traceback (most recent call last)",
      "\u001b[1;32m<ipython-input-11-2007d7b3f6f1>\u001b[0m in \u001b[0;36m<module>\u001b[1;34m\u001b[0m\n\u001b[0;32m     16\u001b[0m \u001b[1;33m\u001b[0m\u001b[0m\n\u001b[0;32m     17\u001b[0m \u001b[1;31m# Loop through the list of cities and perform a request for data on each\u001b[0m\u001b[1;33m\u001b[0m\u001b[1;33m\u001b[0m\u001b[1;33m\u001b[0m\u001b[0m\n\u001b[1;32m---> 18\u001b[1;33m \u001b[1;32mfor\u001b[0m \u001b[0mi\u001b[0m\u001b[1;33m,\u001b[0m \u001b[0mrow\u001b[0m \u001b[1;32min\u001b[0m \u001b[0mplaces_data\u001b[0m\u001b[1;33m.\u001b[0m\u001b[0miterrows\u001b[0m\u001b[1;33m(\u001b[0m\u001b[1;33m)\u001b[0m\u001b[1;33m:\u001b[0m\u001b[1;33m\u001b[0m\u001b[1;33m\u001b[0m\u001b[0m\n\u001b[0m\u001b[0;32m     19\u001b[0m \u001b[1;31m# for restaurnts in places_data:\u001b[0m\u001b[1;33m\u001b[0m\u001b[1;33m\u001b[0m\u001b[1;33m\u001b[0m\u001b[0m\n\u001b[0;32m     20\u001b[0m     \u001b[0mresponse\u001b[0m \u001b[1;33m=\u001b[0m \u001b[0mrequests\u001b[0m\u001b[1;33m.\u001b[0m\u001b[0mget\u001b[0m\u001b[1;33m(\u001b[0m\u001b[0mbase_url\u001b[0m\u001b[1;33m,\u001b[0m \u001b[0mparams\u001b[0m\u001b[1;33m=\u001b[0m\u001b[0mparams\u001b[0m\u001b[1;33m)\u001b[0m\u001b[1;33m.\u001b[0m\u001b[0mjson\u001b[0m\u001b[1;33m(\u001b[0m\u001b[1;33m)\u001b[0m\u001b[1;33m\u001b[0m\u001b[1;33m\u001b[0m\u001b[0m\n",
      "\u001b[1;31mAttributeError\u001b[0m: 'dict' object has no attribute 'iterrows'"
     ]
    }
   ],
   "source": [
    "# df_nested_list = pd.json_normalize(base_url, record_path =['name'])\n",
    "\n",
    "\n",
    "# df = pd.read_json(base_url)\n",
    "# df.head()\n",
    "\n",
    "\n",
    "# build our data frame columns\n",
    "name = []\n",
    "rating = []\n",
    "user_ratings_total = []\n",
    "lat = []\n",
    "lng = []\n",
    "business_status = []\n",
    "price_level = []\n",
    "\n",
    "# Loop through the list of cities and perform a request for data on each\n",
    "# for i, row in places_data.iterrows():\n",
    "# # for restaurnts in places_data:\n",
    "#     response = requests.get(base_url, params=params).json()\n",
    "    \n",
    "    \n",
    "    \n",
    "    name.append(response[\"results\"][i][\"name\"])\n",
    "#     rating.append(response[\"results\"][i][\"rating\"])\n",
    "#     user_ratings_total.append(response[\"results\"][i][\"user_ratings_total\"])\n",
    "#     lat.append(response[\"results\"][i][\"geometry\"][\"location\"][\"lat\"])\n",
    "#     lng.append(response[\"results\"][i][\"geometry\"][\"location\"][\"lng\"])\n",
    "#     business_status.append(response[\"results\"][i][\"business_status\"])\n",
    "#     price_level.append(response[\"results\"][i][\"price_level\"])\n",
    "\n",
    "#     lat.append(response['coord']['lat'])\n",
    "#     temp.append(response['main']['temp'])\n",
    "print(name)"
   ]
  },
  {
   "cell_type": "code",
   "execution_count": null,
   "id": "d199968d",
   "metadata": {},
   "outputs": [],
   "source": [
    "# atl_df=pd.DataFrame({\"places_data\":places_data})\n",
    "# atl_df[\"place_id\"] = \"\"\n",
    "# atl_df[\"name\"] = \"\"\n",
    "# atl_df[\"rating\"] = \"\"\n",
    "# atl_df[\"user_ratings_total\"] = \"\"\n",
    "# atl_df[\"lat\"] = \"\"\n",
    "# atl_df[\"lng\"] = \"\"\n",
    "# atl_df[\"business_status\"] = \"\"\n",
    "# create a data frame from cities, lat, and temp\n",
    "# weather_dict = {\n",
    "#     \"city\": cities,\n",
    "#     \"lat\": lat,\n",
    "#     \"temp\": temp\n",
    "# }\n",
    "# weather_data = pd.DataFrame(weather_dict)\n",
    "# weather_data.head()\n",
    "\n",
    "\n",
    "\n",
    "# atl_dict = {\n",
    "# #     \"Place ID\":place_id,\n",
    "#     \"Name\":name,\n",
    "#     \"Rating\":rating,\n",
    "#     \"Date\":dates,\n",
    "#     \"User Total Rating\":user_ratings_total,\n",
    "#     \"Latitude\":lat,\n",
    "#     \"Longatiude\":lng,\n",
    "#     \"Business Status\":business_status,\n",
    "#     \"Price Level\":price_level,\n",
    "\n",
    "\n",
    "places_data_df=pd.DataFrame(places_data)\n",
    "places_data_df.head()\n"
   ]
  },
  {
   "cell_type": "code",
   "execution_count": null,
   "id": "68e2f352",
   "metadata": {},
   "outputs": [],
   "source": []
  },
  {
   "cell_type": "code",
   "execution_count": null,
   "id": "b3d455e3",
   "metadata": {},
   "outputs": [],
   "source": []
  },
  {
   "cell_type": "code",
   "execution_count": null,
   "id": "ef69a02e",
   "metadata": {},
   "outputs": [],
   "source": []
  },
  {
   "cell_type": "code",
   "execution_count": null,
   "id": "204abf80",
   "metadata": {},
   "outputs": [],
   "source": []
  },
  {
   "cell_type": "code",
   "execution_count": null,
   "id": "ff3de7b4",
   "metadata": {},
   "outputs": [],
   "source": []
  },
  {
   "cell_type": "code",
   "execution_count": null,
   "id": "de644e59",
   "metadata": {},
   "outputs": [],
   "source": []
  },
  {
   "cell_type": "code",
   "execution_count": null,
   "id": "f592f5a3",
   "metadata": {},
   "outputs": [],
   "source": []
  },
  {
   "cell_type": "code",
   "execution_count": null,
   "id": "deea14ed",
   "metadata": {},
   "outputs": [],
   "source": []
  },
  {
   "cell_type": "code",
   "execution_count": null,
   "id": "ba582251",
   "metadata": {},
   "outputs": [],
   "source": []
  },
  {
   "cell_type": "code",
   "execution_count": null,
   "id": "38faff52",
   "metadata": {},
   "outputs": [],
   "source": []
  },
  {
   "cell_type": "code",
   "execution_count": null,
   "id": "10d9dd42",
   "metadata": {},
   "outputs": [],
   "source": []
  },
  {
   "cell_type": "code",
   "execution_count": null,
   "id": "2ae3513f",
   "metadata": {},
   "outputs": [],
   "source": []
  },
  {
   "cell_type": "code",
   "execution_count": null,
   "id": "728c4b25",
   "metadata": {},
   "outputs": [],
   "source": []
  },
  {
   "cell_type": "code",
   "execution_count": null,
   "id": "78147ece",
   "metadata": {},
   "outputs": [],
   "source": []
  },
  {
   "cell_type": "code",
   "execution_count": null,
   "id": "9379193e",
   "metadata": {},
   "outputs": [],
   "source": [
    "url=\"https://api.yelp.com/v3/businesses/search?term=delis&latitude=37.786882&longitude=-122.399972\"\n",
    "# Make request and store response\n",
    "response = requests.get(url)\n",
    "\n",
    "# Verify status code\n",
    "response.status_code"
   ]
  },
  {
   "cell_type": "code",
   "execution_count": null,
   "id": "d1401326",
   "metadata": {},
   "outputs": [],
   "source": []
  }
 ],
 "metadata": {
  "kernelspec": {
   "display_name": "Python 3",
   "language": "python",
   "name": "python3"
  },
  "language_info": {
   "codemirror_mode": {
    "name": "ipython",
    "version": 3
   },
   "file_extension": ".py",
   "mimetype": "text/x-python",
   "name": "python",
   "nbconvert_exporter": "python",
   "pygments_lexer": "ipython3",
   "version": "3.6.13"
  }
 },
 "nbformat": 4,
 "nbformat_minor": 5
}
